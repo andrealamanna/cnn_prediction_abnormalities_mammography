{
  "cells": [
    {
      "cell_type": "markdown",
      "metadata": {
        "id": "view-in-github",
        "colab_type": "text"
      },
      "source": [
        "<a href=\"https://colab.research.google.com/github/andrealamanna/cnn_prediction_abnormalities_mammography/blob/main/Ensemble.ipynb\" target=\"_parent\"><img src=\"https://colab.research.google.com/assets/colab-badge.svg\" alt=\"Open In Colab\"/></a>"
      ]
    },
    {
      "cell_type": "markdown",
      "metadata": {
        "id": "1BPdoFtT4EGy"
      },
      "source": [
        "# **Task 5**\n",
        "## Ensemble"
      ]
    },
    {
      "cell_type": "markdown",
      "metadata": {
        "id": "tilduDssak7x"
      },
      "source": [
        "#Perliminar phases"
      ]
    },
    {
      "cell_type": "code",
      "execution_count": null,
      "metadata": {
        "colab": {
          "base_uri": "https://localhost:8080/"
        },
        "id": "sPIkZiD734ci",
        "outputId": "b8de6da2-8c30-45b8-c257-9fa5ff07755d"
      },
      "outputs": [
        {
          "output_type": "stream",
          "name": "stdout",
          "text": [
            "Mounted at /content/gdrive\n"
          ]
        }
      ],
      "source": [
        "from google.colab import drive\n",
        "drive.mount('/content/gdrive', force_remount=True)"
      ]
    },
    {
      "cell_type": "code",
      "execution_count": null,
      "metadata": {
        "colab": {
          "base_uri": "https://localhost:8080/"
        },
        "id": "InPOLuCi4JpH",
        "outputId": "b35fa135-a9f6-4e3d-f231-b2479d9ba166"
      },
      "outputs": [
        {
          "output_type": "stream",
          "name": "stdout",
          "text": [
            "Done\n"
          ]
        }
      ],
      "source": [
        "import matplotlib.pyplot as plt\n",
        "import tensorflow as tf\n",
        "import seaborn as sns # Grouped bar plot\n",
        "import itertools\n",
        "import numpy as np\n",
        "import pandas as pd \n",
        "import os \n",
        "import gc # Garbage Collector\n",
        "from skimage import data, img_as_float\n",
        "from skimage import exposure\n",
        "\n",
        "from tensorflow import keras\n",
        "from tensorflow.keras import backend as K # Useful to free GPU and memory\n",
        "from sklearn.metrics import confusion_matrix, classification_report\n",
        "from tensorflow.keras.preprocessing.image import ImageDataGenerator\n",
        "from tensorflow.keras.preprocessing import image\n",
        "from tensorflow.keras.models import load_model\n",
        "from tensorflow.keras.utils import plot_model\n",
        "from tensorflow.keras import optimizers\n",
        "from keras import layers, models, regularizers, metrics\n",
        "from keras.models import load_model\n",
        "from sklearn.metrics import roc_curve, roc_auc_score\n",
        "from sklearn.metrics import auc\n",
        "\n",
        "from keras.applications.inception_v3 import InceptionV3\n",
        "from keras.applications.inception_v3 import preprocess_input\n",
        "\n",
        "print(\"Done\")"
      ]
    },
    {
      "cell_type": "code",
      "execution_count": null,
      "metadata": {
        "colab": {
          "base_uri": "https://localhost:8080/"
        },
        "id": "5zONincssblV",
        "outputId": "5ea69956-9397-4d75-aa63-63a014395344"
      },
      "outputs": [
        {
          "output_type": "stream",
          "name": "stdout",
          "text": [
            "Done\n"
          ]
        }
      ],
      "source": [
        "BATCH_SIZE = 32\n",
        "EPOCHS = 100\n",
        "IMAGE_HEIGHT = 150\n",
        "IMAGE_WIDTH = 150\n",
        "#PAT = 4\n",
        "\n",
        "METRICS = [\n",
        "      metrics.BinaryAccuracy(name='acc'),\n",
        "]\n",
        "\n",
        "base_path = \"/content/gdrive/My Drive/Colab Notebooks/DLProject/Lamanna/\"\n",
        "\n",
        "MODEL_PATH = os.path.join(base_path, \"models\")\n",
        "MODEL_PRETRAINED_PATH = os.path.join(MODEL_PATH, \"Pretrained\")\n",
        "MODEL_SCRATCH_PATH = os.path.join(MODEL_PATH, \"Scratch\")\n",
        "MODEL_ENSEMBLE_PATH = os.path.join(MODEL_PATH, \"Ensemble\")\n",
        "PLOTS_PATH = os.path.join(base_path, \"plots/Ensemble\")\n",
        "\n",
        "train_img_path = os.path.join(base_path, \"numpy data/train_tensor.npy\")\n",
        "train_label_path = os.path.join(base_path, \"numpy data/train_labels.npy\")\n",
        "test_img_path = os.path.join(base_path, \"numpy data/public_test_tensor.npy\")\n",
        "test_label_path = os.path.join(base_path, \"numpy data/public_test_labels.npy\")\n",
        "\n",
        "print(\"Done\")"
      ]
    },
    {
      "cell_type": "markdown",
      "metadata": {
        "id": "Mvha-L4fZN_A"
      },
      "source": [
        "# Utility Functions"
      ]
    },
    {
      "cell_type": "code",
      "execution_count": null,
      "metadata": {
        "colab": {
          "base_uri": "https://localhost:8080/"
        },
        "id": "A6Xj1de5spDG",
        "outputId": "d6a72583-72bc-4259-956c-c5df7d366f74"
      },
      "outputs": [
        {
          "output_type": "stream",
          "name": "stdout",
          "text": [
            "Done\n"
          ]
        }
      ],
      "source": [
        "# Remove baseline samples\n",
        "def remove_baseline(samples): \n",
        "  max_index = int(len(samples)/2)\n",
        "  indexes = [2*i + 1 for i in range(0, max_index)]\n",
        "\n",
        "  return samples[indexes]\n",
        "\n",
        "# Interchange the dataset index\n",
        "def shuffle_dataset(i, j):\n",
        "  indexes = tf.range(start=0, limit=tf.shape(i)[0], dtype=tf.int32)\n",
        "  shuffled_indexes = tf.random.shuffle(indexes)\n",
        "\n",
        "  i = tf.gather(i, shuffled_indexes)\n",
        "  j = tf.gather(j, shuffled_indexes)\n",
        "\n",
        "  i = i.numpy()\n",
        "  j = j.numpy()\n",
        "\n",
        "  return i, j\n",
        "\n",
        "# Unify masses and calcifications \n",
        "def labels_mapping_masscalc(labels):\n",
        "  labels_local = np.zeros(shape=labels.shape, dtype=\"float32\")\n",
        "  #labels_local = np.zeros(shape=(int(labels.shape[0]/2),), dtype=\"float32\")\n",
        "  idx = 0\n",
        "  for label in labels:\n",
        "    # Masses\n",
        "    if label == 1 or label == 2:\n",
        "      labels_local[idx] = 0\n",
        "      idx += 1\n",
        "    # Calcifications\n",
        "    if label == 3 or label == 4:\n",
        "      labels_local[idx] = 1\n",
        "      idx += 1\n",
        "\n",
        "  return labels_local\n",
        "\n",
        "# Unify mal and ben \n",
        "def labels_mapping_benmal(labels):\n",
        "  labels_local = np.zeros(shape=labels.shape, dtype=\"float32\")\n",
        "  #labels_local = np.zeros(shape=(int(labels.shape[0]/2),), dtype=\"float32\")\n",
        "  idx = 0\n",
        "  for label in labels:\n",
        "    # Benign\n",
        "    if label == 1 or label == 3:\n",
        "      labels_local[idx] = 0\n",
        "      idx += 1\n",
        "    # Malign\n",
        "    if label == 2 or label == 4:\n",
        "      labels_local[idx] = 1\n",
        "      idx += 1\n",
        "\n",
        "  return labels_local\n",
        "\n",
        "print(\"Done\")"
      ]
    },
    {
      "cell_type": "code",
      "execution_count": null,
      "metadata": {
        "colab": {
          "base_uri": "https://localhost:8080/"
        },
        "id": "SfVIB61Kf2Rn",
        "outputId": "6b19fdbc-7ee5-4e24-a8bc-5f9358a9b070"
      },
      "outputs": [
        {
          "output_type": "stream",
          "name": "stdout",
          "text": [
            "Done\n"
          ]
        }
      ],
      "source": [
        "#test_loss, test_accuracy, test_precision, test_recall, test_auc = model.evaluate(test_datagen.flow(test_images,\n",
        "def test_model(model):\n",
        "  test_loss, test_accuracy, test_precision, test_recall, test_auc = model.evaluate(test_datagen.flow(test_images,\n",
        "                                            test_labels,\n",
        "                                            batch_size=BATCH_SIZE,\n",
        "                                            shuffle=False),\n",
        "                                            steps=len(test_images) // BATCH_SIZE)#,\n",
        "                                      #callbacks=[GarbageCollectorCallback()])\n",
        "  print(\"\\n---------------------------------\")\n",
        "  print(\"Accuracy:\", \"%0.2f\" % (test_accuracy*100), \"%\")\n",
        "  print(\"Loss:\", \"%0.2f\" % (test_loss))\n",
        "  #print(\"Precision:\", \"%0.2f\" % (test_precision*100), \"%\")\n",
        "  #print(\"Recall:\", \"%0.2f\" % (test_recall*100), \"%\")\n",
        "  #print(\"AUC:\", \"%0.2f\" % test_auc)\n",
        "  print(\"---------------------------------\\n\")\n",
        "\n",
        "print(\"Done\")"
      ]
    },
    {
      "cell_type": "code",
      "execution_count": null,
      "metadata": {
        "colab": {
          "base_uri": "https://localhost:8080/"
        },
        "id": "MEP4Dek4f1qf",
        "outputId": "ef18f03a-2d56-4913-fc77-146d46be7c0e"
      },
      "outputs": [
        {
          "output_type": "stream",
          "name": "stdout",
          "text": [
            "Done\n"
          ]
        }
      ],
      "source": [
        "def print_opt_results(history_0):\n",
        "  # History of accuracy and loss\n",
        "  tra_loss_0 = history_0.history['loss']\n",
        "  tra_acc_0 = history_0.history['acc']\n",
        "  val_loss_0 = history_0.history['val_loss']\n",
        "  val_acc_0 = history_0.history['val_acc']\n",
        "\n",
        "  # Total number of epochs training\n",
        "  epochs_0 = range(1, len(tra_acc_0)+1)\n",
        "  end_epoch_0 = len(tra_acc_0)\n",
        "\n",
        "  # Epoch when reached the val acc max\n",
        "  opt_epoch_0 = val_acc_0.index(max(val_acc_0)) + 1\n",
        "\n",
        "  # Loss and accuracy on the validation set\n",
        "  end_val_loss_0 = val_loss_0[len(val_loss_0)-1]\n",
        "  end_val_acc_0 = val_acc_0[len(val_acc_0)-1]\n",
        "  opt_val_loss_0 = val_loss_0[opt_epoch_0-1]\n",
        "  opt_val_acc_0 = val_acc_0[opt_epoch_0-1]\n",
        "\n",
        "  print(\"Epoch [end]: %d\" % end_epoch_0)\n",
        "  print(\"Epoch [opt]: %d\" % opt_epoch_0)\n",
        "  print(\"Valid accuracy [end]: %.4f\" % end_val_acc_0)\n",
        "  print(\"Valid accuracy [opt]: %.4f\" % opt_val_acc_0)\n",
        "  print(\"Valid loss [end]: %.4f\" % end_val_loss_0)\n",
        "  print(\"Valid loss [opt]: %.4f\" % opt_val_loss_0)\n",
        "\n",
        "print(\"Done\")"
      ]
    },
    {
      "cell_type": "code",
      "execution_count": null,
      "metadata": {
        "colab": {
          "base_uri": "https://localhost:8080/"
        },
        "id": "cCGOlEQOY6FS",
        "outputId": "720314f5-a0d4-48b0-b954-2d1dedf934f3"
      },
      "outputs": [
        {
          "output_type": "stream",
          "name": "stdout",
          "text": [
            "Done\n"
          ]
        }
      ],
      "source": [
        "def plot_acc(history):\n",
        "  acc = history.history['acc']\n",
        "  val_acc = history.history['val_acc']\n",
        "  #loss = history.history['loss']\n",
        "  #val_loss = history.history['val_loss']\n",
        "  epochs = range(len(acc))\n",
        "  plt.figure()\n",
        "  plt.plot(epochs, acc, 'b', linestyle='dashed', label='Training accuracy',color='Green')\n",
        "  plt.plot(epochs, val_acc, 'b', label='Validation accuracy',color='Blue')\n",
        "  plt.title('Training and validation accuracy')\n",
        "  plt.legend()\n",
        "  return plt\n",
        "\n",
        "def plot_loss(history):\n",
        "  #acc = history.history['acc']\n",
        "  #val_acc = history.history['val_acc']\n",
        "  loss = history.history['loss']\n",
        "  val_loss = history.history['val_loss']\n",
        "  epochs = range(len(loss))\n",
        "  plt.figure()\n",
        "  plt.plot(epochs, loss, 'b', linestyle='dashed', label='Training loss',color='cyan')\n",
        "  plt.plot(epochs, val_loss, 'b', label='Validation loss',color='orange')\n",
        "  plt.title('Training and validation loss')\n",
        "  plt.legend()\n",
        "  return plt\n",
        "\n",
        "def get_model_predictions(model, dataset, labels, sample_count): \n",
        "  predictions = np.zeros((sample_count,))   \n",
        "\n",
        "  BATCH_SIZE = 1\n",
        "  i = 0\n",
        "  for batch, labels_batch in test_datagen.flow(dataset, labels, batch_size=BATCH_SIZE, shuffle=True):\n",
        "    predictions[i * BATCH_SIZE : (i + 1) * BATCH_SIZE] = model.predict(batch)\n",
        "    i += 1\n",
        "\n",
        "    if i * BATCH_SIZE  >= sample_count:\n",
        "      break\n",
        "\n",
        "    #np.where(predictions < 0.5, 0, 1)\n",
        "    #predictions = np.where(predictions < 0.5, 0, 1)\n",
        "\n",
        "  return predictions\n",
        "\n",
        "\n",
        "def get_model_pred_prob(model, dataset, labels, sample_count): \n",
        "  predictions = np.zeros((sample_count,))   \n",
        "\n",
        "  BATCH_SIZE = 1\n",
        "  i = 0\n",
        "  for batch, labels_batch in test_datagen.flow(dataset, labels, batch_size=BATCH_SIZE, shuffle=True):\n",
        "    predictions[i * BATCH_SIZE : (i + 1) * BATCH_SIZE] = model.predict_classes(batch)\n",
        "    i += 1\n",
        "\n",
        "    if i * BATCH_SIZE  >= sample_count:\n",
        "      break\n",
        "\n",
        "  return predictions\n",
        "\n",
        "# Function to calculate True Positive Rate and False Positive Rate\n",
        "def calc_TP_FP_rate(y_true, y_pred):    \n",
        "    # Instantiate counters\n",
        "    TP = 0\n",
        "    FP = 0\n",
        "    TN = 0\n",
        "    FN = 0\n",
        "\n",
        "    # Determine whether each prediction is TP, FP, TN, or FN\n",
        "    for i in range(len(y_true)): \n",
        "        if y_true[i]==y_pred[i]==1.:\n",
        "           TP += 1\n",
        "        if y_pred[i]==1. and y_true[i]!=y_pred[i]:\n",
        "           FP += 1\n",
        "        if y_true[i]==y_pred[i]==0.:\n",
        "           TN += 1\n",
        "        if y_pred[i]==0. and y_true[i]!=y_pred[i]:\n",
        "           FN += 1\n",
        "    \n",
        "    print(\"TP: \", TP)\n",
        "    print(\"FP: \", FP)\n",
        "    print(\"TN: \", TN)\n",
        "    print(\"FN: \", FN)\n",
        "    \n",
        "    precision = TP / (TP + FP)\n",
        "\n",
        "    tpr = TP / (TP + FN)\n",
        "    specificity = TN / (TN + FP)\n",
        "    fpr = FP / (FP + TN)\n",
        "\n",
        "    return tpr, fpr, precision, specificity\n",
        "    # Visualization Data Histogram\n",
        "\n",
        "def plot_confusion_matrix(model,\n",
        "                          classes,\n",
        "                          dataset, \n",
        "                          labels,\n",
        "                          title='Confusion matrix',\n",
        "                          cmap=plt.cm.Blues):\n",
        "\n",
        "    Y_pred = model.predict(test_datagen.flow(dataset,\n",
        "                                            labels,\n",
        "                                            batch_size=BATCH_SIZE+1,\n",
        "                                            shuffle=False),\n",
        "                          steps=len(dataset) // BATCH_SIZE)\n",
        "\n",
        "    np.where(Y_pred < 0.5, 0, 1)\n",
        "    y_pred = np.where(Y_pred < 0.5, 0, 1)\n",
        "\n",
        "    print('Confusion Matrix')\n",
        "    cm = confusion_matrix(labels, y_pred)\n",
        "\n",
        "    #print(cm)\n",
        "    #print('Classification Report')\n",
        "    print(classification_report(labels, y_pred))\n",
        "\n",
        "\n",
        "    plt.imshow(cm, interpolation='nearest', cmap=cmap)\n",
        "    plt.title(title)\n",
        "    plt.colorbar()\n",
        "    tick_marks = np.arange(len(classes))\n",
        "    plt.xticks(tick_marks, classes, rotation=45)\n",
        "    plt.yticks(tick_marks, classes)\n",
        "\n",
        "    #print(cm)\n",
        "\n",
        "    thresh = cm.max() / 2.\n",
        "    for i, j in itertools.product(range(cm.shape[0]), range(cm.shape[1])):\n",
        "        plt.text(j, i, cm[i, j],\n",
        "            horizontalalignment=\"center\",\n",
        "            color=\"white\" if cm[i, j] > thresh else \"black\")\n",
        "\n",
        "    plt.tight_layout()\n",
        "    plt.ylabel('True label')\n",
        "    plt.xlabel('Predicted label')\n",
        "\n",
        "    return plt\n",
        "\n",
        "# Visualization Detail Metric\n",
        "def plot_metrics(history):\n",
        "  metrics = ['loss', 'auc', 'precision', 'recall']\n",
        "  for n, metric in enumerate(metrics):\n",
        "    name = metric.replace(\"_\",\" \").capitalize()\n",
        "    plt.plot(history.epoch, history.history[metric], label='Train')\n",
        "    plt.plot(history.epoch, history.history['val_'+metric],\n",
        "             linestyle=\"--\", label='Val')\n",
        "    plt.xlabel('Epoch')\n",
        "    plt.ylabel(name)\n",
        "\n",
        "    if metric == 'loss':\n",
        "      plt.ylim([0, plt.ylim()[1]])\n",
        "    elif metric == 'auc':\n",
        "      plt.ylim([0.8,1])\n",
        "    else:\n",
        "      plt.ylim([0,1])\n",
        "\n",
        "    plt.legend()\n",
        "    if metrics[-1] != metric:\n",
        "      plt.figure()\n",
        "\n",
        "  return plt, cm\n",
        "\n",
        "def plot_AUC(model, dataset, labels):\n",
        "  y_pred_keras = get_model_predictions(model, dataset, labels, len(dataset))\n",
        "  fpr_keras, tpr_keras, thresholds_keras = roc_curve(labels, y_pred_keras)\n",
        "  #thresholds_keras = np.linspace(0,1,num=100)\n",
        "  auc_keras = auc(fpr_keras, tpr_keras)\n",
        "\n",
        "  plt.figure(1)\n",
        "  plt.plot([0, 1], [0, 1], 'k--')\n",
        "  plt.plot(fpr_keras, tpr_keras, label='CNN (area = {:.3f})'.format(auc_keras))\n",
        "  plt.xlabel('False positive rate')\n",
        "  plt.ylabel('True positive rate')\n",
        "  plt.title('ROC curve')\n",
        "  plt.legend(loc='best')\n",
        "  #plt.show()\n",
        "\n",
        "  return auc_keras, plt\n",
        "\n",
        "print(\"Done\")"
      ]
    },
    {
      "cell_type": "code",
      "execution_count": null,
      "metadata": {
        "id": "aW-3iXxrYEhI"
      },
      "outputs": [],
      "source": [
        "#Early stop conditon \n",
        "#early_stop = keras.callbacks.EarlyStopping(monitor='val_loss', patience=PAT)"
      ]
    },
    {
      "cell_type": "code",
      "execution_count": null,
      "metadata": {
        "id": "hcijpEVu4J3s"
      },
      "outputs": [],
      "source": [
        "# Custom Callback To Include in Callbacks List At Training Time\n",
        "#class GarbageCollectorCallback(tf.keras.callbacks.Callback):\n",
        "#    def on_epoch_end(self, epoch, logs=None):\n",
        "#      gc.collect()\n",
        "\n",
        "#print(\"Done\")"
      ]
    },
    {
      "cell_type": "code",
      "source": [
        "def earlyStop(patience):\n",
        "  callback = tf.keras.callbacks.EarlyStopping(monitor='val_loss', patience=patience)\n",
        "  return callback\n",
        "print(\"Done\")"
      ],
      "metadata": {
        "id": "VR-LUSzwBP9b",
        "colab": {
          "base_uri": "https://localhost:8080/"
        },
        "outputId": "b15ef73f-95a5-48de-bae2-b569a4f75d33"
      },
      "execution_count": null,
      "outputs": [
        {
          "output_type": "stream",
          "name": "stdout",
          "text": [
            "Done\n"
          ]
        }
      ]
    },
    {
      "cell_type": "markdown",
      "metadata": {
        "id": "4iwyaGNKshWs"
      },
      "source": [
        "# Data operations"
      ]
    },
    {
      "cell_type": "code",
      "execution_count": null,
      "metadata": {
        "colab": {
          "base_uri": "https://localhost:8080/"
        },
        "id": "wuEgP_XI4J62",
        "outputId": "e2792248-584b-4473-e638-a258a75a6d2e"
      },
      "outputs": [
        {
          "output_type": "stream",
          "name": "stdout",
          "text": [
            "Train dataset\n",
            "---------------------------------\n",
            "Masses: \t\t 1218\n",
            "Calcification: \t\t 1458\n",
            "---------------------------------\n",
            "Benign: \t\t 1568\n",
            "Malign: \t\t 1108\n",
            "---------------------------------\n",
            "Benign Masses: \t\t 620\n",
            "Malign Masses: \t\t 598\n",
            "Benign Calcification: \t 948\n",
            "Malign Calcification: \t 510\n",
            "---------------------------------\n",
            "Baseline: \t\t 2676\n",
            "---------------------------------\n",
            "Total: \t\t\t 5352\n",
            "\n",
            "\n",
            "Test dataset\n",
            "---------------------------------\n",
            "Masses: \t\t 179\n",
            "Calcification: \t\t 157\n",
            "---------------------------------\n",
            "Benign: \t\t 219\n",
            "Malign: \t\t 117\n",
            "---------------------------------\n",
            "Benign Masses: \t\t 113\n",
            "Malign Masses: \t\t 66\n",
            "Benign Calcification: \t 106\n",
            "Malign Calcification: \t 51\n",
            "---------------------------------\n",
            "Baseline: \t\t 336\n",
            "---------------------------------\n",
            "Total: \t\t\t 672\n"
          ]
        }
      ],
      "source": [
        "train_images = np.load(train_img_path)\n",
        "train_labels = np.load(train_label_path)\n",
        "test_images = np.load(test_img_path)\n",
        "test_labels = np.load(test_label_path)\n",
        "\n",
        "#count quantity masses and calcifications\n",
        "unique, counts = np.unique(train_labels, return_counts=True)\n",
        "#print(unique, counts)\n",
        "print(\"Train dataset\")\n",
        "print(\"---------------------------------\")\n",
        "print(\"Masses: \\t\\t\", counts[1]+counts[2])\n",
        "print(\"Calcification: \\t\\t\", counts[3]+counts[4])\n",
        "print(\"---------------------------------\")\n",
        "print(\"Benign: \\t\\t\", counts[1]+counts[3])\n",
        "print(\"Malign: \\t\\t\", counts[2]+counts[4])\n",
        "print(\"---------------------------------\")\n",
        "print(\"Benign Masses: \\t\\t\", counts[1])\n",
        "print(\"Malign Masses: \\t\\t\", counts[2])\n",
        "print(\"Benign Calcification: \\t\", counts[3])\n",
        "print(\"Malign Calcification: \\t\", counts[4])\n",
        "print(\"---------------------------------\")\n",
        "print(\"Baseline: \\t\\t\", counts[0])\n",
        "print(\"---------------------------------\")\n",
        "print(\"Total: \\t\\t\\t\", counts[0]+counts[1]+counts[2]+counts[3]+counts[4])\n",
        "\n",
        "#count quantity masses and calcifications\n",
        "uniqueT, countsT = np.unique(test_labels, return_counts=True)\n",
        "#print(unique, countsT)\n",
        "print(\"\\n\")\n",
        "print(\"Test dataset\")\n",
        "print(\"---------------------------------\")\n",
        "print(\"Masses: \\t\\t\", countsT[1]+countsT[2])\n",
        "print(\"Calcification: \\t\\t\", countsT[3]+countsT[4])\n",
        "print(\"---------------------------------\")\n",
        "print(\"Benign: \\t\\t\", countsT[1]+countsT[3])\n",
        "print(\"Malign: \\t\\t\", countsT[2]+countsT[4])\n",
        "print(\"---------------------------------\")\n",
        "print(\"Benign Masses: \\t\\t\", countsT[1])\n",
        "print(\"Malign Masses: \\t\\t\", countsT[2])\n",
        "print(\"Benign Calcification: \\t\", countsT[3])\n",
        "print(\"Malign Calcification: \\t\", countsT[4])\n",
        "print(\"---------------------------------\")\n",
        "print(\"Baseline: \\t\\t\", countsT[0])\n",
        "print(\"---------------------------------\")\n",
        "print(\"Total: \\t\\t\\t\", countsT[0]+countsT[1]+countsT[2]+countsT[3]+countsT[4])"
      ]
    },
    {
      "cell_type": "code",
      "execution_count": null,
      "metadata": {
        "colab": {
          "base_uri": "https://localhost:8080/"
        },
        "id": "HigF_SHRspDF",
        "outputId": "6c65e37b-0930-45e7-a755-9addc4f37e47"
      },
      "outputs": [
        {
          "output_type": "display_data",
          "data": {
            "image/png": "[encoded data removed]",
            "text/plain": [
              "<Figure size 432x288 with 4 Axes>"
            ]
          },
          "metadata": {
            "needs_background": "light"
          }
        }
      ],
      "source": [
        "images = range(0,4)\n",
        "for i in images:\n",
        "    plt.subplot(330 + 1 + i)\n",
        "    plt.imshow(train_images[i], cmap=plt.get_cmap('gray'))\n",
        "    \n",
        "#Show the plot\n",
        "plt.show()"
      ]
    },
    {
      "cell_type": "markdown",
      "metadata": {
        "id": "52whrXbNxsZ_"
      },
      "source": [
        "# Ensemble Mass Calc\n"
      ]
    },
    {
      "cell_type": "markdown",
      "source": [
        "##Data"
      ],
      "metadata": {
        "id": "xPgFc6V6QNqO"
      }
    },
    {
      "cell_type": "code",
      "execution_count": null,
      "metadata": {
        "colab": {
          "base_uri": "https://localhost:8080/"
        },
        "id": "ULlKyvE6spDH",
        "outputId": "64f0ff4f-9eac-4c28-aa45-2e09cfb8f633"
      },
      "outputs": [
        {
          "output_type": "stream",
          "name": "stdout",
          "text": [
            "Train shape:  (1338, 150, 150, 1)\n",
            "Test shape:  (168, 150, 150, 3)\n"
          ]
        }
      ],
      "source": [
        "# Get abnormalities only \n",
        "train_images = remove_baseline(train_images)\n",
        "train_labels = remove_baseline(train_labels)\n",
        "test_images = remove_baseline(test_images)\n",
        "test_labels = remove_baseline(test_labels)\n",
        "\n",
        "# Mapping labels with standard index\n",
        "train_labels = labels_mapping_masscalc(train_labels)\n",
        "test_labels = labels_mapping_masscalc(test_labels)\n",
        "\n",
        "# Suffle index (Previous dataset is ordered by index)\n",
        "train_images, train_labels = shuffle_dataset(train_images, train_labels)\n",
        "test_images, test_labels = shuffle_dataset(test_images, test_labels)\n",
        "\n",
        "print(\"Train shape: \", train_images.shape)\n",
        "print(\"Test shape: \", test_images.shape)"
      ]
    },
    {
      "cell_type": "code",
      "execution_count": null,
      "metadata": {
        "colab": {
          "base_uri": "https://localhost:8080/"
        },
        "id": "I_A2H-Jx-G-6",
        "outputId": "bf54cfbf-2427-4c35-be33-543f53b78a46"
      },
      "outputs": [
        {
          "output_type": "stream",
          "name": "stdout",
          "text": [
            "Train shape:  (1338, 150, 150, 1, 1)\n",
            "Test shape:  (168, 150, 150, 3, 1)\n"
          ]
        }
      ],
      "source": [
        "# Prepare the data with the expected format\n",
        "train_images = train_images.reshape(train_images.shape + (1,))\n",
        "test_images = test_images.reshape(test_images.shape + (1,))\n",
        "\n",
        "print(\"Train shape: \", train_images.shape)\n",
        "print(\"Test shape: \", test_images.shape)"
      ]
    },
    {
      "cell_type": "code",
      "execution_count": null,
      "metadata": {
        "id": "9LVV84r4spDH",
        "colab": {
          "base_uri": "https://localhost:8080/",
          "height": 217
        },
        "outputId": "806e2619-8939-4787-a29d-8adf1056e154"
      },
      "outputs": [
        {
          "output_type": "stream",
          "name": "stdout",
          "text": [
            "Masses samples:  1338\n"
          ]
        },
        {
          "output_type": "error",
          "ename": "IndexError",
          "evalue": "ignored",
          "traceback": [
            "\u001b[0;31m---------------------------------------------------------------------------\u001b[0m",
            "\u001b[0;31mIndexError\u001b[0m                                Traceback (most recent call last)",
            "\u001b[0;32m<ipython-input-76-628e568a0342>\u001b[0m in \u001b[0;36m<module>\u001b[0;34m()\u001b[0m\n\u001b[1;32m      2\u001b[0m \u001b[0munique\u001b[0m\u001b[0;34m,\u001b[0m \u001b[0mcounts\u001b[0m \u001b[0;34m=\u001b[0m \u001b[0mnp\u001b[0m\u001b[0;34m.\u001b[0m\u001b[0munique\u001b[0m\u001b[0;34m(\u001b[0m\u001b[0mtrain_labels\u001b[0m\u001b[0;34m,\u001b[0m \u001b[0mreturn_counts\u001b[0m\u001b[0;34m=\u001b[0m\u001b[0;32mTrue\u001b[0m\u001b[0;34m)\u001b[0m\u001b[0;34m\u001b[0m\u001b[0;34m\u001b[0m\u001b[0m\n\u001b[1;32m      3\u001b[0m \u001b[0mprint\u001b[0m\u001b[0;34m(\u001b[0m\u001b[0;34m\"Masses samples: \"\u001b[0m\u001b[0;34m,\u001b[0m \u001b[0mcounts\u001b[0m\u001b[0;34m[\u001b[0m\u001b[0;36m0\u001b[0m\u001b[0;34m]\u001b[0m\u001b[0;34m)\u001b[0m\u001b[0;34m\u001b[0m\u001b[0;34m\u001b[0m\u001b[0m\n\u001b[0;32m----> 4\u001b[0;31m \u001b[0mprint\u001b[0m\u001b[0;34m(\u001b[0m\u001b[0;34m\"Calcifications samples: \"\u001b[0m\u001b[0;34m,\u001b[0m \u001b[0mcounts\u001b[0m\u001b[0;34m[\u001b[0m\u001b[0;36m1\u001b[0m\u001b[0;34m]\u001b[0m\u001b[0;34m)\u001b[0m\u001b[0;34m\u001b[0m\u001b[0;34m\u001b[0m\u001b[0m\n\u001b[0m",
            "\u001b[0;31mIndexError\u001b[0m: index 1 is out of bounds for axis 0 with size 1"
          ]
        }
      ],
      "source": [
        "#check if training dataset is balanced  \n",
        "unique, counts = np.unique(train_labels, return_counts=True)\n",
        "print(\"Masses samples: \", counts[0])\n",
        "print(\"Calcifications samples: \", counts[1])"
      ]
    },
    {
      "cell_type": "code",
      "execution_count": null,
      "metadata": {
        "id": "2gW9GoisspDI"
      },
      "outputs": [],
      "source": [
        "#Splitting training-validation with 80-20 %\n",
        "split_index = int(0.8*len(train_images))\n",
        "train_dataset_split = train_images[:split_index]\n",
        "valid_dataset_split = train_images[split_index:]\n",
        "train_labels_split = train_labels[:split_index]\n",
        "valid_labels_split = train_labels[split_index:]\n",
        "\n",
        "print(train_dataset_split.shape)\n",
        "print(valid_dataset_split.shape)"
      ]
    },
    {
      "cell_type": "code",
      "execution_count": null,
      "metadata": {
        "id": "slqGisihspDH"
      },
      "outputs": [],
      "source": [
        "test_datagen = ImageDataGenerator(rescale=1./65535)"
      ]
    },
    {
      "cell_type": "markdown",
      "source": [
        "##Scratch"
      ],
      "metadata": {
        "id": "g9hGFK4F4NNu"
      }
    },
    {
      "cell_type": "code",
      "source": [
        "test_gen= test_datagen.flow(test_images,\n",
        "                            test_labels,\n",
        "                            batch_size=BATCH_SIZE+2,\n",
        "                            shuffle=False)"
      ],
      "metadata": {
        "id": "UQ-pEdQc4cFl"
      },
      "execution_count": null,
      "outputs": []
    },
    {
      "cell_type": "code",
      "source": [
        "model1 = load_model(os.path.join(MODEL_SCRATCH_PATH,'calcmasses_model4.h5'))\n",
        "model2 = load_model(os.path.join(MODEL_SCRATCH_PATH,'calcmasses_model1_d2.h5'))\n",
        "model3 = load_model(os.path.join(MODEL_SCRATCH_PATH,'calcmasses_model6.h5'))\n",
        "model4 = load_model(os.path.join(MODEL_SCRATCH_PATH,'calcmasses_model91.h5'))"
      ],
      "metadata": {
        "id": "20YD0LXO4NNw"
      },
      "execution_count": null,
      "outputs": []
    },
    {
      "cell_type": "code",
      "source": [
        "preds_1=model1.predict(test_gen, steps=len(test_images) // BATCH_SIZE)\n",
        "preds_2=model2.predict(test_gen, steps=len(test_images) // BATCH_SIZE)\n",
        "preds_3=model3.predict(test_gen, steps=len(test_images) // BATCH_SIZE)\n",
        "preds_4=model4.predict(test_gen, steps=len(test_images) // BATCH_SIZE)\n",
        "\n",
        "final_preds = 0.25 * (preds_1 + preds_2 + preds_3 + preds_4)"
      ],
      "metadata": {
        "id": "yVD0UIDU4Azj"
      },
      "execution_count": null,
      "outputs": []
    },
    {
      "cell_type": "code",
      "execution_count": null,
      "metadata": {
        "colab": {
          "base_uri": "https://localhost:8080/",
          "height": 571
        },
        "outputId": "8a9b6fa8-666f-4c44-a886-0e76de2e7137",
        "id": "-l6lz5th4NNy"
      },
      "outputs": [
        {
          "output_type": "stream",
          "name": "stdout",
          "text": [
            "(336,)\n",
            "(336, 150, 150, 1)\n",
            "(336, 1)\n",
            "(336, 1)\n",
            "Confusion Matrix\n",
            "              precision    recall  f1-score   support\n",
            "\n",
            "         0.0       0.86      0.92      0.89       179\n",
            "         1.0       0.90      0.83      0.86       157\n",
            "\n",
            "    accuracy                           0.88       336\n",
            "   macro avg       0.88      0.88      0.88       336\n",
            "weighted avg       0.88      0.88      0.88       336\n",
            "\n"
          ]
        },
        {
          "output_type": "execute_result",
          "data": {
            "text/plain": [
              "Text(0.5, 0.07448596317420098, 'Predicted label')"
            ]
          },
          "metadata": {},
          "execution_count": 21
        },
        {
          "output_type": "display_data",
          "data": {
            "image/png": "[encoded data removed]",
            "text/plain": [
              "<Figure size 432x288 with 2 Axes>"
            ]
          },
          "metadata": {
            "needs_background": "light"
          }
        }
      ],
      "source": [
        "classes = [\"Mass\", \"Calc\"]\n",
        "\n",
        "y_pred = np.where(final_preds < 0.5, 0, 1)\n",
        "\n",
        "print(test_labels.shape)\n",
        "print(test_images.shape)\n",
        "print(final_preds.shape)\n",
        "print(y_pred.shape)\n",
        "\n",
        "print('Confusion Matrix')\n",
        "cm = confusion_matrix(test_labels, y_pred)\n",
        "\n",
        "#print(cm)\n",
        "#print('Classification Report')\n",
        "print(classification_report(test_labels, y_pred))\n",
        "\n",
        "plt.imshow(cm, interpolation='nearest', cmap=plt.cm.Blues)\n",
        "plt.title(\"Confusione Matrix\")\n",
        "plt.colorbar()\n",
        "tick_marks = np.arange(len(classes))\n",
        "plt.xticks(tick_marks, classes, rotation=45)\n",
        "plt.yticks(tick_marks, classes)\n",
        "\n",
        "#print(cm)\n",
        "\n",
        "thresh = cm.max() / 2.\n",
        "for i, j in itertools.product(range(cm.shape[0]), range(cm.shape[1])):\n",
        "    plt.text(j, i, cm[i, j],\n",
        "        horizontalalignment=\"center\",\n",
        "        #color=\"white\" if cm[i, j] > thresh else \"black\")\n",
        "        color=\"black\")\n",
        "\n",
        "plt.tight_layout()\n",
        "plt.ylabel('True label')\n",
        "plt.xlabel('Predicted label')\n"
      ]
    },
    {
      "cell_type": "code",
      "execution_count": null,
      "metadata": {
        "id": "FVomgB4H4NNy"
      },
      "outputs": [],
      "source": [
        "fpr,tpr,th = roc_curve(test_labels, final_preds)\n",
        "\n",
        "roc_auc = roc_auc_score(test_labels, final_preds)"
      ]
    },
    {
      "cell_type": "code",
      "execution_count": null,
      "metadata": {
        "colab": {
          "base_uri": "https://localhost:8080/",
          "height": 295
        },
        "outputId": "5576d327-655a-4ad0-dfa1-268ed52a1216",
        "id": "tUsiStLK4NNz"
      },
      "outputs": [
        {
          "output_type": "display_data",
          "data": {
            "image/png": "[encoded data removed]",
            "text/plain": [
              "<Figure size 432x288 with 1 Axes>"
            ]
          },
          "metadata": {
            "needs_background": "light"
          }
        }
      ],
      "source": [
        "plt.title('Receiver Operating Characteristic')\n",
        "plt.plot(fpr, tpr, 'b', label = 'AUC = %0.2f' % roc_auc)\n",
        "plt.legend(loc = 'lower right')\n",
        "plt.plot([0, 1], [0, 1],'r--')\n",
        "plt.xlim([0, 1])\n",
        "plt.ylim([0, 1])\n",
        "plt.ylabel('True Positive Rate')\n",
        "plt.xlabel('False Positive Rate')\n",
        "plt.show()"
      ]
    },
    {
      "cell_type": "code",
      "source": [
        "preds_scratch = final_preds"
      ],
      "metadata": {
        "id": "OLBdb874cweL"
      },
      "execution_count": null,
      "outputs": []
    },
    {
      "cell_type": "markdown",
      "source": [
        "##Pretrained"
      ],
      "metadata": {
        "id": "fAAqiBd871h7"
      }
    },
    {
      "cell_type": "code",
      "execution_count": null,
      "metadata": {
        "colab": {
          "base_uri": "https://localhost:8080/"
        },
        "id": "zesZf-ExDg6Y",
        "outputId": "4b50b1e5-a2c0-48c2-ee50-ad6b87d44bb8"
      },
      "outputs": [
        {
          "output_type": "stream",
          "name": "stdout",
          "text": [
            "\n",
            "(2140, 150, 150, 3)\n",
            "(336, 150, 150, 3)\n"
          ]
        }
      ],
      "source": [
        "train_dataset_split = np.repeat(train_dataset_split, 3, axis = 3)\n",
        "valid_dataset_split = np.repeat(valid_dataset_split, 3, axis = 3)\n",
        "test_images = np.repeat(test_images, 3, axis = 3)\n",
        "\n",
        "print()\n",
        "print(train_dataset_split.shape)\n",
        "print(test_images.shape)"
      ]
    },
    {
      "cell_type": "code",
      "source": [
        "test_gen= test_datagen.flow(test_images,\n",
        "                            test_labels,\n",
        "                            batch_size=BATCH_SIZE+2,\n",
        "                            shuffle=False)"
      ],
      "metadata": {
        "id": "qZoWN7JlaSz7"
      },
      "execution_count": null,
      "outputs": []
    },
    {
      "cell_type": "code",
      "source": [
        "model5 = load_model(os.path.join(MODEL_PRETRAINED_PATH,'calcmasses_inceptionv3_model63.h5'))\n",
        "model6 = load_model(os.path.join(MODEL_PRETRAINED_PATH,'calcmasses_inceptionv3_model7.h5'))\n",
        "model7 = load_model(os.path.join(MODEL_PRETRAINED_PATH,'calcmasses_inceptionv3_model8.h5'))\n",
        "model8 = load_model(os.path.join(MODEL_PRETRAINED_PATH,'calcmasses_inceptionv3_model1.h5'))"
      ],
      "metadata": {
        "id": "Ej3Lzdo171h_"
      },
      "execution_count": null,
      "outputs": []
    },
    {
      "cell_type": "code",
      "source": [
        "preds_5=model5.predict(test_gen, steps=len(test_images) // BATCH_SIZE)\n",
        "preds_6=model6.predict(test_gen, steps=len(test_images) // BATCH_SIZE)\n",
        "preds_7=model7.predict(test_gen, steps=len(test_images) // BATCH_SIZE)\n",
        "preds_8=model8.predict(test_gen, steps=len(test_images) // BATCH_SIZE)\n",
        "\n",
        "final_preds = 0.25 * (preds_5 + preds_6 + preds_7 + preds_8)"
      ],
      "metadata": {
        "id": "NY8oMsEZ71h_"
      },
      "execution_count": null,
      "outputs": []
    },
    {
      "cell_type": "code",
      "execution_count": null,
      "metadata": {
        "colab": {
          "base_uri": "https://localhost:8080/",
          "height": 571
        },
        "outputId": "333289d4-c773-48bb-e06e-815b20bd7547",
        "id": "_oNxp5QX71h_"
      },
      "outputs": [
        {
          "output_type": "stream",
          "name": "stdout",
          "text": [
            "(336,)\n",
            "(336, 150, 150, 3)\n",
            "(336, 1)\n",
            "(336, 1)\n",
            "Confusion Matrix\n",
            "              precision    recall  f1-score   support\n",
            "\n",
            "         0.0       0.87      0.86      0.87       179\n",
            "         1.0       0.84      0.85      0.85       157\n",
            "\n",
            "    accuracy                           0.86       336\n",
            "   macro avg       0.86      0.86      0.86       336\n",
            "weighted avg       0.86      0.86      0.86       336\n",
            "\n"
          ]
        },
        {
          "output_type": "execute_result",
          "data": {
            "text/plain": [
              "Text(0.5, 0.07448596317420098, 'Predicted label')"
            ]
          },
          "metadata": {},
          "execution_count": 29
        },
        {
          "output_type": "display_data",
          "data": {
            "image/png": "[encoded data removed]",
            "text/plain": [
              "<Figure size 432x288 with 2 Axes>"
            ]
          },
          "metadata": {
            "needs_background": "light"
          }
        }
      ],
      "source": [
        "classes = [\"Mass\", \"Calc\"]\n",
        "\n",
        "y_pred = np.where(final_preds < 0.5, 0, 1)\n",
        "\n",
        "print(test_labels.shape)\n",
        "print(test_images.shape)\n",
        "print(final_preds.shape)\n",
        "print(y_pred.shape)\n",
        "\n",
        "print('Confusion Matrix')\n",
        "cm = confusion_matrix(test_labels, y_pred)\n",
        "\n",
        "#print(cm)\n",
        "#print('Classification Report')\n",
        "print(classification_report(test_labels, y_pred))\n",
        "\n",
        "plt.imshow(cm, interpolation='nearest', cmap=plt.cm.Blues)\n",
        "plt.title(\"Confusione Matrix\")\n",
        "plt.colorbar()\n",
        "tick_marks = np.arange(len(classes))\n",
        "plt.xticks(tick_marks, classes, rotation=45)\n",
        "plt.yticks(tick_marks, classes)\n",
        "\n",
        "#print(cm)\n",
        "\n",
        "thresh = cm.max() / 2.\n",
        "for i, j in itertools.product(range(cm.shape[0]), range(cm.shape[1])):\n",
        "    plt.text(j, i, cm[i, j],\n",
        "        horizontalalignment=\"center\",\n",
        "        #color=\"white\" if cm[i, j] > thresh else \"black\")\n",
        "        color=\"black\")\n",
        "\n",
        "plt.tight_layout()\n",
        "plt.ylabel('True label')\n",
        "plt.xlabel('Predicted label')\n"
      ]
    },
    {
      "cell_type": "code",
      "execution_count": null,
      "metadata": {
        "id": "St0akKjv71h_"
      },
      "outputs": [],
      "source": [
        "fpr,tpr,th = roc_curve(test_labels, final_preds)\n",
        "\n",
        "roc_auc = roc_auc_score(test_labels, final_preds)"
      ]
    },
    {
      "cell_type": "code",
      "execution_count": null,
      "metadata": {
        "colab": {
          "base_uri": "https://localhost:8080/",
          "height": 295
        },
        "outputId": "2e8947c9-eb2e-4da7-ed99-586fa2a771ec",
        "id": "lg2wChEM71h_"
      },
      "outputs": [
        {
          "output_type": "display_data",
          "data": {
            "image/png": "[encoded data removed]",
            "text/plain": [
              "<Figure size 432x288 with 1 Axes>"
            ]
          },
          "metadata": {
            "needs_background": "light"
          }
        }
      ],
      "source": [
        "plt.title('Receiver Operating Characteristic')\n",
        "plt.plot(fpr, tpr, 'b', label = 'AUC = %0.2f' % roc_auc)\n",
        "plt.legend(loc = 'lower right')\n",
        "plt.plot([0, 1], [0, 1],'r--')\n",
        "plt.xlim([0, 1])\n",
        "plt.ylim([0, 1])\n",
        "plt.ylabel('True Positive Rate')\n",
        "plt.xlabel('False Positive Rate')\n",
        "plt.show()"
      ]
    },
    {
      "cell_type": "code",
      "source": [
        "preds_pretrained = final_preds"
      ],
      "metadata": {
        "id": "i3ryIDBNcTFI"
      },
      "execution_count": null,
      "outputs": []
    },
    {
      "cell_type": "markdown",
      "source": [
        "##Average"
      ],
      "metadata": {
        "id": "VtNeppGTc--z"
      }
    },
    {
      "cell_type": "code",
      "source": [
        "#final_preds = 0.5 * (preds_scratch + preds_pretrained)\n",
        "final_preds = 0.125 * (preds_1 + preds_2 + preds_3 + preds_4 + preds_5 + preds_6 + preds_7 + preds_8)"
      ],
      "metadata": {
        "id": "Kv91ogckc9ko"
      },
      "execution_count": null,
      "outputs": []
    },
    {
      "cell_type": "code",
      "execution_count": null,
      "metadata": {
        "colab": {
          "base_uri": "https://localhost:8080/",
          "height": 571
        },
        "outputId": "70e192f5-cc55-4ebc-e1ab-3823e108ba40",
        "id": "WySYSD7gc9ko"
      },
      "outputs": [
        {
          "output_type": "stream",
          "name": "stdout",
          "text": [
            "(336,)\n",
            "(336, 150, 150, 3)\n",
            "(336, 1)\n",
            "(336, 1)\n",
            "Confusion Matrix\n",
            "              precision    recall  f1-score   support\n",
            "\n",
            "         0.0       0.86      0.89      0.87       179\n",
            "         1.0       0.87      0.83      0.85       157\n",
            "\n",
            "    accuracy                           0.86       336\n",
            "   macro avg       0.86      0.86      0.86       336\n",
            "weighted avg       0.86      0.86      0.86       336\n",
            "\n"
          ]
        },
        {
          "output_type": "execute_result",
          "data": {
            "text/plain": [
              "Text(0.5, 0.07448596317420098, 'Predicted label')"
            ]
          },
          "metadata": {},
          "execution_count": 34
        },
        {
          "output_type": "display_data",
          "data": {
            "image/png": "[encoded data removed]",
            "text/plain": [
              "<Figure size 432x288 with 2 Axes>"
            ]
          },
          "metadata": {
            "needs_background": "light"
          }
        }
      ],
      "source": [
        "classes = [\"Mass\", \"Calc\"]\n",
        "\n",
        "y_pred = np.where(final_preds < 0.5, 0, 1)\n",
        "\n",
        "print(test_labels.shape)\n",
        "print(test_images.shape)\n",
        "print(final_preds.shape)\n",
        "print(y_pred.shape)\n",
        "\n",
        "print('Confusion Matrix')\n",
        "cm = confusion_matrix(test_labels, y_pred)\n",
        "\n",
        "#print(cm)\n",
        "#print('Classification Report')\n",
        "print(classification_report(test_labels, y_pred))\n",
        "\n",
        "plt.imshow(cm, interpolation='nearest', cmap=plt.cm.Blues)\n",
        "plt.title(\"Confusione Matrix\")\n",
        "plt.colorbar()\n",
        "tick_marks = np.arange(len(classes))\n",
        "plt.xticks(tick_marks, classes, rotation=45)\n",
        "plt.yticks(tick_marks, classes)\n",
        "\n",
        "#print(cm)\n",
        "\n",
        "thresh = cm.max() / 2.\n",
        "for i, j in itertools.product(range(cm.shape[0]), range(cm.shape[1])):\n",
        "    plt.text(j, i, cm[i, j],\n",
        "        horizontalalignment=\"center\",\n",
        "        #color=\"white\" if cm[i, j] > thresh else \"black\")\n",
        "        color=\"black\")\n",
        "\n",
        "plt.tight_layout()\n",
        "plt.ylabel('True label')\n",
        "plt.xlabel('Predicted label')\n"
      ]
    },
    {
      "cell_type": "code",
      "execution_count": null,
      "metadata": {
        "id": "1fLUWnk6c9ko"
      },
      "outputs": [],
      "source": [
        "fpr,tpr,th = roc_curve(test_labels, final_preds)\n",
        "\n",
        "roc_auc = roc_auc_score(test_labels, final_preds)"
      ]
    },
    {
      "cell_type": "code",
      "execution_count": null,
      "metadata": {
        "colab": {
          "base_uri": "https://localhost:8080/",
          "height": 295
        },
        "outputId": "11f9f8c5-a20b-453e-8895-45b94241435d",
        "id": "iqRKF_duc9kp"
      },
      "outputs": [
        {
          "output_type": "display_data",
          "data": {
            "image/png": "[encoded data removed]",
            "text/plain": [
              "<Figure size 432x288 with 1 Axes>"
            ]
          },
          "metadata": {
            "needs_background": "light"
          }
        }
      ],
      "source": [
        "plt.title('Receiver Operating Characteristic')\n",
        "plt.plot(fpr, tpr, 'b', label = 'AUC = %0.2f' % roc_auc)\n",
        "plt.legend(loc = 'lower right')\n",
        "plt.plot([0, 1], [0, 1],'r--')\n",
        "plt.xlim([0, 1])\n",
        "plt.ylim([0, 1])\n",
        "plt.ylabel('True Positive Rate')\n",
        "plt.xlabel('False Positive Rate')\n",
        "plt.show()"
      ]
    },
    {
      "cell_type": "markdown",
      "source": [
        "##Pretrained alternative methods"
      ],
      "metadata": {
        "id": "IHZZXJVcg2D2"
      }
    },
    {
      "cell_type": "code",
      "source": [
        "model1 = load_model(os.path.join(MODEL_PRETRAINED_PATH,'calcmasses_inceptionv3_model63.h5'))\n",
        "model2 = load_model(os.path.join(MODEL_PRETRAINED_PATH,'calcmasses_inceptionv3_model7.h5'))\n",
        "model3 = load_model(os.path.join(MODEL_PRETRAINED_PATH,'calcmasses_inceptionv3_model8.h5'))\n",
        "model4 = load_model(os.path.join(MODEL_PRETRAINED_PATH,'calcmasses_inceptionv3_model1.h5'))"
      ],
      "metadata": {
        "id": "eLT_9ymLg-2g"
      },
      "execution_count": null,
      "outputs": []
    },
    {
      "cell_type": "code",
      "source": [
        "models = [model1, model2, model3, model4]\n",
        "model_input = tf.keras.Input(shape=(150, 150, 3))\n",
        "model_outputs = [model(model_input) for model in models]\n",
        "ensemble_output = tf.keras.layers.Average()(model_outputs)\n",
        "ensemble_model = tf.keras.Model(inputs=model_input, outputs=ensemble_output)"
      ],
      "metadata": {
        "id": "m-pZruclgwnU"
      },
      "execution_count": null,
      "outputs": []
    },
    {
      "cell_type": "code",
      "execution_count": null,
      "metadata": {
        "colab": {
          "base_uri": "https://localhost:8080/",
          "height": 571
        },
        "id": "WjmOKghkAED_",
        "outputId": "730b7097-922d-4adb-c131-5723199f38dc"
      },
      "outputs": [
        {
          "output_type": "stream",
          "name": "stdout",
          "text": [
            "(336,)\n",
            "(336, 150, 150, 3)\n",
            "(336, 1)\n",
            "(336, 1)\n",
            "Confusion Matrix\n",
            "              precision    recall  f1-score   support\n",
            "\n",
            "         0.0       0.87      0.86      0.87       179\n",
            "         1.0       0.84      0.85      0.85       157\n",
            "\n",
            "    accuracy                           0.86       336\n",
            "   macro avg       0.86      0.86      0.86       336\n",
            "weighted avg       0.86      0.86      0.86       336\n",
            "\n"
          ]
        },
        {
          "output_type": "execute_result",
          "data": {
            "text/plain": [
              "Text(0.5, -25.558134854838144, 'Predicted label')"
            ]
          },
          "metadata": {},
          "execution_count": 61
        },
        {
          "output_type": "display_data",
          "data": {
            "image/png": "[encoded data removed]",
            "text/plain": [
              "<Figure size 432x288 with 2 Axes>"
            ]
          },
          "metadata": {
            "needs_background": "light"
          }
        }
      ],
      "source": [
        "classes = [\"Masses\", \"Calcification\"]\n",
        "Y_pred = ensemble_model.predict(test_datagen.flow(test_images,\n",
        "                                            test_labels,\n",
        "                                            batch_size=BATCH_SIZE+4,\n",
        "                                            shuffle=False),\n",
        "                          steps=len(test_images) // BATCH_SIZE)\n",
        "\n",
        "y_pred = np.where(Y_pred < 0.5, 0, 1)\n",
        "\n",
        "print(test_labels.shape)\n",
        "print(test_images.shape)\n",
        "print(Y_pred.shape)\n",
        "print(y_pred.shape)\n",
        "\n",
        "print('Confusion Matrix')\n",
        "cm = confusion_matrix(test_labels, y_pred)\n",
        "\n",
        "#print(cm)\n",
        "#print('Classification Report')\n",
        "print(classification_report(test_labels, y_pred))\n",
        "\n",
        "plt.imshow(cm, interpolation='nearest', cmap=plt.cm.Blues)\n",
        "plt.title(\"Confusione Matrix\")\n",
        "plt.colorbar()\n",
        "tick_marks = np.arange(len(classes))\n",
        "plt.xticks(tick_marks, classes, rotation=45)\n",
        "plt.yticks(tick_marks, classes)\n",
        "\n",
        "#print(cm)\n",
        "\n",
        "thresh = cm.max() / 2.\n",
        "for i, j in itertools.product(range(cm.shape[0]), range(cm.shape[1])):\n",
        "    plt.text(j, i, cm[i, j],\n",
        "        horizontalalignment=\"center\",\n",
        "        color=\"white\" if cm[i, j] > thresh else \"black\")\n",
        "\n",
        "plt.tight_layout()\n",
        "plt.ylabel('True label')\n",
        "plt.xlabel('Predicted label')\n"
      ]
    },
    {
      "cell_type": "code",
      "execution_count": null,
      "metadata": {
        "id": "JnmAIetS8LPz"
      },
      "outputs": [],
      "source": [
        "fpr,tpr,th = roc_curve(test_labels, Y_pred)\n",
        "\n",
        "roc_auc = roc_auc_score(test_labels, Y_pred)"
      ]
    },
    {
      "cell_type": "code",
      "execution_count": null,
      "metadata": {
        "colab": {
          "base_uri": "https://localhost:8080/",
          "height": 295
        },
        "id": "NM3nuARp_EfR",
        "outputId": "f96c53ba-3611-4eb8-f183-7d9a73bf82dd"
      },
      "outputs": [
        {
          "output_type": "display_data",
          "data": {
            "image/png": "[encoded data removed]",
            "text/plain": [
              "<Figure size 432x288 with 1 Axes>"
            ]
          },
          "metadata": {
            "needs_background": "light"
          }
        }
      ],
      "source": [
        "plt.title('Receiver Operating Characteristic')\n",
        "plt.plot(fpr, tpr, 'b', label = 'AUC = %0.2f' % roc_auc)\n",
        "plt.legend(loc = 'lower right')\n",
        "plt.plot([0, 1], [0, 1],'r--')\n",
        "plt.xlim([0, 1])\n",
        "plt.ylim([0, 1])\n",
        "plt.ylabel('True Positive Rate')\n",
        "plt.xlabel('False Positive Rate')\n",
        "plt.show()"
      ]
    },
    {
      "cell_type": "markdown",
      "source": [
        "##Training Model"
      ],
      "metadata": {
        "id": "wGe9xPEGp4CO"
      }
    },
    {
      "cell_type": "code",
      "source": [
        "valid_datagen = ImageDataGenerator(rescale=1./65535)\n",
        "test_datagen = ImageDataGenerator(rescale=1./65535)"
      ],
      "metadata": {
        "id": "dDdTDiBtlt-O"
      },
      "execution_count": null,
      "outputs": []
    },
    {
      "cell_type": "code",
      "source": [
        "train_datagen = ImageDataGenerator(\n",
        "    #preprocessing_function=preprocess_input,\n",
        "    rescale=1./65535,\n",
        "    rotation_range=40,\n",
        "    width_shift_range=0.25,\n",
        "    height_shift_range=0.25,\n",
        "    shear_range=0.5,\n",
        "    zoom_range=0.5, #0.5 - 1.5\n",
        "    horizontal_flip=True,\n",
        "    fill_mode='nearest'\n",
        "   )"
      ],
      "metadata": {
        "id": "Go1YES18lvIl"
      },
      "execution_count": null,
      "outputs": []
    },
    {
      "cell_type": "code",
      "source": [
        "model = keras.models.Sequential()\n",
        "model.add(ensemble_model)\n",
        "model.add(layers.Flatten())\n",
        "model.add(layers.Dense(512, activation='relu'))\n",
        "model.add(layers.Dropout(0.2))\n",
        "model.add(layers.Dense(1, activation='sigmoid'))"
      ],
      "metadata": {
        "id": "i8cup59qke2b"
      },
      "execution_count": null,
      "outputs": []
    },
    {
      "cell_type": "code",
      "source": [
        "ensemble_model.trainable=False"
      ],
      "metadata": {
        "id": "Ls1w_SXJkTxM"
      },
      "execution_count": null,
      "outputs": []
    },
    {
      "cell_type": "code",
      "execution_count": null,
      "metadata": {
        "id": "uPmHK9K78sHT"
      },
      "outputs": [],
      "source": [
        "model.compile(loss=\"binary_crossentropy\",\n",
        "              optimizer=optimizers.Adam(learning_rate=1e-4),\n",
        "              metrics=['acc'])"
      ]
    },
    {
      "cell_type": "code",
      "execution_count": null,
      "metadata": {
        "colab": {
          "base_uri": "https://localhost:8080/"
        },
        "id": "BZOpI7wR8sHU",
        "outputId": "f1b0de72-7f92-40f3-a154-bbeb7411d0cc"
      },
      "outputs": [
        {
          "output_type": "stream",
          "name": "stdout",
          "text": [
            "Epoch 1/100\n",
            "66/66 [==============================] - 53s 497ms/step - loss: 0.6990 - acc: 0.3861 - val_loss: 0.6826 - val_acc: 0.5176\n",
            "Epoch 2/100\n",
            "66/66 [==============================] - 25s 385ms/step - loss: 0.6664 - acc: 0.5522 - val_loss: 0.6554 - val_acc: 0.5176\n",
            "Epoch 3/100\n",
            "66/66 [==============================] - 26s 386ms/step - loss: 0.6397 - acc: 0.5531 - val_loss: 0.6330 - val_acc: 0.5176\n",
            "Epoch 4/100\n",
            "66/66 [==============================] - 26s 387ms/step - loss: 0.6199 - acc: 0.5522 - val_loss: 0.6135 - val_acc: 0.5176\n",
            "Epoch 5/100\n",
            "66/66 [==============================] - 26s 385ms/step - loss: 0.6010 - acc: 0.5508 - val_loss: 0.5953 - val_acc: 0.5273\n",
            "Epoch 6/100\n",
            "66/66 [==============================] - 26s 386ms/step - loss: 0.5816 - acc: 0.6276 - val_loss: 0.5792 - val_acc: 0.6504\n",
            "Epoch 7/100\n",
            "66/66 [==============================] - 26s 385ms/step - loss: 0.5705 - acc: 0.6589 - val_loss: 0.5651 - val_acc: 0.6895\n",
            "Epoch 8/100\n",
            "66/66 [==============================] - 26s 386ms/step - loss: 0.5541 - acc: 0.6926 - val_loss: 0.5525 - val_acc: 0.7109\n",
            "Epoch 9/100\n",
            "66/66 [==============================] - 26s 385ms/step - loss: 0.5426 - acc: 0.7187 - val_loss: 0.5411 - val_acc: 0.7363\n",
            "Epoch 10/100\n",
            "66/66 [==============================] - 26s 386ms/step - loss: 0.5299 - acc: 0.7334 - val_loss: 0.5308 - val_acc: 0.7676\n",
            "Epoch 11/100\n",
            "66/66 [==============================] - 26s 387ms/step - loss: 0.5235 - acc: 0.7566 - val_loss: 0.5216 - val_acc: 0.7773\n",
            "Epoch 12/100\n",
            "66/66 [==============================] - 26s 388ms/step - loss: 0.5132 - acc: 0.7737 - val_loss: 0.5134 - val_acc: 0.7949\n",
            "Epoch 13/100\n",
            "66/66 [==============================] - 26s 387ms/step - loss: 0.5092 - acc: 0.7770 - val_loss: 0.5060 - val_acc: 0.8066\n",
            "Epoch 14/100\n",
            "66/66 [==============================] - 26s 388ms/step - loss: 0.5003 - acc: 0.7913 - val_loss: 0.4994 - val_acc: 0.8242\n",
            "Epoch 15/100\n",
            "66/66 [==============================] - 26s 387ms/step - loss: 0.4940 - acc: 0.7894 - val_loss: 0.4929 - val_acc: 0.8320\n",
            "Epoch 16/100\n",
            "66/66 [==============================] - 26s 388ms/step - loss: 0.4852 - acc: 0.8174 - val_loss: 0.4868 - val_acc: 0.8418\n",
            "Epoch 17/100\n",
            "66/66 [==============================] - 26s 388ms/step - loss: 0.4763 - acc: 0.8216 - val_loss: 0.4812 - val_acc: 0.8555\n",
            "Epoch 18/100\n",
            "66/66 [==============================] - 26s 388ms/step - loss: 0.4803 - acc: 0.8193 - val_loss: 0.4764 - val_acc: 0.8652\n",
            "Epoch 19/100\n",
            "66/66 [==============================] - 26s 387ms/step - loss: 0.4810 - acc: 0.8226 - val_loss: 0.4723 - val_acc: 0.8613\n",
            "Epoch 20/100\n",
            "66/66 [==============================] - 33s 499ms/step - loss: 0.4673 - acc: 0.8368 - val_loss: 0.4680 - val_acc: 0.8633\n",
            "Epoch 21/100\n",
            "66/66 [==============================] - 33s 485ms/step - loss: 0.4731 - acc: 0.8378 - val_loss: 0.4642 - val_acc: 0.8652\n",
            "Epoch 22/100\n",
            "66/66 [==============================] - 27s 402ms/step - loss: 0.4607 - acc: 0.8520 - val_loss: 0.4605 - val_acc: 0.8652\n",
            "Epoch 23/100\n",
            "66/66 [==============================] - 26s 387ms/step - loss: 0.4522 - acc: 0.8397 - val_loss: 0.4563 - val_acc: 0.8633\n",
            "Epoch 24/100\n",
            "66/66 [==============================] - 26s 387ms/step - loss: 0.4580 - acc: 0.8439 - val_loss: 0.4532 - val_acc: 0.8652\n",
            "Epoch 25/100\n",
            "66/66 [==============================] - 28s 425ms/step - loss: 0.4525 - acc: 0.8529 - val_loss: 0.4498 - val_acc: 0.8730\n",
            "Epoch 26/100\n",
            "66/66 [==============================] - 26s 387ms/step - loss: 0.4552 - acc: 0.8477 - val_loss: 0.4470 - val_acc: 0.8730\n",
            "Epoch 27/100\n",
            "66/66 [==============================] - 26s 388ms/step - loss: 0.4519 - acc: 0.8520 - val_loss: 0.4442 - val_acc: 0.8770\n",
            "Epoch 28/100\n",
            "66/66 [==============================] - 26s 388ms/step - loss: 0.4424 - acc: 0.8634 - val_loss: 0.4408 - val_acc: 0.8789\n",
            "Epoch 29/100\n",
            "66/66 [==============================] - 26s 387ms/step - loss: 0.4490 - acc: 0.8529 - val_loss: 0.4385 - val_acc: 0.8809\n",
            "Epoch 30/100\n",
            "66/66 [==============================] - 26s 390ms/step - loss: 0.4415 - acc: 0.8586 - val_loss: 0.4356 - val_acc: 0.8828\n",
            "Epoch 31/100\n",
            "66/66 [==============================] - 27s 410ms/step - loss: 0.4365 - acc: 0.8567 - val_loss: 0.4331 - val_acc: 0.8809\n",
            "Epoch 32/100\n",
            "66/66 [==============================] - 26s 389ms/step - loss: 0.4319 - acc: 0.8714 - val_loss: 0.4303 - val_acc: 0.8828\n",
            "Epoch 33/100\n",
            "66/66 [==============================] - 26s 388ms/step - loss: 0.4398 - acc: 0.8548 - val_loss: 0.4277 - val_acc: 0.8789\n",
            "Epoch 34/100\n",
            "66/66 [==============================] - 26s 387ms/step - loss: 0.4307 - acc: 0.8615 - val_loss: 0.4250 - val_acc: 0.8789\n",
            "Epoch 35/100\n",
            "66/66 [==============================] - 26s 388ms/step - loss: 0.4270 - acc: 0.8691 - val_loss: 0.4227 - val_acc: 0.8848\n",
            "Epoch 36/100\n",
            "66/66 [==============================] - 26s 388ms/step - loss: 0.4187 - acc: 0.8757 - val_loss: 0.4201 - val_acc: 0.8848\n",
            "Epoch 37/100\n",
            "66/66 [==============================] - 26s 388ms/step - loss: 0.4187 - acc: 0.8800 - val_loss: 0.4174 - val_acc: 0.8848\n",
            "Epoch 38/100\n",
            "66/66 [==============================] - 26s 388ms/step - loss: 0.4201 - acc: 0.8686 - val_loss: 0.4151 - val_acc: 0.8867\n",
            "Epoch 39/100\n",
            "66/66 [==============================] - 26s 387ms/step - loss: 0.4145 - acc: 0.8681 - val_loss: 0.4128 - val_acc: 0.8848\n",
            "Epoch 40/100\n",
            "66/66 [==============================] - 26s 387ms/step - loss: 0.4166 - acc: 0.8719 - val_loss: 0.4106 - val_acc: 0.8867\n",
            "Epoch 41/100\n",
            "66/66 [==============================] - 26s 390ms/step - loss: 0.4239 - acc: 0.8586 - val_loss: 0.4094 - val_acc: 0.8848\n",
            "Epoch 42/100\n",
            "66/66 [==============================] - 26s 387ms/step - loss: 0.4099 - acc: 0.8717 - val_loss: 0.4072 - val_acc: 0.8867\n",
            "Epoch 43/100\n",
            "66/66 [==============================] - 26s 387ms/step - loss: 0.4134 - acc: 0.8729 - val_loss: 0.4049 - val_acc: 0.8867\n",
            "Epoch 44/100\n",
            "66/66 [==============================] - 26s 389ms/step - loss: 0.4276 - acc: 0.8591 - val_loss: 0.4040 - val_acc: 0.8906\n",
            "Epoch 45/100\n",
            "66/66 [==============================] - 26s 388ms/step - loss: 0.4044 - acc: 0.8762 - val_loss: 0.4017 - val_acc: 0.8945\n",
            "Epoch 46/100\n",
            "66/66 [==============================] - 26s 387ms/step - loss: 0.4044 - acc: 0.8814 - val_loss: 0.3993 - val_acc: 0.8926\n",
            "Epoch 47/100\n",
            "66/66 [==============================] - 26s 387ms/step - loss: 0.3973 - acc: 0.8667 - val_loss: 0.3974 - val_acc: 0.8965\n",
            "Epoch 48/100\n",
            "66/66 [==============================] - 26s 389ms/step - loss: 0.3959 - acc: 0.8786 - val_loss: 0.3950 - val_acc: 0.8965\n",
            "Epoch 49/100\n",
            "66/66 [==============================] - 26s 395ms/step - loss: 0.4030 - acc: 0.8691 - val_loss: 0.3929 - val_acc: 0.8965\n",
            "Epoch 50/100\n",
            "66/66 [==============================] - 26s 391ms/step - loss: 0.3940 - acc: 0.8771 - val_loss: 0.3910 - val_acc: 0.8965\n",
            "Epoch 51/100\n",
            "66/66 [==============================] - 26s 394ms/step - loss: 0.3993 - acc: 0.8733 - val_loss: 0.3896 - val_acc: 0.8945\n",
            "Epoch 52/100\n",
            "66/66 [==============================] - 26s 391ms/step - loss: 0.3933 - acc: 0.8786 - val_loss: 0.3878 - val_acc: 0.8945\n",
            "Epoch 53/100\n",
            "66/66 [==============================] - 26s 391ms/step - loss: 0.3875 - acc: 0.8809 - val_loss: 0.3857 - val_acc: 0.8945\n",
            "Epoch 54/100\n",
            "66/66 [==============================] - 26s 391ms/step - loss: 0.3952 - acc: 0.8795 - val_loss: 0.3841 - val_acc: 0.8984\n",
            "Epoch 55/100\n",
            "66/66 [==============================] - 26s 390ms/step - loss: 0.3744 - acc: 0.8866 - val_loss: 0.3818 - val_acc: 0.8945\n",
            "Epoch 56/100\n",
            "66/66 [==============================] - 26s 388ms/step - loss: 0.3848 - acc: 0.8819 - val_loss: 0.3803 - val_acc: 0.8984\n",
            "Epoch 57/100\n",
            "66/66 [==============================] - 26s 389ms/step - loss: 0.3859 - acc: 0.8762 - val_loss: 0.3789 - val_acc: 0.9004\n",
            "Epoch 58/100\n",
            "66/66 [==============================] - 26s 389ms/step - loss: 0.3838 - acc: 0.8771 - val_loss: 0.3774 - val_acc: 0.9004\n",
            "Epoch 59/100\n",
            "66/66 [==============================] - 26s 389ms/step - loss: 0.3867 - acc: 0.8731 - val_loss: 0.3762 - val_acc: 0.8984\n",
            "Epoch 60/100\n",
            "66/66 [==============================] - 26s 389ms/step - loss: 0.3716 - acc: 0.8843 - val_loss: 0.3741 - val_acc: 0.9004\n",
            "Epoch 61/100\n",
            "66/66 [==============================] - 26s 389ms/step - loss: 0.3760 - acc: 0.8809 - val_loss: 0.3724 - val_acc: 0.8984\n",
            "Epoch 62/100\n",
            "66/66 [==============================] - 26s 389ms/step - loss: 0.3823 - acc: 0.8843 - val_loss: 0.3709 - val_acc: 0.8984\n",
            "Epoch 63/100\n",
            "66/66 [==============================] - 26s 389ms/step - loss: 0.3707 - acc: 0.8828 - val_loss: 0.3691 - val_acc: 0.9004\n",
            "Epoch 64/100\n",
            "66/66 [==============================] - 26s 388ms/step - loss: 0.3821 - acc: 0.8762 - val_loss: 0.3681 - val_acc: 0.8984\n",
            "Epoch 65/100\n",
            "66/66 [==============================] - 26s 388ms/step - loss: 0.3793 - acc: 0.8771 - val_loss: 0.3668 - val_acc: 0.8965\n",
            "Epoch 66/100\n",
            "66/66 [==============================] - 26s 391ms/step - loss: 0.3747 - acc: 0.8861 - val_loss: 0.3654 - val_acc: 0.8984\n",
            "Epoch 67/100\n",
            "66/66 [==============================] - 26s 391ms/step - loss: 0.3869 - acc: 0.8743 - val_loss: 0.3646 - val_acc: 0.9004\n",
            "Epoch 68/100\n",
            "66/66 [==============================] - 26s 391ms/step - loss: 0.3734 - acc: 0.8805 - val_loss: 0.3631 - val_acc: 0.9004\n",
            "Epoch 69/100\n",
            "66/66 [==============================] - 26s 390ms/step - loss: 0.3510 - acc: 0.9013 - val_loss: 0.3611 - val_acc: 0.9004\n",
            "Epoch 70/100\n",
            "66/66 [==============================] - 26s 390ms/step - loss: 0.3728 - acc: 0.8771 - val_loss: 0.3601 - val_acc: 0.9004\n",
            "Epoch 71/100\n",
            "66/66 [==============================] - 26s 390ms/step - loss: 0.3621 - acc: 0.8871 - val_loss: 0.3585 - val_acc: 0.9004\n",
            "Epoch 72/100\n",
            "66/66 [==============================] - 26s 390ms/step - loss: 0.3614 - acc: 0.8828 - val_loss: 0.3572 - val_acc: 0.9004\n",
            "Epoch 73/100\n",
            "66/66 [==============================] - 26s 389ms/step - loss: 0.3624 - acc: 0.8876 - val_loss: 0.3558 - val_acc: 0.9023\n",
            "Epoch 74/100\n",
            "66/66 [==============================] - 26s 389ms/step - loss: 0.3701 - acc: 0.8733 - val_loss: 0.3551 - val_acc: 0.8984\n",
            "Epoch 75/100\n",
            "66/66 [==============================] - 26s 390ms/step - loss: 0.3670 - acc: 0.8752 - val_loss: 0.3540 - val_acc: 0.8984\n",
            "Epoch 76/100\n",
            "66/66 [==============================] - 26s 391ms/step - loss: 0.3429 - acc: 0.8956 - val_loss: 0.3516 - val_acc: 0.9023\n",
            "Epoch 77/100\n",
            "66/66 [==============================] - 31s 463ms/step - loss: 0.3536 - acc: 0.8866 - val_loss: 0.3502 - val_acc: 0.9023\n",
            "Epoch 78/100\n",
            "66/66 [==============================] - 26s 390ms/step - loss: 0.3632 - acc: 0.8776 - val_loss: 0.3491 - val_acc: 0.9004\n",
            "Epoch 79/100\n",
            "66/66 [==============================] - 26s 391ms/step - loss: 0.3614 - acc: 0.8805 - val_loss: 0.3480 - val_acc: 0.9004\n",
            "Epoch 80/100\n",
            "66/66 [==============================] - 26s 390ms/step - loss: 0.3566 - acc: 0.8809 - val_loss: 0.3470 - val_acc: 0.8984\n",
            "Epoch 81/100\n",
            "66/66 [==============================] - 26s 391ms/step - loss: 0.3584 - acc: 0.8767 - val_loss: 0.3462 - val_acc: 0.8984\n",
            "Epoch 82/100\n",
            "66/66 [==============================] - 26s 391ms/step - loss: 0.3450 - acc: 0.8923 - val_loss: 0.3449 - val_acc: 0.8984\n",
            "Epoch 83/100\n",
            "66/66 [==============================] - 26s 390ms/step - loss: 0.3461 - acc: 0.8871 - val_loss: 0.3434 - val_acc: 0.8984\n",
            "Epoch 84/100\n",
            "66/66 [==============================] - 26s 391ms/step - loss: 0.3562 - acc: 0.8795 - val_loss: 0.3425 - val_acc: 0.8965\n",
            "Epoch 85/100\n",
            "66/66 [==============================] - 26s 394ms/step - loss: 0.3564 - acc: 0.8838 - val_loss: 0.3412 - val_acc: 0.8984\n",
            "Epoch 86/100\n",
            "66/66 [==============================] - 26s 391ms/step - loss: 0.3558 - acc: 0.8805 - val_loss: 0.3405 - val_acc: 0.8965\n",
            "Epoch 87/100\n",
            "66/66 [==============================] - 26s 390ms/step - loss: 0.3586 - acc: 0.8686 - val_loss: 0.3394 - val_acc: 0.8965\n",
            "Epoch 88/100\n",
            "66/66 [==============================] - 26s 391ms/step - loss: 0.3459 - acc: 0.8866 - val_loss: 0.3384 - val_acc: 0.8965\n",
            "Epoch 89/100\n",
            "66/66 [==============================] - 26s 391ms/step - loss: 0.3435 - acc: 0.8843 - val_loss: 0.3374 - val_acc: 0.8965\n",
            "Epoch 90/100\n",
            "66/66 [==============================] - 26s 389ms/step - loss: 0.3374 - acc: 0.8814 - val_loss: 0.3363 - val_acc: 0.8965\n",
            "Epoch 91/100\n",
            "66/66 [==============================] - 26s 391ms/step - loss: 0.3542 - acc: 0.8767 - val_loss: 0.3356 - val_acc: 0.8926\n",
            "Epoch 92/100\n",
            "66/66 [==============================] - 26s 391ms/step - loss: 0.3509 - acc: 0.8805 - val_loss: 0.3345 - val_acc: 0.8945\n",
            "Epoch 93/100\n",
            "66/66 [==============================] - 26s 390ms/step - loss: 0.3517 - acc: 0.8800 - val_loss: 0.3335 - val_acc: 0.8945\n",
            "Epoch 94/100\n",
            "66/66 [==============================] - 26s 390ms/step - loss: 0.3476 - acc: 0.8824 - val_loss: 0.3326 - val_acc: 0.8926\n",
            "Epoch 95/100\n",
            "66/66 [==============================] - 26s 390ms/step - loss: 0.3460 - acc: 0.8752 - val_loss: 0.3321 - val_acc: 0.8926\n",
            "Epoch 96/100\n",
            "66/66 [==============================] - 26s 390ms/step - loss: 0.3568 - acc: 0.8710 - val_loss: 0.3317 - val_acc: 0.8945\n",
            "Epoch 97/100\n",
            "66/66 [==============================] - 26s 390ms/step - loss: 0.3526 - acc: 0.8771 - val_loss: 0.3315 - val_acc: 0.8926\n",
            "Epoch 98/100\n",
            "66/66 [==============================] - 26s 390ms/step - loss: 0.3356 - acc: 0.8809 - val_loss: 0.3297 - val_acc: 0.8945\n",
            "Epoch 99/100\n",
            "66/66 [==============================] - 26s 389ms/step - loss: 0.3517 - acc: 0.8714 - val_loss: 0.3284 - val_acc: 0.8926\n",
            "Epoch 100/100\n",
            "66/66 [==============================] - 26s 391ms/step - loss: 0.3424 - acc: 0.8824 - val_loss: 0.3278 - val_acc: 0.8926\n"
          ]
        }
      ],
      "source": [
        "history = model.fit(train_datagen.flow(train_dataset_split,\n",
        "                                       train_labels_split,\n",
        "                                       batch_size=BATCH_SIZE,\n",
        "                                       shuffle=False),\n",
        "                    steps_per_epoch=len(train_dataset_split) // BATCH_SIZE, \n",
        "                    epochs=EPOCHS,\n",
        "                    #callbacks=[callback],\n",
        "                    validation_data=valid_datagen.flow(valid_dataset_split,\n",
        "                                       valid_labels_split,\n",
        "                                       batch_size=BATCH_SIZE,\n",
        "                                       shuffle=False),\n",
        "                    validation_steps=len(valid_labels_split) // BATCH_SIZE)"
      ]
    },
    {
      "cell_type": "code",
      "execution_count": null,
      "metadata": {
        "id": "CFnIKsZ28sHU",
        "colab": {
          "base_uri": "https://localhost:8080/",
          "height": 450
        },
        "outputId": "aa642b70-5b05-4f77-bcf8-a24a6a9386f3"
      },
      "outputs": [
        {
          "output_type": "stream",
          "name": "stderr",
          "text": [
            "/usr/local/lib/python3.7/dist-packages/keras/engine/functional.py:1410: CustomMaskWarning: Custom mask layers require a config and must override get_config. When loading, the custom mask layer must be passed to the custom_objects argument.\n",
            "  layer_config = serialize_layer_fn(layer)\n"
          ]
        },
        {
          "output_type": "error",
          "ename": "ValueError",
          "evalue": "ignored",
          "traceback": [
            "\u001b[0;31m---------------------------------------------------------------------------\u001b[0m",
            "\u001b[0;31mValueError\u001b[0m                                Traceback (most recent call last)",
            "\u001b[0;32m<ipython-input-85-9a4a6576deeb>\u001b[0m in \u001b[0;36m<module>\u001b[0;34m()\u001b[0m\n\u001b[0;32m----> 1\u001b[0;31m \u001b[0mmodel\u001b[0m\u001b[0;34m.\u001b[0m\u001b[0msave\u001b[0m\u001b[0;34m(\u001b[0m\u001b[0mos\u001b[0m\u001b[0;34m.\u001b[0m\u001b[0mpath\u001b[0m\u001b[0;34m.\u001b[0m\u001b[0mjoin\u001b[0m\u001b[0;34m(\u001b[0m\u001b[0mMODEL_ENSEMBLE_PATH\u001b[0m\u001b[0;34m,\u001b[0m\u001b[0;34m'calcmasses_ensemble_model2.h5'\u001b[0m\u001b[0;34m)\u001b[0m\u001b[0;34m)\u001b[0m\u001b[0;34m\u001b[0m\u001b[0;34m\u001b[0m\u001b[0m\n\u001b[0m",
            "\u001b[0;32m/usr/local/lib/python3.7/dist-packages/keras/utils/traceback_utils.py\u001b[0m in \u001b[0;36merror_handler\u001b[0;34m(*args, **kwargs)\u001b[0m\n\u001b[1;32m     65\u001b[0m     \u001b[0;32mexcept\u001b[0m \u001b[0mException\u001b[0m \u001b[0;32mas\u001b[0m \u001b[0me\u001b[0m\u001b[0;34m:\u001b[0m  \u001b[0;31m# pylint: disable=broad-except\u001b[0m\u001b[0;34m\u001b[0m\u001b[0;34m\u001b[0m\u001b[0m\n\u001b[1;32m     66\u001b[0m       \u001b[0mfiltered_tb\u001b[0m \u001b[0;34m=\u001b[0m \u001b[0m_process_traceback_frames\u001b[0m\u001b[0;34m(\u001b[0m\u001b[0me\u001b[0m\u001b[0;34m.\u001b[0m\u001b[0m__traceback__\u001b[0m\u001b[0;34m)\u001b[0m\u001b[0;34m\u001b[0m\u001b[0;34m\u001b[0m\u001b[0m\n\u001b[0;32m---> 67\u001b[0;31m       \u001b[0;32mraise\u001b[0m \u001b[0me\u001b[0m\u001b[0;34m.\u001b[0m\u001b[0mwith_traceback\u001b[0m\u001b[0;34m(\u001b[0m\u001b[0mfiltered_tb\u001b[0m\u001b[0;34m)\u001b[0m \u001b[0;32mfrom\u001b[0m \u001b[0;32mNone\u001b[0m\u001b[0;34m\u001b[0m\u001b[0;34m\u001b[0m\u001b[0m\n\u001b[0m\u001b[1;32m     68\u001b[0m     \u001b[0;32mfinally\u001b[0m\u001b[0;34m:\u001b[0m\u001b[0;34m\u001b[0m\u001b[0;34m\u001b[0m\u001b[0m\n\u001b[1;32m     69\u001b[0m       \u001b[0;32mdel\u001b[0m \u001b[0mfiltered_tb\u001b[0m\u001b[0;34m\u001b[0m\u001b[0;34m\u001b[0m\u001b[0m\n",
            "\u001b[0;32m/usr/local/lib/python3.7/dist-packages/h5py/_hl/group.py\u001b[0m in \u001b[0;36mcreate_dataset\u001b[0;34m(self, name, shape, dtype, data, **kwds)\u001b[0m\n\u001b[1;32m    146\u001b[0m                     \u001b[0mgroup\u001b[0m \u001b[0;34m=\u001b[0m \u001b[0mself\u001b[0m\u001b[0;34m.\u001b[0m\u001b[0mrequire_group\u001b[0m\u001b[0;34m(\u001b[0m\u001b[0mparent_path\u001b[0m\u001b[0;34m)\u001b[0m\u001b[0;34m\u001b[0m\u001b[0;34m\u001b[0m\u001b[0m\n\u001b[1;32m    147\u001b[0m \u001b[0;34m\u001b[0m\u001b[0m\n\u001b[0;32m--> 148\u001b[0;31m             \u001b[0mdsid\u001b[0m \u001b[0;34m=\u001b[0m \u001b[0mdataset\u001b[0m\u001b[0;34m.\u001b[0m\u001b[0mmake_new_dset\u001b[0m\u001b[0;34m(\u001b[0m\u001b[0mgroup\u001b[0m\u001b[0;34m,\u001b[0m \u001b[0mshape\u001b[0m\u001b[0;34m,\u001b[0m \u001b[0mdtype\u001b[0m\u001b[0;34m,\u001b[0m \u001b[0mdata\u001b[0m\u001b[0;34m,\u001b[0m \u001b[0mname\u001b[0m\u001b[0;34m,\u001b[0m \u001b[0;34m**\u001b[0m\u001b[0mkwds\u001b[0m\u001b[0;34m)\u001b[0m\u001b[0;34m\u001b[0m\u001b[0;34m\u001b[0m\u001b[0m\n\u001b[0m\u001b[1;32m    149\u001b[0m             \u001b[0mdset\u001b[0m \u001b[0;34m=\u001b[0m \u001b[0mdataset\u001b[0m\u001b[0;34m.\u001b[0m\u001b[0mDataset\u001b[0m\u001b[0;34m(\u001b[0m\u001b[0mdsid\u001b[0m\u001b[0;34m)\u001b[0m\u001b[0;34m\u001b[0m\u001b[0;34m\u001b[0m\u001b[0m\n\u001b[1;32m    150\u001b[0m             \u001b[0;32mreturn\u001b[0m \u001b[0mdset\u001b[0m\u001b[0;34m\u001b[0m\u001b[0;34m\u001b[0m\u001b[0m\n",
            "\u001b[0;32m/usr/local/lib/python3.7/dist-packages/h5py/_hl/dataset.py\u001b[0m in \u001b[0;36mmake_new_dset\u001b[0;34m(parent, shape, dtype, data, name, chunks, compression, shuffle, fletcher32, maxshape, compression_opts, fillvalue, scaleoffset, track_times, external, track_order, dcpl, allow_unknown_filter)\u001b[0m\n\u001b[1;32m    135\u001b[0m \u001b[0;34m\u001b[0m\u001b[0m\n\u001b[1;32m    136\u001b[0m \u001b[0;34m\u001b[0m\u001b[0m\n\u001b[0;32m--> 137\u001b[0;31m     \u001b[0mdset_id\u001b[0m \u001b[0;34m=\u001b[0m \u001b[0mh5d\u001b[0m\u001b[0;34m.\u001b[0m\u001b[0mcreate\u001b[0m\u001b[0;34m(\u001b[0m\u001b[0mparent\u001b[0m\u001b[0;34m.\u001b[0m\u001b[0mid\u001b[0m\u001b[0;34m,\u001b[0m \u001b[0mname\u001b[0m\u001b[0;34m,\u001b[0m \u001b[0mtid\u001b[0m\u001b[0;34m,\u001b[0m \u001b[0msid\u001b[0m\u001b[0;34m,\u001b[0m \u001b[0mdcpl\u001b[0m\u001b[0;34m=\u001b[0m\u001b[0mdcpl\u001b[0m\u001b[0;34m)\u001b[0m\u001b[0;34m\u001b[0m\u001b[0;34m\u001b[0m\u001b[0m\n\u001b[0m\u001b[1;32m    138\u001b[0m \u001b[0;34m\u001b[0m\u001b[0m\n\u001b[1;32m    139\u001b[0m     \u001b[0;32mif\u001b[0m \u001b[0;34m(\u001b[0m\u001b[0mdata\u001b[0m \u001b[0;32mis\u001b[0m \u001b[0;32mnot\u001b[0m \u001b[0;32mNone\u001b[0m\u001b[0;34m)\u001b[0m \u001b[0;32mand\u001b[0m \u001b[0;34m(\u001b[0m\u001b[0;32mnot\u001b[0m \u001b[0misinstance\u001b[0m\u001b[0;34m(\u001b[0m\u001b[0mdata\u001b[0m\u001b[0;34m,\u001b[0m \u001b[0mEmpty\u001b[0m\u001b[0;34m)\u001b[0m\u001b[0;34m)\u001b[0m\u001b[0;34m:\u001b[0m\u001b[0;34m\u001b[0m\u001b[0;34m\u001b[0m\u001b[0m\n",
            "\u001b[0;32mh5py/_objects.pyx\u001b[0m in \u001b[0;36mh5py._objects.with_phil.wrapper\u001b[0;34m()\u001b[0m\n",
            "\u001b[0;32mh5py/_objects.pyx\u001b[0m in \u001b[0;36mh5py._objects.with_phil.wrapper\u001b[0;34m()\u001b[0m\n",
            "\u001b[0;32mh5py/h5d.pyx\u001b[0m in \u001b[0;36mh5py.h5d.create\u001b[0;34m()\u001b[0m\n",
            "\u001b[0;31mValueError\u001b[0m: Unable to create dataset (name already exists)"
          ]
        }
      ],
      "source": [
        "model.save(os.path.join(MODEL_ENSEMBLE_PATH, 'calcmasses_ensemble_model2.h5'))"
      ]
    },
    {
      "cell_type": "code",
      "execution_count": null,
      "metadata": {
        "colab": {
          "base_uri": "https://localhost:8080/",
          "height": 281
        },
        "id": "bO49h-ng8sHV",
        "outputId": "fb802f72-8285-405d-808d-7f5562645603"
      },
      "outputs": [
        {
          "output_type": "display_data",
          "data": {
            "image/png": "[encoded data removed]",
            "text/plain": [
              "<Figure size 432x288 with 1 Axes>"
            ]
          },
          "metadata": {
            "needs_background": "light"
          }
        }
      ],
      "source": [
        "plt_a = plot_acc(history)\n",
        "plt_a.savefig(os.path.join(PLOTS_PATH, 'calcmasses_ensemble_model1_acc.png'))\n",
        "plt_a.show()"
      ]
    },
    {
      "cell_type": "code",
      "execution_count": null,
      "metadata": {
        "colab": {
          "base_uri": "https://localhost:8080/",
          "height": 298
        },
        "id": "G2XqjiEV8sHV",
        "outputId": "20a5c66c-7570-4647-d9b4-9fddf05f5fb5"
      },
      "outputs": [
        {
          "output_type": "display_data",
          "data": {
            "image/png": "[encoded data removed]",
            "text/plain": [
              "<Figure size 432x288 with 1 Axes>"
            ]
          },
          "metadata": {
            "needs_background": "light"
          }
        },
        {
          "output_type": "display_data",
          "data": {
            "text/plain": [
              "<Figure size 432x288 with 0 Axes>"
            ]
          },
          "metadata": {}
        }
      ],
      "source": [
        "plt_l = plot_loss(history)\n",
        "plt_l.show()\n",
        "plt_l.savefig(os.path.join(PLOTS_PATH, 'calcmasses_ensemble_model1_loss.png'))"
      ]
    },
    {
      "cell_type": "code",
      "execution_count": null,
      "metadata": {
        "colab": {
          "base_uri": "https://localhost:8080/"
        },
        "id": "4jqKJ-t08sHV",
        "outputId": "1f8ee8bd-6fb6-4ed4-f63e-7351b19f873c"
      },
      "outputs": [
        {
          "output_type": "stream",
          "name": "stdout",
          "text": [
            "Epoch [end]: 100\n",
            "Epoch [opt]: 73\n",
            "Valid accuracy [end]: 0.8926\n",
            "Valid accuracy [opt]: 0.9023\n",
            "Valid loss [end]: 0.3278\n",
            "Valid loss [opt]: 0.3558\n"
          ]
        }
      ],
      "source": [
        "print_opt_results(history)"
      ]
    },
    {
      "cell_type": "code",
      "execution_count": null,
      "metadata": {
        "colab": {
          "base_uri": "https://localhost:8080/"
        },
        "id": "0m_oVfrZ8sHW",
        "outputId": "eb83a03d-cf33-47f7-c7c5-cfaa28ac3ef0"
      },
      "outputs": [
        {
          "output_type": "stream",
          "name": "stdout",
          "text": [
            "10/10 [==============================] - 4s 350ms/step - loss: 0.3946 - acc: 0.8562\n",
            "\n",
            "---------------------------------\n",
            "Accuracy: 85.62 %\n",
            "Loss: 0.39\n",
            "---------------------------------\n",
            "\n"
          ]
        }
      ],
      "source": [
        "test_loss, test_accuracy = model.evaluate(test_datagen.flow(test_images,\n",
        "                                            test_labels,\n",
        "                                            batch_size=BATCH_SIZE,\n",
        "                                            shuffle=False),\n",
        "                                            steps=len(test_images) // BATCH_SIZE)\n",
        "\n",
        "print(\"\\n---------------------------------\")\n",
        "print(\"Accuracy:\", \"%0.2f\" % (test_accuracy*100), \"%\")\n",
        "print(\"Loss:\", \"%0.2f\" % (test_loss))\n",
        "print(\"---------------------------------\\n\")"
      ]
    },
    {
      "cell_type": "code",
      "execution_count": null,
      "metadata": {
        "id": "fgaDA5XXTr-g"
      },
      "outputs": [],
      "source": [
        "model_best = model"
      ]
    },
    {
      "cell_type": "code",
      "execution_count": null,
      "metadata": {
        "colab": {
          "base_uri": "https://localhost:8080/",
          "height": 571
        },
        "outputId": "819c1c77-438d-4c21-89da-f9b8e4c67b03",
        "id": "OdoflDkjv0tb"
      },
      "outputs": [
        {
          "output_type": "stream",
          "name": "stdout",
          "text": [
            "(336,)\n",
            "(336, 150, 150, 3)\n",
            "(336, 1)\n",
            "(336, 1)\n",
            "Confusion Matrix\n",
            "              precision    recall  f1-score   support\n",
            "\n",
            "         0.0       0.87      0.86      0.87       179\n",
            "         1.0       0.84      0.85      0.85       157\n",
            "\n",
            "    accuracy                           0.86       336\n",
            "   macro avg       0.86      0.86      0.86       336\n",
            "weighted avg       0.86      0.86      0.86       336\n",
            "\n"
          ]
        },
        {
          "output_type": "execute_result",
          "data": {
            "text/plain": [
              "Text(0.5, -6.819805153394636, 'Predicted label')"
            ]
          },
          "metadata": {},
          "execution_count": 82
        },
        {
          "output_type": "display_data",
          "data": {
            "image/png": "[encoded data removed]",
            "text/plain": [
              "<Figure size 432x288 with 2 Axes>"
            ]
          },
          "metadata": {
            "needs_background": "light"
          }
        }
      ],
      "source": [
        "classes = [\"Benign\", \"Malign\"]\n",
        "Y_pred = model_best.predict(test_datagen.flow(test_images,\n",
        "                                            test_labels,\n",
        "                                            batch_size=BATCH_SIZE+4,\n",
        "                                            shuffle=False),\n",
        "                          steps=len(test_images) // BATCH_SIZE)\n",
        "\n",
        "y_pred = np.where(Y_pred < 0.5, 0, 1)\n",
        "\n",
        "print(test_labels.shape)\n",
        "print(test_images.shape)\n",
        "print(Y_pred.shape)\n",
        "print(y_pred.shape)\n",
        "\n",
        "print('Confusion Matrix')\n",
        "cm = confusion_matrix(test_labels, y_pred)\n",
        "\n",
        "#print(cm)\n",
        "#print('Classification Report')\n",
        "print(classification_report(test_labels, y_pred))\n",
        "\n",
        "plt.imshow(cm, interpolation='nearest', cmap=plt.cm.Blues)\n",
        "plt.title(\"Confusione Matrix\")\n",
        "plt.colorbar()\n",
        "tick_marks = np.arange(len(classes))\n",
        "plt.xticks(tick_marks, classes, rotation=45)\n",
        "plt.yticks(tick_marks, classes)\n",
        "\n",
        "#print(cm)\n",
        "\n",
        "thresh = cm.max() / 2.\n",
        "for i, j in itertools.product(range(cm.shape[0]), range(cm.shape[1])):\n",
        "    plt.text(j, i, cm[i, j],\n",
        "        horizontalalignment=\"center\",\n",
        "        color=\"white\" if cm[i, j] > thresh else \"black\")\n",
        "\n",
        "plt.tight_layout()\n",
        "plt.ylabel('True label')\n",
        "plt.xlabel('Predicted label')\n"
      ]
    },
    {
      "cell_type": "code",
      "execution_count": null,
      "metadata": {
        "id": "pDraiQYUv0tb"
      },
      "outputs": [],
      "source": [
        "fpr,tpr,th = roc_curve(test_labels, Y_pred)\n",
        "\n",
        "roc_auc = roc_auc_score(test_labels, Y_pred)"
      ]
    },
    {
      "cell_type": "code",
      "execution_count": null,
      "metadata": {
        "colab": {
          "base_uri": "https://localhost:8080/",
          "height": 295
        },
        "outputId": "4877e998-7b4b-4f44-bbea-d48a9a03350a",
        "id": "TLTKLIp8v0tc"
      },
      "outputs": [
        {
          "output_type": "display_data",
          "data": {
            "image/png": "[encoded data removed]",
            "text/plain": [
              "<Figure size 432x288 with 1 Axes>"
            ]
          },
          "metadata": {
            "needs_background": "light"
          }
        }
      ],
      "source": [
        "plt.title('Receiver Operating Characteristic')\n",
        "plt.plot(fpr, tpr, 'b', label = 'AUC = %0.2f' % roc_auc)\n",
        "plt.legend(loc = 'lower right')\n",
        "plt.plot([0, 1], [0, 1],'r--')\n",
        "plt.xlim([0, 1])\n",
        "plt.ylim([0, 1])\n",
        "plt.ylabel('True Positive Rate')\n",
        "plt.xlabel('False Positive Rate')\n",
        "plt.show()"
      ]
    },
    {
      "cell_type": "code",
      "source": [
        ""
      ],
      "metadata": {
        "id": "PfWJ5LGN07ZO"
      },
      "execution_count": null,
      "outputs": []
    },
    {
      "cell_type": "markdown",
      "metadata": {
        "id": "Bp_vr4Sh1kEl"
      },
      "source": [
        "# Ensemble Ben Mal\n"
      ]
    },
    {
      "cell_type": "markdown",
      "source": [
        "##Data"
      ],
      "metadata": {
        "id": "yidJAiJiQTMB"
      }
    },
    {
      "cell_type": "code",
      "execution_count": null,
      "metadata": {
        "colab": {
          "base_uri": "https://localhost:8080/"
        },
        "outputId": "51d14bae-9b45-451c-a3c7-4cc038cb544a",
        "id": "W0F6gAVTQTMC"
      },
      "outputs": [
        {
          "output_type": "stream",
          "name": "stdout",
          "text": [
            "Train shape:  (2676, 150, 150)\n",
            "Test shape:  (336, 150, 150)\n"
          ]
        }
      ],
      "source": [
        "# Get abnormalities only \n",
        "train_images = remove_baseline(train_images)\n",
        "train_labels = remove_baseline(train_labels)\n",
        "test_images = remove_baseline(test_images)\n",
        "test_labels = remove_baseline(test_labels)\n",
        "\n",
        "# Mapping labels with standard index\n",
        "train_labels = labels_mapping_benmal(train_labels)\n",
        "test_labels = labels_mapping_benmal(test_labels)\n",
        "\n",
        "# Suffle index (Previous dataset is ordered by index)\n",
        "train_images, train_labels = shuffle_dataset(train_images, train_labels)\n",
        "test_images, test_labels = shuffle_dataset(test_images, test_labels)\n",
        "\n",
        "print(\"Train shape: \", train_images.shape)\n",
        "print(\"Test shape: \", test_images.shape)"
      ]
    },
    {
      "cell_type": "code",
      "execution_count": null,
      "metadata": {
        "colab": {
          "base_uri": "https://localhost:8080/"
        },
        "outputId": "086f0b22-d6eb-4408-e27c-940a5255362e",
        "id": "jWEGoZiHQTMD"
      },
      "outputs": [
        {
          "output_type": "stream",
          "name": "stdout",
          "text": [
            "Train shape:  (2676, 150, 150, 1)\n",
            "Test shape:  (336, 150, 150, 1)\n"
          ]
        }
      ],
      "source": [
        "# Prepare the data with the expected format\n",
        "train_images = train_images.reshape(train_images.shape + (1,))\n",
        "test_images = test_images.reshape(test_images.shape + (1,))\n",
        "\n",
        "print(\"Train shape: \", train_images.shape)\n",
        "print(\"Test shape: \", test_images.shape)"
      ]
    },
    {
      "cell_type": "code",
      "execution_count": null,
      "metadata": {
        "colab": {
          "base_uri": "https://localhost:8080/"
        },
        "outputId": "89901c05-2855-4cc4-af99-3f7c562efe36",
        "id": "FB_EcRKRQTMD"
      },
      "outputs": [
        {
          "output_type": "stream",
          "name": "stdout",
          "text": [
            "Masses samples:  1568\n",
            "Calcifications samples:  1108\n"
          ]
        }
      ],
      "source": [
        "#check if training dataset is balanced  \n",
        "unique, counts = np.unique(train_labels, return_counts=True)\n",
        "print(\"Masses samples: \", counts[0])\n",
        "print(\"Calcifications samples: \", counts[1])"
      ]
    },
    {
      "cell_type": "code",
      "execution_count": null,
      "metadata": {
        "colab": {
          "base_uri": "https://localhost:8080/"
        },
        "outputId": "568b9783-76f0-43b8-fb99-d09913259fe9",
        "id": "bAsHKfsFQTMD"
      },
      "outputs": [
        {
          "output_type": "stream",
          "name": "stdout",
          "text": [
            "(2140, 150, 150, 1)\n",
            "(536, 150, 150, 1)\n"
          ]
        }
      ],
      "source": [
        "#Splitting training-validation with 80-20 %\n",
        "split_index = int(0.8*len(train_images))\n",
        "train_dataset_split = train_images[:split_index]\n",
        "valid_dataset_split = train_images[split_index:]\n",
        "train_labels_split = train_labels[:split_index]\n",
        "valid_labels_split = train_labels[split_index:]\n",
        "\n",
        "print(train_dataset_split.shape)\n",
        "print(valid_dataset_split.shape)"
      ]
    },
    {
      "cell_type": "code",
      "execution_count": null,
      "metadata": {
        "id": "mR6l7AKpQTME"
      },
      "outputs": [],
      "source": [
        "test_datagen = ImageDataGenerator(rescale=1./65535)"
      ]
    },
    {
      "cell_type": "markdown",
      "source": [
        "##Scratch"
      ],
      "metadata": {
        "id": "o3yiPr1y1kEl"
      }
    },
    {
      "cell_type": "code",
      "source": [
        "test_gen= test_datagen.flow(test_images,\n",
        "                            test_labels,\n",
        "                            batch_size=BATCH_SIZE+2,\n",
        "                            shuffle=False)"
      ],
      "metadata": {
        "id": "neTGvLpd1kEl"
      },
      "execution_count": null,
      "outputs": []
    },
    {
      "cell_type": "code",
      "source": [
        "model1 = load_model(os.path.join(MODEL_SCRATCH_PATH,'benmal_modelbest.h5'))\n",
        "model2 = load_model(os.path.join(MODEL_SCRATCH_PATH,'benmal_model8.h5'))\n",
        "model3 = load_model(os.path.join(MODEL_SCRATCH_PATH,'benmal_model3.h5'))\n",
        "model4 = load_model(os.path.join(MODEL_SCRATCH_PATH,'benmal_model14.h5'))"
      ],
      "metadata": {
        "id": "49QopWhe1kEl"
      },
      "execution_count": null,
      "outputs": []
    },
    {
      "cell_type": "code",
      "source": [
        "preds_1=model1.predict(test_gen, steps=len(test_images) // BATCH_SIZE)\n",
        "preds_2=model2.predict(test_gen, steps=len(test_images) // BATCH_SIZE)\n",
        "preds_3=model3.predict(test_gen, steps=len(test_images) // BATCH_SIZE)\n",
        "preds_4=model4.predict(test_gen, steps=len(test_images) // BATCH_SIZE)\n",
        "\n",
        "final_preds = 0.25 * (preds_1 + preds_2 + preds_3 + preds_4)"
      ],
      "metadata": {
        "id": "vixhvD9w1kEm"
      },
      "execution_count": null,
      "outputs": []
    },
    {
      "cell_type": "code",
      "execution_count": null,
      "metadata": {
        "colab": {
          "base_uri": "https://localhost:8080/",
          "height": 571
        },
        "outputId": "9cfa12e1-2583-4a89-ccfa-fdb577ba6e4d",
        "id": "ISM9_8sp1kEm"
      },
      "outputs": [
        {
          "output_type": "stream",
          "name": "stdout",
          "text": [
            "(336,)\n",
            "(336, 150, 150, 1)\n",
            "(336, 1)\n",
            "(336, 1)\n",
            "Confusion Matrix\n",
            "              precision    recall  f1-score   support\n",
            "\n",
            "         0.0       0.78      0.66      0.71       219\n",
            "         1.0       0.50      0.65      0.57       117\n",
            "\n",
            "    accuracy                           0.65       336\n",
            "   macro avg       0.64      0.65      0.64       336\n",
            "weighted avg       0.68      0.65      0.66       336\n",
            "\n"
          ]
        },
        {
          "output_type": "execute_result",
          "data": {
            "text/plain": [
              "Text(0.5, -6.819805153394636, 'Predicted label')"
            ]
          },
          "metadata": {},
          "execution_count": 53
        },
        {
          "output_type": "display_data",
          "data": {
            "image/png": "[encoded data removed]",
            "text/plain": [
              "<Figure size 432x288 with 2 Axes>"
            ]
          },
          "metadata": {
            "needs_background": "light"
          }
        }
      ],
      "source": [
        "classes = [\"Benign\", \"Malign\"]\n",
        "\n",
        "y_pred = np.where(final_preds < 0.5, 0, 1)\n",
        "\n",
        "print(test_labels.shape)\n",
        "print(test_images.shape)\n",
        "print(final_preds.shape)\n",
        "print(y_pred.shape)\n",
        "\n",
        "print('Confusion Matrix')\n",
        "cm = confusion_matrix(test_labels, y_pred)\n",
        "\n",
        "#print(cm)\n",
        "#print('Classification Report')\n",
        "print(classification_report(test_labels, y_pred))\n",
        "\n",
        "plt.imshow(cm, interpolation='nearest', cmap=plt.cm.Blues)\n",
        "plt.title(\"Confusione Matrix\")\n",
        "plt.colorbar()\n",
        "tick_marks = np.arange(len(classes))\n",
        "plt.xticks(tick_marks, classes, rotation=45)\n",
        "plt.yticks(tick_marks, classes)\n",
        "\n",
        "#print(cm)\n",
        "\n",
        "thresh = cm.max() / 2.\n",
        "for i, j in itertools.product(range(cm.shape[0]), range(cm.shape[1])):\n",
        "    plt.text(j, i, cm[i, j],\n",
        "        horizontalalignment=\"center\",\n",
        "        #color=\"white\" if cm[i, j] > thresh else \"black\")\n",
        "        color=\"black\")\n",
        "\n",
        "plt.tight_layout()\n",
        "plt.ylabel('True label')\n",
        "plt.xlabel('Predicted label')\n"
      ]
    },
    {
      "cell_type": "code",
      "execution_count": null,
      "metadata": {
        "id": "b4tUCgTk1kEm"
      },
      "outputs": [],
      "source": [
        "fpr,tpr,th = roc_curve(test_labels, final_preds)\n",
        "\n",
        "roc_auc = roc_auc_score(test_labels, final_preds)"
      ]
    },
    {
      "cell_type": "code",
      "execution_count": null,
      "metadata": {
        "colab": {
          "base_uri": "https://localhost:8080/",
          "height": 295
        },
        "outputId": "7d03e6ee-d7fd-481f-8c74-bcfe386138d1",
        "id": "nEKWI1aP1kEm"
      },
      "outputs": [
        {
          "output_type": "display_data",
          "data": {
            "image/png": "[encoded data removed]",
            "text/plain": [
              "<Figure size 432x288 with 1 Axes>"
            ]
          },
          "metadata": {
            "needs_background": "light"
          }
        }
      ],
      "source": [
        "plt.title('Receiver Operating Characteristic')\n",
        "plt.plot(fpr, tpr, 'b', label = 'AUC = %0.2f' % roc_auc)\n",
        "plt.legend(loc = 'lower right')\n",
        "plt.plot([0, 1], [0, 1],'r--')\n",
        "plt.xlim([0, 1])\n",
        "plt.ylim([0, 1])\n",
        "plt.ylabel('True Positive Rate')\n",
        "plt.xlabel('False Positive Rate')\n",
        "plt.show()"
      ]
    },
    {
      "cell_type": "code",
      "source": [
        "preds_scratch = final_preds"
      ],
      "metadata": {
        "id": "_OtCARPe1kEm"
      },
      "execution_count": null,
      "outputs": []
    },
    {
      "cell_type": "markdown",
      "source": [
        "##Pretrained"
      ],
      "metadata": {
        "id": "NMqbIUdP1kEm"
      }
    },
    {
      "cell_type": "code",
      "execution_count": null,
      "metadata": {
        "colab": {
          "base_uri": "https://localhost:8080/"
        },
        "outputId": "84d1a38e-fb57-4d59-b4d3-1ec1a8ea2eb6",
        "id": "1lseewFa1kEm"
      },
      "outputs": [
        {
          "output_type": "stream",
          "name": "stdout",
          "text": [
            "\n",
            "(2140, 150, 150, 3)\n",
            "(336, 150, 150, 3)\n"
          ]
        }
      ],
      "source": [
        "train_dataset_split = np.repeat(train_dataset_split, 3, axis = 3)\n",
        "valid_dataset_split = np.repeat(valid_dataset_split, 3, axis = 3)\n",
        "test_images = np.repeat(test_images, 3, axis = 3)\n",
        "\n",
        "print()\n",
        "print(train_dataset_split.shape)\n",
        "print(test_images.shape)"
      ]
    },
    {
      "cell_type": "code",
      "source": [
        "test_gen= test_datagen.flow(test_images,\n",
        "                            test_labels,\n",
        "                            batch_size=BATCH_SIZE+2,\n",
        "                            shuffle=False)"
      ],
      "metadata": {
        "id": "HLBhdyNE1kEm"
      },
      "execution_count": null,
      "outputs": []
    },
    {
      "cell_type": "code",
      "source": [
        "model5 = load_model(os.path.join(MODEL_PRETRAINED_PATH,'benmal_inceptionv3_model2.h5'))\n",
        "model6 = load_model(os.path.join(MODEL_PRETRAINED_PATH,'benmal_inceptionv3_model9.h5'))\n",
        "model7 = load_model(os.path.join(MODEL_PRETRAINED_PATH,'benmal_inceptionv3_model611.h5'))\n",
        "model8 = load_model(os.path.join(MODEL_PRETRAINED_PATH,'benmal_inceptionv3_model5.h5'))"
      ],
      "metadata": {
        "id": "Yn3LmyQS1kEm"
      },
      "execution_count": null,
      "outputs": []
    },
    {
      "cell_type": "code",
      "source": [
        "preds_5=model5.predict(test_gen, steps=len(test_images) // BATCH_SIZE)\n",
        "preds_6=model6.predict(test_gen, steps=len(test_images) // BATCH_SIZE)\n",
        "preds_7=model7.predict(test_gen, steps=len(test_images) // BATCH_SIZE)\n",
        "preds_8=model8.predict(test_gen, steps=len(test_images) // BATCH_SIZE)\n",
        "\n",
        "final_preds = 0.25 * (preds_5 + preds_6 + preds_7 + preds_8)"
      ],
      "metadata": {
        "id": "lJdbJs1D1kEm"
      },
      "execution_count": null,
      "outputs": []
    },
    {
      "cell_type": "code",
      "execution_count": null,
      "metadata": {
        "colab": {
          "base_uri": "https://localhost:8080/",
          "height": 571
        },
        "outputId": "27dcd27f-798e-458b-dd6a-cf454a45fd90",
        "id": "fTQWXaWx1kEn"
      },
      "outputs": [
        {
          "output_type": "stream",
          "name": "stdout",
          "text": [
            "(336,)\n",
            "(336, 150, 150, 3)\n",
            "(336, 1)\n",
            "(336, 1)\n",
            "Confusion Matrix\n",
            "              precision    recall  f1-score   support\n",
            "\n",
            "         0.0       0.82      0.73      0.77       219\n",
            "         1.0       0.57      0.69      0.63       117\n",
            "\n",
            "    accuracy                           0.71       336\n",
            "   macro avg       0.69      0.71      0.70       336\n",
            "weighted avg       0.73      0.71      0.72       336\n",
            "\n"
          ]
        },
        {
          "output_type": "execute_result",
          "data": {
            "text/plain": [
              "Text(0.5, -6.819805153394636, 'Predicted label')"
            ]
          },
          "metadata": {},
          "execution_count": 61
        },
        {
          "output_type": "display_data",
          "data": {
            "image/png": "[encoded data removed]",
            "text/plain": [
              "<Figure size 432x288 with 2 Axes>"
            ]
          },
          "metadata": {
            "needs_background": "light"
          }
        }
      ],
      "source": [
        "classes = [\"Benign\", \"Malign\"]\n",
        "\n",
        "y_pred = np.where(final_preds < 0.5, 0, 1)\n",
        "\n",
        "print(test_labels.shape)\n",
        "print(test_images.shape)\n",
        "print(final_preds.shape)\n",
        "print(y_pred.shape)\n",
        "\n",
        "print('Confusion Matrix')\n",
        "cm = confusion_matrix(test_labels, y_pred)\n",
        "\n",
        "#print(cm)\n",
        "#print('Classification Report')\n",
        "print(classification_report(test_labels, y_pred))\n",
        "\n",
        "plt.imshow(cm, interpolation='nearest', cmap=plt.cm.Blues)\n",
        "plt.title(\"Confusione Matrix\")\n",
        "plt.colorbar()\n",
        "tick_marks = np.arange(len(classes))\n",
        "plt.xticks(tick_marks, classes, rotation=45)\n",
        "plt.yticks(tick_marks, classes)\n",
        "\n",
        "#print(cm)\n",
        "\n",
        "thresh = cm.max() / 2.\n",
        "for i, j in itertools.product(range(cm.shape[0]), range(cm.shape[1])):\n",
        "    plt.text(j, i, cm[i, j],\n",
        "        horizontalalignment=\"center\",\n",
        "        #color=\"white\" if cm[i, j] > thresh else \"black\")\n",
        "        color=\"black\")\n",
        "\n",
        "plt.tight_layout()\n",
        "plt.ylabel('True label')\n",
        "plt.xlabel('Predicted label')\n"
      ]
    },
    {
      "cell_type": "code",
      "execution_count": null,
      "metadata": {
        "id": "9LIaxGvQ1kEn"
      },
      "outputs": [],
      "source": [
        "fpr,tpr,th = roc_curve(test_labels, final_preds)\n",
        "\n",
        "roc_auc = roc_auc_score(test_labels, final_preds)"
      ]
    },
    {
      "cell_type": "code",
      "execution_count": null,
      "metadata": {
        "colab": {
          "base_uri": "https://localhost:8080/",
          "height": 295
        },
        "outputId": "83d44cb1-2bee-434b-b30d-b4b0a35214ef",
        "id": "7uCKP_V61kEn"
      },
      "outputs": [
        {
          "output_type": "display_data",
          "data": {
            "image/png": "[encoded data removed]",
            "text/plain": [
              "<Figure size 432x288 with 1 Axes>"
            ]
          },
          "metadata": {
            "needs_background": "light"
          }
        }
      ],
      "source": [
        "plt.title('Receiver Operating Characteristic')\n",
        "plt.plot(fpr, tpr, 'b', label = 'AUC = %0.2f' % roc_auc)\n",
        "plt.legend(loc = 'lower right')\n",
        "plt.plot([0, 1], [0, 1],'r--')\n",
        "plt.xlim([0, 1])\n",
        "plt.ylim([0, 1])\n",
        "plt.ylabel('True Positive Rate')\n",
        "plt.xlabel('False Positive Rate')\n",
        "plt.show()"
      ]
    },
    {
      "cell_type": "code",
      "source": [
        "preds_pretrained = final_preds"
      ],
      "metadata": {
        "id": "hcnuTeja1kEn"
      },
      "execution_count": null,
      "outputs": []
    },
    {
      "cell_type": "markdown",
      "source": [
        "##Average"
      ],
      "metadata": {
        "id": "E3maxKan1kEn"
      }
    },
    {
      "cell_type": "code",
      "source": [
        "#final_preds = 0.5 * (preds_scratch + preds_pretrained)\n",
        "final_preds = 0.125 * (preds_1 + preds_2 + preds_3 + preds_4 + preds_5 + preds_6 + preds_7 + preds_8)"
      ],
      "metadata": {
        "id": "wN9KuaCq1kEn"
      },
      "execution_count": null,
      "outputs": []
    },
    {
      "cell_type": "code",
      "execution_count": null,
      "metadata": {
        "colab": {
          "base_uri": "https://localhost:8080/",
          "height": 571
        },
        "outputId": "5f9663ba-6a20-48b4-8b7c-5f53383408bb",
        "id": "L2HR_gQ71kEn"
      },
      "outputs": [
        {
          "output_type": "stream",
          "name": "stdout",
          "text": [
            "(336,)\n",
            "(336, 150, 150, 3)\n",
            "(336, 1)\n",
            "(336, 1)\n",
            "Confusion Matrix\n",
            "              precision    recall  f1-score   support\n",
            "\n",
            "         0.0       0.80      0.68      0.74       219\n",
            "         1.0       0.53      0.68      0.60       117\n",
            "\n",
            "    accuracy                           0.68       336\n",
            "   macro avg       0.67      0.68      0.67       336\n",
            "weighted avg       0.71      0.68      0.69       336\n",
            "\n"
          ]
        },
        {
          "output_type": "execute_result",
          "data": {
            "text/plain": [
              "Text(0.5, -6.819805153394636, 'Predicted label')"
            ]
          },
          "metadata": {},
          "execution_count": 69
        },
        {
          "output_type": "display_data",
          "data": {
            "image/png": "[encoded data removed]",
            "text/plain": [
              "<Figure size 432x288 with 2 Axes>"
            ]
          },
          "metadata": {
            "needs_background": "light"
          }
        }
      ],
      "source": [
        "classes = [\"Benign\", \"Malign\"]\n",
        "\n",
        "y_pred = np.where(final_preds < 0.5, 0, 1)\n",
        "\n",
        "print(test_labels.shape)\n",
        "print(test_images.shape)\n",
        "print(final_preds.shape)\n",
        "print(y_pred.shape)\n",
        "\n",
        "print('Confusion Matrix')\n",
        "cm = confusion_matrix(test_labels, y_pred)\n",
        "\n",
        "#print(cm)\n",
        "#print('Classification Report')\n",
        "print(classification_report(test_labels, y_pred))\n",
        "\n",
        "plt.imshow(cm, interpolation='nearest', cmap=plt.cm.Blues)\n",
        "plt.title(\"Confusione Matrix\")\n",
        "plt.colorbar()\n",
        "tick_marks = np.arange(len(classes))\n",
        "plt.xticks(tick_marks, classes, rotation=45)\n",
        "plt.yticks(tick_marks, classes)\n",
        "\n",
        "#print(cm)\n",
        "\n",
        "thresh = cm.max() / 2.\n",
        "for i, j in itertools.product(range(cm.shape[0]), range(cm.shape[1])):\n",
        "    plt.text(j, i, cm[i, j],\n",
        "        horizontalalignment=\"center\",\n",
        "        #color=\"white\" if cm[i, j] > thresh else \"black\")\n",
        "        color=\"black\")\n",
        "\n",
        "plt.tight_layout()\n",
        "plt.ylabel('True label')\n",
        "plt.xlabel('Predicted label')\n"
      ]
    },
    {
      "cell_type": "code",
      "execution_count": null,
      "metadata": {
        "id": "dDtNSRCe1kEn"
      },
      "outputs": [],
      "source": [
        "fpr,tpr,th = roc_curve(test_labels, final_preds)\n",
        "\n",
        "roc_auc = roc_auc_score(test_labels, final_preds)"
      ]
    },
    {
      "cell_type": "code",
      "execution_count": null,
      "metadata": {
        "colab": {
          "base_uri": "https://localhost:8080/",
          "height": 295
        },
        "outputId": "e3704b90-7afe-4053-8cae-cf0157df946b",
        "id": "d2J7k_JY1kEn"
      },
      "outputs": [
        {
          "output_type": "display_data",
          "data": {
            "image/png": "[encoded data removed]",
            "text/plain": [
              "<Figure size 432x288 with 1 Axes>"
            ]
          },
          "metadata": {
            "needs_background": "light"
          }
        }
      ],
      "source": [
        "plt.title('Receiver Operating Characteristic')\n",
        "plt.plot(fpr, tpr, 'b', label = 'AUC = %0.2f' % roc_auc)\n",
        "plt.legend(loc = 'lower right')\n",
        "plt.plot([0, 1], [0, 1],'r--')\n",
        "plt.xlim([0, 1])\n",
        "plt.ylim([0, 1])\n",
        "plt.ylabel('True Positive Rate')\n",
        "plt.xlabel('False Positive Rate')\n",
        "plt.show()"
      ]
    },
    {
      "cell_type": "markdown",
      "source": [
        "##Pretrained alternative methods"
      ],
      "metadata": {
        "id": "VQBvKk711kEn"
      }
    },
    {
      "cell_type": "code",
      "source": [
        "model1 = load_model(os.path.join(MODEL_PRETRAINED_PATH,'benmal_inceptionv3_model2.h5'))\n",
        "model2 = load_model(os.path.join(MODEL_PRETRAINED_PATH,'benmal_inceptionv3_model9.h5'))\n",
        "model3 = load_model(os.path.join(MODEL_PRETRAINED_PATH,'benmal_inceptionv3_model611.h5'))\n",
        "model4 = load_model(os.path.join(MODEL_PRETRAINED_PATH,'benmal_inceptionv3_model5.h5'))"
      ],
      "metadata": {
        "id": "AOZGwets1kEn"
      },
      "execution_count": null,
      "outputs": []
    },
    {
      "cell_type": "code",
      "source": [
        "model1._name = \"model1\"\n",
        "model2._name = \"model2\"\n",
        "model3._name = \"model3\"\n",
        "model4._name = \"model4\""
      ],
      "metadata": {
        "id": "J5Ute0UDWSCW"
      },
      "execution_count": null,
      "outputs": []
    },
    {
      "cell_type": "code",
      "source": [
        "models = [model1, model2, model3, model4]\n",
        "model_input = tf.keras.Input(shape=(150, 150, 3))\n",
        "\n",
        "\n",
        "model_outputs = [model(model_input) for model in models]\n",
        "ensemble_output = tf.keras.layers.Average()(model_outputs)\n",
        "ensemble_model = tf.keras.Model(inputs=model_input, outputs=ensemble_output)"
      ],
      "metadata": {
        "id": "CJzp66DJ1kEq"
      },
      "execution_count": null,
      "outputs": []
    },
    {
      "cell_type": "code",
      "execution_count": null,
      "metadata": {
        "colab": {
          "base_uri": "https://localhost:8080/",
          "height": 571
        },
        "outputId": "d2abacd9-654c-49b6-916e-da70dec7b4d6",
        "id": "rbCia3DR1kEq"
      },
      "outputs": [
        {
          "output_type": "stream",
          "name": "stdout",
          "text": [
            "(336,)\n",
            "(336, 150, 150, 3)\n",
            "(336, 1)\n",
            "(336, 1)\n",
            "Confusion Matrix\n",
            "              precision    recall  f1-score   support\n",
            "\n",
            "         0.0       0.82      0.73      0.77       219\n",
            "         1.0       0.57      0.69      0.63       117\n",
            "\n",
            "    accuracy                           0.71       336\n",
            "   macro avg       0.69      0.71      0.70       336\n",
            "weighted avg       0.73      0.71      0.72       336\n",
            "\n"
          ]
        },
        {
          "output_type": "execute_result",
          "data": {
            "text/plain": [
              "Text(0.5, -6.819805153394636, 'Predicted label')"
            ]
          },
          "metadata": {},
          "execution_count": 97
        },
        {
          "output_type": "display_data",
          "data": {
            "image/png": "[encoded data removed]",
            "text/plain": [
              "<Figure size 432x288 with 2 Axes>"
            ]
          },
          "metadata": {
            "needs_background": "light"
          }
        }
      ],
      "source": [
        "classes = [\"Benign\", \"Malign\"]\n",
        "Y_pred = ensemble_model.predict(test_datagen.flow(test_images,\n",
        "                                            test_labels,\n",
        "                                            batch_size=BATCH_SIZE+4,\n",
        "                                            shuffle=False),\n",
        "                          steps=len(test_images) // BATCH_SIZE)\n",
        "\n",
        "y_pred = np.where(Y_pred < 0.5, 0, 1)\n",
        "\n",
        "print(test_labels.shape)\n",
        "print(test_images.shape)\n",
        "print(Y_pred.shape)\n",
        "print(y_pred.shape)\n",
        "\n",
        "print('Confusion Matrix')\n",
        "cm = confusion_matrix(test_labels, y_pred)\n",
        "\n",
        "#print(cm)\n",
        "#print('Classification Report')\n",
        "print(classification_report(test_labels, y_pred))\n",
        "\n",
        "plt.imshow(cm, interpolation='nearest', cmap=plt.cm.Blues)\n",
        "plt.title(\"Confusione Matrix\")\n",
        "plt.colorbar()\n",
        "tick_marks = np.arange(len(classes))\n",
        "plt.xticks(tick_marks, classes, rotation=45)\n",
        "plt.yticks(tick_marks, classes)\n",
        "\n",
        "#print(cm)\n",
        "\n",
        "thresh = cm.max() / 2.\n",
        "for i, j in itertools.product(range(cm.shape[0]), range(cm.shape[1])):\n",
        "    plt.text(j, i, cm[i, j],\n",
        "        horizontalalignment=\"center\",\n",
        "        color=\"white\" if cm[i, j] > thresh else \"black\")\n",
        "\n",
        "plt.tight_layout()\n",
        "plt.ylabel('True label')\n",
        "plt.xlabel('Predicted label')\n"
      ]
    },
    {
      "cell_type": "code",
      "execution_count": null,
      "metadata": {
        "id": "7f6A3ykw1kEq"
      },
      "outputs": [],
      "source": [
        "fpr,tpr,th = roc_curve(test_labels, Y_pred)\n",
        "\n",
        "roc_auc = roc_auc_score(test_labels, Y_pred)"
      ]
    },
    {
      "cell_type": "code",
      "execution_count": null,
      "metadata": {
        "colab": {
          "base_uri": "https://localhost:8080/",
          "height": 295
        },
        "outputId": "e853bd14-3e07-42a0-ba34-10b92fd9269a",
        "id": "ylsghT3l1kEq"
      },
      "outputs": [
        {
          "output_type": "display_data",
          "data": {
            "image/png": "[encoded data removed]",
            "text/plain": [
              "<Figure size 432x288 with 1 Axes>"
            ]
          },
          "metadata": {
            "needs_background": "light"
          }
        }
      ],
      "source": [
        "plt.title('Receiver Operating Characteristic')\n",
        "plt.plot(fpr, tpr, 'b', label = 'AUC = %0.2f' % roc_auc)\n",
        "plt.legend(loc = 'lower right')\n",
        "plt.plot([0, 1], [0, 1],'r--')\n",
        "plt.xlim([0, 1])\n",
        "plt.ylim([0, 1])\n",
        "plt.ylabel('True Positive Rate')\n",
        "plt.xlabel('False Positive Rate')\n",
        "plt.show()"
      ]
    },
    {
      "cell_type": "markdown",
      "source": [
        "##Training Model Pretrained"
      ],
      "metadata": {
        "id": "NQ665RLp1kEq"
      }
    },
    {
      "cell_type": "code",
      "source": [
        "valid_datagen = ImageDataGenerator(rescale=1./65535)\n",
        "test_datagen = ImageDataGenerator(rescale=1./65535)"
      ],
      "metadata": {
        "id": "g_GxKmB91kEq"
      },
      "execution_count": null,
      "outputs": []
    },
    {
      "cell_type": "code",
      "source": [
        "train_datagen = ImageDataGenerator(\n",
        "    #preprocessing_function=preprocess_input,\n",
        "    rescale=1./65535,\n",
        "    rotation_range=40,\n",
        "    width_shift_range=0.25,\n",
        "    height_shift_range=0.25,\n",
        "    shear_range=0.5,\n",
        "    zoom_range=0.5, #0.5 - 1.5\n",
        "    horizontal_flip=True,\n",
        "    fill_mode='nearest'\n",
        "   )"
      ],
      "metadata": {
        "id": "xIT8hK7X1kEq"
      },
      "execution_count": null,
      "outputs": []
    },
    {
      "cell_type": "code",
      "source": [
        "model = keras.models.Sequential()\n",
        "model.add(ensemble_model)\n",
        "model.add(layers.Flatten())\n",
        "model.add(layers.Dense(512, activation='relu'))\n",
        "model.add(layers.Dropout(0.2))\n",
        "model.add(layers.Dense(1, activation='sigmoid'))"
      ],
      "metadata": {
        "id": "uVJ8nA2e1kEq"
      },
      "execution_count": null,
      "outputs": []
    },
    {
      "cell_type": "code",
      "source": [
        "ensemble_model.trainable=False"
      ],
      "metadata": {
        "id": "HaJGuSLZ1kEq"
      },
      "execution_count": null,
      "outputs": []
    },
    {
      "cell_type": "code",
      "execution_count": null,
      "metadata": {
        "id": "-rQalF4d1kEr"
      },
      "outputs": [],
      "source": [
        "model.compile(loss=\"binary_crossentropy\",\n",
        "              optimizer=optimizers.RMSprop(learning_rate=1e-3),\n",
        "              metrics=['acc'])"
      ]
    },
    {
      "cell_type": "code",
      "execution_count": null,
      "metadata": {
        "colab": {
          "base_uri": "https://localhost:8080/"
        },
        "outputId": "8ba910a6-39f5-402a-829b-1e5179815cc1",
        "id": "jhwaRh5r1kEr"
      },
      "outputs": [
        {
          "output_type": "stream",
          "name": "stdout",
          "text": [
            "Epoch 1/100\n",
            "66/66 [==============================] - 55s 463ms/step - loss: 0.6593 - acc: 0.6831 - val_loss: 0.6202 - val_acc: 0.7363\n",
            "Epoch 2/100\n",
            "66/66 [==============================] - 18s 274ms/step - loss: 0.6071 - acc: 0.7073 - val_loss: 0.5596 - val_acc: 0.7754\n",
            "Epoch 3/100\n",
            "66/66 [==============================] - 18s 279ms/step - loss: 0.5721 - acc: 0.7163 - val_loss: 0.5209 - val_acc: 0.7617\n",
            "Epoch 4/100\n",
            "66/66 [==============================] - 18s 270ms/step - loss: 0.5504 - acc: 0.7177 - val_loss: 0.5051 - val_acc: 0.7773\n",
            "Epoch 5/100\n",
            "66/66 [==============================] - 18s 269ms/step - loss: 0.5372 - acc: 0.7158 - val_loss: 0.4912 - val_acc: 0.7598\n",
            "Epoch 6/100\n",
            "66/66 [==============================] - 18s 271ms/step - loss: 0.5364 - acc: 0.7139 - val_loss: 0.5041 - val_acc: 0.7539\n",
            "Epoch 7/100\n",
            "66/66 [==============================] - 18s 271ms/step - loss: 0.5352 - acc: 0.7173 - val_loss: 0.4882 - val_acc: 0.7656\n",
            "Epoch 8/100\n",
            "66/66 [==============================] - 18s 275ms/step - loss: 0.5435 - acc: 0.7149 - val_loss: 0.4913 - val_acc: 0.7773\n",
            "Epoch 9/100\n",
            "66/66 [==============================] - 18s 273ms/step - loss: 0.5308 - acc: 0.7263 - val_loss: 0.4841 - val_acc: 0.7617\n",
            "Epoch 10/100\n",
            "66/66 [==============================] - 18s 273ms/step - loss: 0.5317 - acc: 0.7263 - val_loss: 0.4857 - val_acc: 0.7656\n",
            "Epoch 11/100\n",
            "66/66 [==============================] - 18s 273ms/step - loss: 0.5324 - acc: 0.7310 - val_loss: 0.4809 - val_acc: 0.7598\n",
            "Epoch 12/100\n",
            "66/66 [==============================] - 18s 274ms/step - loss: 0.5277 - acc: 0.7287 - val_loss: 0.4882 - val_acc: 0.7793\n",
            "Epoch 13/100\n",
            "66/66 [==============================] - 18s 276ms/step - loss: 0.5411 - acc: 0.7116 - val_loss: 0.4898 - val_acc: 0.7734\n",
            "Epoch 14/100\n",
            "66/66 [==============================] - 19s 284ms/step - loss: 0.5363 - acc: 0.7078 - val_loss: 0.4869 - val_acc: 0.7734\n",
            "Epoch 15/100\n",
            "66/66 [==============================] - 18s 269ms/step - loss: 0.5387 - acc: 0.7234 - val_loss: 0.4823 - val_acc: 0.7598\n",
            "Epoch 16/100\n",
            "66/66 [==============================] - 18s 272ms/step - loss: 0.5370 - acc: 0.7206 - val_loss: 0.4809 - val_acc: 0.7578\n",
            "Epoch 17/100\n",
            "66/66 [==============================] - 18s 271ms/step - loss: 0.5377 - acc: 0.7139 - val_loss: 0.4942 - val_acc: 0.7617\n",
            "Epoch 18/100\n",
            "66/66 [==============================] - 18s 270ms/step - loss: 0.5447 - acc: 0.7187 - val_loss: 0.4878 - val_acc: 0.7773\n",
            "Epoch 19/100\n",
            "66/66 [==============================] - 18s 272ms/step - loss: 0.5229 - acc: 0.7315 - val_loss: 0.5039 - val_acc: 0.7500\n",
            "Epoch 20/100\n",
            "66/66 [==============================] - 18s 268ms/step - loss: 0.5359 - acc: 0.7130 - val_loss: 0.4829 - val_acc: 0.7637\n",
            "Epoch 21/100\n",
            "66/66 [==============================] - 18s 276ms/step - loss: 0.5407 - acc: 0.7168 - val_loss: 0.4809 - val_acc: 0.7578\n",
            "Epoch 22/100\n",
            "66/66 [==============================] - 18s 270ms/step - loss: 0.5323 - acc: 0.7183 - val_loss: 0.4923 - val_acc: 0.7656\n",
            "Epoch 23/100\n",
            "66/66 [==============================] - 18s 269ms/step - loss: 0.5323 - acc: 0.7201 - val_loss: 0.4818 - val_acc: 0.7617\n",
            "Epoch 24/100\n",
            "66/66 [==============================] - 18s 270ms/step - loss: 0.5527 - acc: 0.7078 - val_loss: 0.4840 - val_acc: 0.7637\n",
            "Epoch 25/100\n",
            "66/66 [==============================] - 18s 270ms/step - loss: 0.5381 - acc: 0.7125 - val_loss: 0.4929 - val_acc: 0.7637\n",
            "Epoch 26/100\n",
            "66/66 [==============================] - 18s 275ms/step - loss: 0.5302 - acc: 0.7173 - val_loss: 0.4854 - val_acc: 0.7734\n",
            "Epoch 27/100\n",
            "66/66 [==============================] - 18s 266ms/step - loss: 0.5315 - acc: 0.7263 - val_loss: 0.4871 - val_acc: 0.7773\n",
            "Epoch 28/100\n",
            "66/66 [==============================] - 18s 275ms/step - loss: 0.5293 - acc: 0.7201 - val_loss: 0.4904 - val_acc: 0.7734\n",
            "Epoch 29/100\n",
            "66/66 [==============================] - 18s 270ms/step - loss: 0.5369 - acc: 0.7139 - val_loss: 0.4887 - val_acc: 0.7734\n",
            "Epoch 30/100\n",
            "66/66 [==============================] - 18s 269ms/step - loss: 0.5311 - acc: 0.7272 - val_loss: 0.4820 - val_acc: 0.7637\n",
            "Epoch 31/100\n",
            "66/66 [==============================] - 18s 272ms/step - loss: 0.5397 - acc: 0.7168 - val_loss: 0.4906 - val_acc: 0.7734\n",
            "Epoch 32/100\n",
            "66/66 [==============================] - 18s 270ms/step - loss: 0.5414 - acc: 0.7173 - val_loss: 0.4877 - val_acc: 0.7773\n",
            "Epoch 33/100\n",
            "66/66 [==============================] - 18s 272ms/step - loss: 0.5489 - acc: 0.7016 - val_loss: 0.4870 - val_acc: 0.7734\n",
            "Epoch 34/100\n",
            "66/66 [==============================] - 18s 265ms/step - loss: 0.5404 - acc: 0.7201 - val_loss: 0.4836 - val_acc: 0.7637\n",
            "Epoch 35/100\n",
            "66/66 [==============================] - 18s 269ms/step - loss: 0.5381 - acc: 0.7097 - val_loss: 0.4860 - val_acc: 0.7734\n",
            "Epoch 36/100\n",
            "66/66 [==============================] - 18s 268ms/step - loss: 0.5415 - acc: 0.7021 - val_loss: 0.4873 - val_acc: 0.7754\n",
            "Epoch 37/100\n",
            "66/66 [==============================] - 18s 267ms/step - loss: 0.5215 - acc: 0.7315 - val_loss: 0.4797 - val_acc: 0.7578\n",
            "Epoch 38/100\n",
            "66/66 [==============================] - 18s 277ms/step - loss: 0.5407 - acc: 0.7054 - val_loss: 0.4844 - val_acc: 0.7656\n",
            "Epoch 39/100\n",
            "66/66 [==============================] - 18s 269ms/step - loss: 0.5199 - acc: 0.7348 - val_loss: 0.4832 - val_acc: 0.7656\n",
            "Epoch 40/100\n",
            "66/66 [==============================] - 18s 269ms/step - loss: 0.5366 - acc: 0.7253 - val_loss: 0.4885 - val_acc: 0.7734\n",
            "Epoch 41/100\n",
            "66/66 [==============================] - 18s 275ms/step - loss: 0.5408 - acc: 0.6978 - val_loss: 0.4893 - val_acc: 0.7754\n",
            "Epoch 42/100\n",
            "66/66 [==============================] - 18s 269ms/step - loss: 0.5458 - acc: 0.7111 - val_loss: 0.4831 - val_acc: 0.7637\n",
            "Epoch 43/100\n",
            "66/66 [==============================] - 18s 268ms/step - loss: 0.5344 - acc: 0.7177 - val_loss: 0.5014 - val_acc: 0.7539\n",
            "Epoch 44/100\n",
            "66/66 [==============================] - 18s 271ms/step - loss: 0.5471 - acc: 0.7068 - val_loss: 0.4881 - val_acc: 0.7793\n",
            "Epoch 45/100\n",
            "66/66 [==============================] - 18s 271ms/step - loss: 0.5299 - acc: 0.7173 - val_loss: 0.4847 - val_acc: 0.7676\n",
            "Epoch 46/100\n",
            "66/66 [==============================] - 18s 273ms/step - loss: 0.5254 - acc: 0.7182 - val_loss: 0.4829 - val_acc: 0.7637\n",
            "Epoch 47/100\n",
            "66/66 [==============================] - 18s 268ms/step - loss: 0.5331 - acc: 0.7220 - val_loss: 0.4900 - val_acc: 0.7754\n",
            "Epoch 48/100\n",
            "66/66 [==============================] - 18s 270ms/step - loss: 0.5352 - acc: 0.7253 - val_loss: 0.4873 - val_acc: 0.7793\n",
            "Epoch 49/100\n",
            "66/66 [==============================] - 18s 268ms/step - loss: 0.5342 - acc: 0.7158 - val_loss: 0.5010 - val_acc: 0.7539\n",
            "Epoch 50/100\n",
            "66/66 [==============================] - 18s 270ms/step - loss: 0.5397 - acc: 0.7139 - val_loss: 0.4861 - val_acc: 0.7754\n",
            "Epoch 51/100\n",
            "66/66 [==============================] - 18s 274ms/step - loss: 0.5308 - acc: 0.7182 - val_loss: 0.5080 - val_acc: 0.7461\n",
            "Epoch 52/100\n",
            "66/66 [==============================] - 18s 270ms/step - loss: 0.5363 - acc: 0.7154 - val_loss: 0.4832 - val_acc: 0.7637\n",
            "Epoch 53/100\n",
            "66/66 [==============================] - 18s 272ms/step - loss: 0.5295 - acc: 0.7220 - val_loss: 0.4900 - val_acc: 0.7754\n",
            "Epoch 54/100\n",
            "66/66 [==============================] - 18s 275ms/step - loss: 0.5430 - acc: 0.7111 - val_loss: 0.4898 - val_acc: 0.7754\n",
            "Epoch 55/100\n",
            "66/66 [==============================] - 18s 267ms/step - loss: 0.5373 - acc: 0.7111 - val_loss: 0.4796 - val_acc: 0.7598\n",
            "Epoch 56/100\n",
            "66/66 [==============================] - 18s 269ms/step - loss: 0.5371 - acc: 0.7125 - val_loss: 0.4801 - val_acc: 0.7598\n",
            "Epoch 57/100\n",
            "66/66 [==============================] - 18s 270ms/step - loss: 0.5381 - acc: 0.7068 - val_loss: 0.4882 - val_acc: 0.7754\n",
            "Epoch 58/100\n",
            "66/66 [==============================] - 18s 267ms/step - loss: 0.5288 - acc: 0.7301 - val_loss: 0.4840 - val_acc: 0.7656\n",
            "Epoch 59/100\n",
            "66/66 [==============================] - 18s 271ms/step - loss: 0.5286 - acc: 0.7187 - val_loss: 0.4927 - val_acc: 0.7637\n",
            "Epoch 60/100\n",
            "66/66 [==============================] - 18s 271ms/step - loss: 0.5329 - acc: 0.7239 - val_loss: 0.4860 - val_acc: 0.7754\n",
            "Epoch 61/100\n",
            "66/66 [==============================] - 18s 268ms/step - loss: 0.5407 - acc: 0.7120 - val_loss: 0.4862 - val_acc: 0.7754\n",
            "Epoch 62/100\n",
            "66/66 [==============================] - 18s 266ms/step - loss: 0.5285 - acc: 0.7154 - val_loss: 0.4842 - val_acc: 0.7656\n",
            "Epoch 63/100\n",
            "66/66 [==============================] - 18s 266ms/step - loss: 0.5333 - acc: 0.7182 - val_loss: 0.4822 - val_acc: 0.7637\n",
            "Epoch 64/100\n",
            "66/66 [==============================] - 18s 271ms/step - loss: 0.5442 - acc: 0.7139 - val_loss: 0.5128 - val_acc: 0.7363\n",
            "Epoch 65/100\n",
            "66/66 [==============================] - 18s 267ms/step - loss: 0.5451 - acc: 0.7130 - val_loss: 0.4836 - val_acc: 0.7637\n",
            "Epoch 66/100\n",
            "66/66 [==============================] - 18s 273ms/step - loss: 0.5438 - acc: 0.7040 - val_loss: 0.4927 - val_acc: 0.7637\n",
            "Epoch 67/100\n",
            "66/66 [==============================] - 18s 271ms/step - loss: 0.5323 - acc: 0.7301 - val_loss: 0.4803 - val_acc: 0.7559\n",
            "Epoch 68/100\n",
            "66/66 [==============================] - 18s 270ms/step - loss: 0.5285 - acc: 0.7282 - val_loss: 0.4911 - val_acc: 0.7715\n",
            "Epoch 69/100\n",
            "66/66 [==============================] - 18s 273ms/step - loss: 0.5341 - acc: 0.7135 - val_loss: 0.4830 - val_acc: 0.7637\n",
            "Epoch 70/100\n",
            "66/66 [==============================] - 18s 274ms/step - loss: 0.5356 - acc: 0.7258 - val_loss: 0.4894 - val_acc: 0.7754\n",
            "Epoch 71/100\n",
            "66/66 [==============================] - 18s 276ms/step - loss: 0.5310 - acc: 0.7173 - val_loss: 0.4881 - val_acc: 0.7754\n",
            "Epoch 72/100\n",
            "66/66 [==============================] - 19s 281ms/step - loss: 0.5287 - acc: 0.7182 - val_loss: 0.4820 - val_acc: 0.7637\n",
            "Epoch 73/100\n",
            "66/66 [==============================] - 18s 276ms/step - loss: 0.5345 - acc: 0.7215 - val_loss: 0.4996 - val_acc: 0.7559\n",
            "Epoch 74/100\n",
            "66/66 [==============================] - 18s 278ms/step - loss: 0.5486 - acc: 0.7049 - val_loss: 0.4835 - val_acc: 0.7656\n",
            "Epoch 75/100\n",
            "66/66 [==============================] - 18s 276ms/step - loss: 0.5311 - acc: 0.7211 - val_loss: 0.4924 - val_acc: 0.7637\n",
            "Epoch 76/100\n",
            "66/66 [==============================] - 18s 277ms/step - loss: 0.5394 - acc: 0.7168 - val_loss: 0.4890 - val_acc: 0.7754\n",
            "Epoch 77/100\n",
            "66/66 [==============================] - 18s 276ms/step - loss: 0.5404 - acc: 0.7073 - val_loss: 0.4929 - val_acc: 0.7637\n",
            "Epoch 78/100\n",
            "66/66 [==============================] - 18s 273ms/step - loss: 0.5281 - acc: 0.7268 - val_loss: 0.4871 - val_acc: 0.7773\n",
            "Epoch 79/100\n",
            "66/66 [==============================] - 18s 277ms/step - loss: 0.5389 - acc: 0.7011 - val_loss: 0.4829 - val_acc: 0.7637\n",
            "Epoch 80/100\n",
            "66/66 [==============================] - 18s 275ms/step - loss: 0.5458 - acc: 0.7030 - val_loss: 0.4819 - val_acc: 0.7598\n",
            "Epoch 81/100\n",
            "66/66 [==============================] - 18s 275ms/step - loss: 0.5169 - acc: 0.7296 - val_loss: 0.4946 - val_acc: 0.7617\n",
            "Epoch 82/100\n",
            "66/66 [==============================] - 18s 273ms/step - loss: 0.5402 - acc: 0.7187 - val_loss: 0.4908 - val_acc: 0.7734\n",
            "Epoch 83/100\n",
            "66/66 [==============================] - 18s 274ms/step - loss: 0.5555 - acc: 0.6959 - val_loss: 0.4847 - val_acc: 0.7656\n",
            "Epoch 84/100\n",
            "66/66 [==============================] - 19s 280ms/step - loss: 0.5373 - acc: 0.7158 - val_loss: 0.4882 - val_acc: 0.7793\n",
            "Epoch 85/100\n",
            "66/66 [==============================] - 19s 282ms/step - loss: 0.5371 - acc: 0.7158 - val_loss: 0.4845 - val_acc: 0.7656\n",
            "Epoch 86/100\n",
            "66/66 [==============================] - 18s 276ms/step - loss: 0.5396 - acc: 0.7154 - val_loss: 0.4828 - val_acc: 0.7637\n",
            "Epoch 87/100\n",
            "66/66 [==============================] - 18s 276ms/step - loss: 0.5332 - acc: 0.7139 - val_loss: 0.4875 - val_acc: 0.7793\n",
            "Epoch 88/100\n",
            "66/66 [==============================] - 19s 282ms/step - loss: 0.5362 - acc: 0.7239 - val_loss: 0.4807 - val_acc: 0.7598\n",
            "Epoch 89/100\n",
            "66/66 [==============================] - 18s 272ms/step - loss: 0.5421 - acc: 0.7106 - val_loss: 0.4856 - val_acc: 0.7734\n",
            "Epoch 90/100\n",
            "66/66 [==============================] - 18s 272ms/step - loss: 0.5367 - acc: 0.7196 - val_loss: 0.4793 - val_acc: 0.7559\n",
            "Epoch 91/100\n",
            "66/66 [==============================] - 18s 272ms/step - loss: 0.5395 - acc: 0.7064 - val_loss: 0.4823 - val_acc: 0.7637\n",
            "Epoch 92/100\n",
            "66/66 [==============================] - 18s 272ms/step - loss: 0.5404 - acc: 0.7192 - val_loss: 0.4887 - val_acc: 0.7734\n",
            "Epoch 93/100\n",
            "66/66 [==============================] - 18s 275ms/step - loss: 0.5304 - acc: 0.7234 - val_loss: 0.4827 - val_acc: 0.7637\n",
            "Epoch 94/100\n",
            "66/66 [==============================] - 22s 330ms/step - loss: 0.5491 - acc: 0.7158 - val_loss: 0.4823 - val_acc: 0.7637\n",
            "Epoch 95/100\n",
            "66/66 [==============================] - 18s 276ms/step - loss: 0.5274 - acc: 0.7263 - val_loss: 0.4877 - val_acc: 0.7793\n",
            "Epoch 96/100\n",
            "66/66 [==============================] - 18s 277ms/step - loss: 0.5385 - acc: 0.7045 - val_loss: 0.4977 - val_acc: 0.7559\n",
            "Epoch 97/100\n",
            "66/66 [==============================] - 18s 279ms/step - loss: 0.5323 - acc: 0.7177 - val_loss: 0.4864 - val_acc: 0.7754\n",
            "Epoch 98/100\n",
            "66/66 [==============================] - 18s 276ms/step - loss: 0.5472 - acc: 0.7078 - val_loss: 0.4884 - val_acc: 0.7734\n",
            "Epoch 99/100\n",
            "66/66 [==============================] - 19s 282ms/step - loss: 0.5390 - acc: 0.7149 - val_loss: 0.4904 - val_acc: 0.7734\n",
            "Epoch 100/100\n",
            "66/66 [==============================] - 18s 278ms/step - loss: 0.5368 - acc: 0.7102 - val_loss: 0.4848 - val_acc: 0.7695\n"
          ]
        }
      ],
      "source": [
        "history = model.fit(train_datagen.flow(train_dataset_split,\n",
        "                                       train_labels_split,\n",
        "                                       batch_size=BATCH_SIZE,\n",
        "                                       shuffle=False),\n",
        "                    steps_per_epoch=len(train_dataset_split) // BATCH_SIZE, \n",
        "                    epochs=EPOCHS,\n",
        "                    #callbacks=[callback],\n",
        "                    validation_data=valid_datagen.flow(valid_dataset_split,\n",
        "                                       valid_labels_split,\n",
        "                                       batch_size=BATCH_SIZE,\n",
        "                                       shuffle=False),\n",
        "                    validation_steps=len(valid_labels_split) // BATCH_SIZE)"
      ]
    },
    {
      "cell_type": "code",
      "execution_count": null,
      "metadata": {
        "colab": {
          "base_uri": "https://localhost:8080/",
          "height": 450
        },
        "outputId": "6727b7be-47ca-4a2b-bfff-2e1864618e39",
        "id": "rt1rbaNo1kEr"
      },
      "outputs": [
        {
          "output_type": "stream",
          "name": "stderr",
          "text": [
            "/usr/local/lib/python3.7/dist-packages/keras/engine/functional.py:1410: CustomMaskWarning: Custom mask layers require a config and must override get_config. When loading, the custom mask layer must be passed to the custom_objects argument.\n",
            "  layer_config = serialize_layer_fn(layer)\n"
          ]
        },
        {
          "output_type": "error",
          "ename": "ValueError",
          "evalue": "ignored",
          "traceback": [
            "\u001b[0;31m---------------------------------------------------------------------------\u001b[0m",
            "\u001b[0;31mValueError\u001b[0m                                Traceback (most recent call last)",
            "\u001b[0;32m<ipython-input-59-2cb13072f63c>\u001b[0m in \u001b[0;36m<module>\u001b[0;34m()\u001b[0m\n\u001b[0;32m----> 1\u001b[0;31m \u001b[0mmodel\u001b[0m\u001b[0;34m.\u001b[0m\u001b[0msave\u001b[0m\u001b[0;34m(\u001b[0m\u001b[0mos\u001b[0m\u001b[0;34m.\u001b[0m\u001b[0mpath\u001b[0m\u001b[0;34m.\u001b[0m\u001b[0mjoin\u001b[0m\u001b[0;34m(\u001b[0m\u001b[0mMODEL_ENSEMBLE_PATH\u001b[0m\u001b[0;34m,\u001b[0m \u001b[0;34m'benmal_ensemble_model1.h5'\u001b[0m\u001b[0;34m)\u001b[0m\u001b[0;34m)\u001b[0m\u001b[0;34m\u001b[0m\u001b[0;34m\u001b[0m\u001b[0m\n\u001b[0m",
            "\u001b[0;32m/usr/local/lib/python3.7/dist-packages/keras/utils/traceback_utils.py\u001b[0m in \u001b[0;36merror_handler\u001b[0;34m(*args, **kwargs)\u001b[0m\n\u001b[1;32m     65\u001b[0m     \u001b[0;32mexcept\u001b[0m \u001b[0mException\u001b[0m \u001b[0;32mas\u001b[0m \u001b[0me\u001b[0m\u001b[0;34m:\u001b[0m  \u001b[0;31m# pylint: disable=broad-except\u001b[0m\u001b[0;34m\u001b[0m\u001b[0;34m\u001b[0m\u001b[0m\n\u001b[1;32m     66\u001b[0m       \u001b[0mfiltered_tb\u001b[0m \u001b[0;34m=\u001b[0m \u001b[0m_process_traceback_frames\u001b[0m\u001b[0;34m(\u001b[0m\u001b[0me\u001b[0m\u001b[0;34m.\u001b[0m\u001b[0m__traceback__\u001b[0m\u001b[0;34m)\u001b[0m\u001b[0;34m\u001b[0m\u001b[0;34m\u001b[0m\u001b[0m\n\u001b[0;32m---> 67\u001b[0;31m       \u001b[0;32mraise\u001b[0m \u001b[0me\u001b[0m\u001b[0;34m.\u001b[0m\u001b[0mwith_traceback\u001b[0m\u001b[0;34m(\u001b[0m\u001b[0mfiltered_tb\u001b[0m\u001b[0;34m)\u001b[0m \u001b[0;32mfrom\u001b[0m \u001b[0;32mNone\u001b[0m\u001b[0;34m\u001b[0m\u001b[0;34m\u001b[0m\u001b[0m\n\u001b[0m\u001b[1;32m     68\u001b[0m     \u001b[0;32mfinally\u001b[0m\u001b[0;34m:\u001b[0m\u001b[0;34m\u001b[0m\u001b[0;34m\u001b[0m\u001b[0m\n\u001b[1;32m     69\u001b[0m       \u001b[0;32mdel\u001b[0m \u001b[0mfiltered_tb\u001b[0m\u001b[0;34m\u001b[0m\u001b[0;34m\u001b[0m\u001b[0m\n",
            "\u001b[0;32m/usr/local/lib/python3.7/dist-packages/h5py/_hl/group.py\u001b[0m in \u001b[0;36mcreate_dataset\u001b[0;34m(self, name, shape, dtype, data, **kwds)\u001b[0m\n\u001b[1;32m    146\u001b[0m                     \u001b[0mgroup\u001b[0m \u001b[0;34m=\u001b[0m \u001b[0mself\u001b[0m\u001b[0;34m.\u001b[0m\u001b[0mrequire_group\u001b[0m\u001b[0;34m(\u001b[0m\u001b[0mparent_path\u001b[0m\u001b[0;34m)\u001b[0m\u001b[0;34m\u001b[0m\u001b[0;34m\u001b[0m\u001b[0m\n\u001b[1;32m    147\u001b[0m \u001b[0;34m\u001b[0m\u001b[0m\n\u001b[0;32m--> 148\u001b[0;31m             \u001b[0mdsid\u001b[0m \u001b[0;34m=\u001b[0m \u001b[0mdataset\u001b[0m\u001b[0;34m.\u001b[0m\u001b[0mmake_new_dset\u001b[0m\u001b[0;34m(\u001b[0m\u001b[0mgroup\u001b[0m\u001b[0;34m,\u001b[0m \u001b[0mshape\u001b[0m\u001b[0;34m,\u001b[0m \u001b[0mdtype\u001b[0m\u001b[0;34m,\u001b[0m \u001b[0mdata\u001b[0m\u001b[0;34m,\u001b[0m \u001b[0mname\u001b[0m\u001b[0;34m,\u001b[0m \u001b[0;34m**\u001b[0m\u001b[0mkwds\u001b[0m\u001b[0;34m)\u001b[0m\u001b[0;34m\u001b[0m\u001b[0;34m\u001b[0m\u001b[0m\n\u001b[0m\u001b[1;32m    149\u001b[0m             \u001b[0mdset\u001b[0m \u001b[0;34m=\u001b[0m \u001b[0mdataset\u001b[0m\u001b[0;34m.\u001b[0m\u001b[0mDataset\u001b[0m\u001b[0;34m(\u001b[0m\u001b[0mdsid\u001b[0m\u001b[0;34m)\u001b[0m\u001b[0;34m\u001b[0m\u001b[0;34m\u001b[0m\u001b[0m\n\u001b[1;32m    150\u001b[0m             \u001b[0;32mreturn\u001b[0m \u001b[0mdset\u001b[0m\u001b[0;34m\u001b[0m\u001b[0;34m\u001b[0m\u001b[0m\n",
            "\u001b[0;32m/usr/local/lib/python3.7/dist-packages/h5py/_hl/dataset.py\u001b[0m in \u001b[0;36mmake_new_dset\u001b[0;34m(parent, shape, dtype, data, name, chunks, compression, shuffle, fletcher32, maxshape, compression_opts, fillvalue, scaleoffset, track_times, external, track_order, dcpl, allow_unknown_filter)\u001b[0m\n\u001b[1;32m    135\u001b[0m \u001b[0;34m\u001b[0m\u001b[0m\n\u001b[1;32m    136\u001b[0m \u001b[0;34m\u001b[0m\u001b[0m\n\u001b[0;32m--> 137\u001b[0;31m     \u001b[0mdset_id\u001b[0m \u001b[0;34m=\u001b[0m \u001b[0mh5d\u001b[0m\u001b[0;34m.\u001b[0m\u001b[0mcreate\u001b[0m\u001b[0;34m(\u001b[0m\u001b[0mparent\u001b[0m\u001b[0;34m.\u001b[0m\u001b[0mid\u001b[0m\u001b[0;34m,\u001b[0m \u001b[0mname\u001b[0m\u001b[0;34m,\u001b[0m \u001b[0mtid\u001b[0m\u001b[0;34m,\u001b[0m \u001b[0msid\u001b[0m\u001b[0;34m,\u001b[0m \u001b[0mdcpl\u001b[0m\u001b[0;34m=\u001b[0m\u001b[0mdcpl\u001b[0m\u001b[0;34m)\u001b[0m\u001b[0;34m\u001b[0m\u001b[0;34m\u001b[0m\u001b[0m\n\u001b[0m\u001b[1;32m    138\u001b[0m \u001b[0;34m\u001b[0m\u001b[0m\n\u001b[1;32m    139\u001b[0m     \u001b[0;32mif\u001b[0m \u001b[0;34m(\u001b[0m\u001b[0mdata\u001b[0m \u001b[0;32mis\u001b[0m \u001b[0;32mnot\u001b[0m \u001b[0;32mNone\u001b[0m\u001b[0;34m)\u001b[0m \u001b[0;32mand\u001b[0m \u001b[0;34m(\u001b[0m\u001b[0;32mnot\u001b[0m \u001b[0misinstance\u001b[0m\u001b[0;34m(\u001b[0m\u001b[0mdata\u001b[0m\u001b[0;34m,\u001b[0m \u001b[0mEmpty\u001b[0m\u001b[0;34m)\u001b[0m\u001b[0;34m)\u001b[0m\u001b[0;34m:\u001b[0m\u001b[0;34m\u001b[0m\u001b[0;34m\u001b[0m\u001b[0m\n",
            "\u001b[0;32mh5py/_objects.pyx\u001b[0m in \u001b[0;36mh5py._objects.with_phil.wrapper\u001b[0;34m()\u001b[0m\n",
            "\u001b[0;32mh5py/_objects.pyx\u001b[0m in \u001b[0;36mh5py._objects.with_phil.wrapper\u001b[0;34m()\u001b[0m\n",
            "\u001b[0;32mh5py/h5d.pyx\u001b[0m in \u001b[0;36mh5py.h5d.create\u001b[0;34m()\u001b[0m\n",
            "\u001b[0;31mValueError\u001b[0m: Unable to create dataset (name already exists)"
          ]
        }
      ],
      "source": [
        "model.save(os.path.join(MODEL_ENSEMBLE_PATH, 'benmal_ensemble_model1.h5'))"
      ]
    },
    {
      "cell_type": "code",
      "execution_count": null,
      "metadata": {
        "colab": {
          "base_uri": "https://localhost:8080/",
          "height": 281
        },
        "outputId": "c5232ad0-f584-4ae7-b9e3-37ba6ad405ba",
        "id": "R9_GvrqG1kEr"
      },
      "outputs": [
        {
          "output_type": "display_data",
          "data": {
            "image/png": "[encoded data removed]",
            "text/plain": [
              "<Figure size 432x288 with 1 Axes>"
            ]
          },
          "metadata": {
            "needs_background": "light"
          }
        }
      ],
      "source": [
        "plt_a = plot_acc(history)\n",
        "plt_a.savefig(os.path.join(PLOTS_PATH, 'benmal_ensemble_model1_acc.png'))\n",
        "plt_a.show()"
      ]
    },
    {
      "cell_type": "code",
      "execution_count": null,
      "metadata": {
        "colab": {
          "base_uri": "https://localhost:8080/",
          "height": 298
        },
        "outputId": "5e4deeeb-b242-459b-a85d-aaf4408901a2",
        "id": "wYgHBggn1kEr"
      },
      "outputs": [
        {
          "output_type": "display_data",
          "data": {
            "image/png": "[encoded data removed]",
            "text/plain": [
              "<Figure size 432x288 with 1 Axes>"
            ]
          },
          "metadata": {
            "needs_background": "light"
          }
        },
        {
          "output_type": "display_data",
          "data": {
            "text/plain": [
              "<Figure size 432x288 with 0 Axes>"
            ]
          },
          "metadata": {}
        }
      ],
      "source": [
        "plt_l = plot_loss(history)\n",
        "plt_l.show()\n",
        "plt_l.savefig(os.path.join(PLOTS_PATH, 'benmal_ensemble_model1_loss.png'))"
      ]
    },
    {
      "cell_type": "code",
      "execution_count": null,
      "metadata": {
        "colab": {
          "base_uri": "https://localhost:8080/"
        },
        "outputId": "f3902568-caed-421f-9b21-98427fcee5f8",
        "id": "7UtiXhHz1kEr"
      },
      "outputs": [
        {
          "output_type": "stream",
          "name": "stdout",
          "text": [
            "Epoch [end]: 100\n",
            "Epoch [opt]: 12\n",
            "Valid accuracy [end]: 0.7695\n",
            "Valid accuracy [opt]: 0.7793\n",
            "Valid loss [end]: 0.4848\n",
            "Valid loss [opt]: 0.4882\n"
          ]
        }
      ],
      "source": [
        "print_opt_results(history)"
      ]
    },
    {
      "cell_type": "code",
      "execution_count": null,
      "metadata": {
        "colab": {
          "base_uri": "https://localhost:8080/"
        },
        "outputId": "2ba528d6-1b1d-4060-ce0e-1f798cf3844b",
        "id": "v45RI7xJ1kEr"
      },
      "outputs": [
        {
          "output_type": "stream",
          "name": "stdout",
          "text": [
            "10/10 [==============================] - 2s 149ms/step - loss: 0.5593 - acc: 0.7125\n",
            "\n",
            "---------------------------------\n",
            "Accuracy: 71.25 %\n",
            "Loss: 0.56\n",
            "---------------------------------\n",
            "\n"
          ]
        }
      ],
      "source": [
        "test_loss, test_accuracy = model.evaluate(test_datagen.flow(test_images,\n",
        "                                            test_labels,\n",
        "                                            batch_size=BATCH_SIZE,\n",
        "                                            shuffle=False),\n",
        "                                            steps=len(test_images) // BATCH_SIZE)\n",
        "\n",
        "print(\"\\n---------------------------------\")\n",
        "print(\"Accuracy:\", \"%0.2f\" % (test_accuracy*100), \"%\")\n",
        "print(\"Loss:\", \"%0.2f\" % (test_loss))\n",
        "print(\"---------------------------------\\n\")"
      ]
    },
    {
      "cell_type": "code",
      "execution_count": null,
      "metadata": {
        "id": "1YcDjWtA1kEr"
      },
      "outputs": [],
      "source": [
        "model_best = model"
      ]
    },
    {
      "cell_type": "code",
      "execution_count": null,
      "metadata": {
        "colab": {
          "base_uri": "https://localhost:8080/",
          "height": 571
        },
        "outputId": "010a1623-42b5-4455-d83f-760acd1e42af",
        "id": "Csf76qCA1kEr"
      },
      "outputs": [
        {
          "output_type": "stream",
          "name": "stdout",
          "text": [
            "(336,)\n",
            "(336, 150, 150, 3)\n",
            "(336, 1)\n",
            "(336, 1)\n",
            "Confusion Matrix\n",
            "              precision    recall  f1-score   support\n",
            "\n",
            "         0.0       0.78      0.78      0.78       219\n",
            "         1.0       0.58      0.59      0.59       117\n",
            "\n",
            "    accuracy                           0.71       336\n",
            "   macro avg       0.68      0.68      0.68       336\n",
            "weighted avg       0.71      0.71      0.71       336\n",
            "\n"
          ]
        },
        {
          "output_type": "execute_result",
          "data": {
            "text/plain": [
              "Text(0.5, -6.819805153394636, 'Predicted label')"
            ]
          },
          "metadata": {},
          "execution_count": 73
        },
        {
          "output_type": "display_data",
          "data": {
            "image/png": "[encoded data removed]",
            "text/plain": [
              "<Figure size 432x288 with 2 Axes>"
            ]
          },
          "metadata": {
            "needs_background": "light"
          }
        }
      ],
      "source": [
        "classes = [\"Benign\", \"Malign\"]\n",
        "Y_pred = model_best.predict(test_datagen.flow(test_images,\n",
        "                                            test_labels,\n",
        "                                            batch_size=BATCH_SIZE+4,\n",
        "                                            shuffle=False),\n",
        "                          steps=len(test_images) // BATCH_SIZE)\n",
        "\n",
        "y_pred = np.where(Y_pred < 0.5, 0, 1)\n",
        "\n",
        "print(test_labels.shape)\n",
        "print(test_images.shape)\n",
        "print(Y_pred.shape)\n",
        "print(y_pred.shape)\n",
        "\n",
        "print('Confusion Matrix')\n",
        "cm = confusion_matrix(test_labels, y_pred)\n",
        "\n",
        "#print(cm)\n",
        "#print('Classification Report')\n",
        "print(classification_report(test_labels, y_pred))\n",
        "\n",
        "plt.imshow(cm, interpolation='nearest', cmap=plt.cm.Blues)\n",
        "plt.title(\"Confusione Matrix\")\n",
        "plt.colorbar()\n",
        "tick_marks = np.arange(len(classes))\n",
        "plt.xticks(tick_marks, classes, rotation=45)\n",
        "plt.yticks(tick_marks, classes)\n",
        "\n",
        "#print(cm)\n",
        "\n",
        "thresh = cm.max() / 2.\n",
        "for i, j in itertools.product(range(cm.shape[0]), range(cm.shape[1])):\n",
        "    plt.text(j, i, cm[i, j],\n",
        "        horizontalalignment=\"center\",\n",
        "        color=\"white\" if cm[i, j] > thresh else \"black\")\n",
        "\n",
        "plt.tight_layout()\n",
        "plt.ylabel('True label')\n",
        "plt.xlabel('Predicted label')\n"
      ]
    },
    {
      "cell_type": "code",
      "execution_count": null,
      "metadata": {
        "id": "SU-MwQ0R1kEr"
      },
      "outputs": [],
      "source": [
        "fpr,tpr,th = roc_curve(test_labels, Y_pred)\n",
        "\n",
        "roc_auc = roc_auc_score(test_labels, Y_pred)"
      ]
    },
    {
      "cell_type": "code",
      "execution_count": null,
      "metadata": {
        "colab": {
          "base_uri": "https://localhost:8080/",
          "height": 295
        },
        "outputId": "325c9845-2354-4b0b-8f9c-eb76be348a12",
        "id": "dxzcLsBG1kEr"
      },
      "outputs": [
        {
          "output_type": "display_data",
          "data": {
            "image/png": "[encoded data removed]",
            "text/plain": [
              "<Figure size 432x288 with 1 Axes>"
            ]
          },
          "metadata": {
            "needs_background": "light"
          }
        }
      ],
      "source": [
        "plt.title('Receiver Operating Characteristic')\n",
        "plt.plot(fpr, tpr, 'b', label = 'AUC = %0.2f' % roc_auc)\n",
        "plt.legend(loc = 'lower right')\n",
        "plt.plot([0, 1], [0, 1],'r--')\n",
        "plt.xlim([0, 1])\n",
        "plt.ylim([0, 1])\n",
        "plt.ylabel('True Positive Rate')\n",
        "plt.xlabel('False Positive Rate')\n",
        "plt.show()"
      ]
    }
  ],
  "metadata": {
    "accelerator": "GPU",
    "colab": {
      "collapsed_sections": [
        "1BPdoFtT4EGy",
        "tilduDssak7x",
        "Mvha-L4fZN_A",
        "4iwyaGNKshWs",
        "52whrXbNxsZ_",
        "g9hGFK4F4NNu",
        "fAAqiBd871h7",
        "VtNeppGTc--z",
        "IHZZXJVcg2D2",
        "wGe9xPEGp4CO",
        "NMqbIUdP1kEm"
      ],
      "name": "Ensemble.ipynb",
      "provenance": [],
      "include_colab_link": true
    },
    "kernelspec": {
      "display_name": "Python 3",
      "name": "python3"
    },
    "language_info": {
      "name": "python"
    }
  },
  "nbformat": 4,
  "nbformat_minor": 0
}