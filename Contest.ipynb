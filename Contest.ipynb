{
  "cells": [
    {
      "cell_type": "markdown",
      "metadata": {
        "id": "view-in-github",
        "colab_type": "text"
      },
      "source": [
        "<a href=\"https://colab.research.google.com/github/andrealamanna/cnn_prediction_abnormalities_mammography/blob/main/Contest.ipynb\" target=\"_parent\"><img src=\"https://colab.research.google.com/assets/colab-badge.svg\" alt=\"Open In Colab\"/></a>"
      ]
    },
    {
      "cell_type": "markdown",
      "metadata": {
        "id": "1BPdoFtT4EGy"
      },
      "source": [
        "# **Contest**\n",
        "## Best CNN for benign and malignant classifications"
      ]
    },
    {
      "cell_type": "code",
      "execution_count": 1,
      "metadata": {
        "colab": {
          "base_uri": "https://localhost:8080/"
        },
        "id": "sPIkZiD734ci",
        "outputId": "1bb411fe-2203-4f88-8d96-1fa7d60022ee"
      },
      "outputs": [
        {
          "output_type": "stream",
          "name": "stdout",
          "text": [
            "Mounted at /content/drive/\n"
          ]
        }
      ],
      "source": [
        "import os\n",
        "import pandas as pd\n",
        "import numpy as np\n",
        "from sklearn.metrics import accuracy_score\n",
        "from google.colab import drive\n",
        "from tensorflow import keras\n",
        "from keras.models import load_model\n",
        "drive.mount('/content/drive/', force_remount=True)"
      ]
    },
    {
      "cell_type": "code",
      "source": [
        "model = load_model(\"/content/drive/My Drive/Colab Notebooks/DLProject/Lamanna/models/Pretrained/benmal_inceptionv3_model9.h5\")\n",
        "x_test_private = np.load(\"/content/drive/My Drive/Colab Notebooks/DLProject/Lamanna/numpy data/public_test_tensor.npy\")"
      ],
      "metadata": {
        "id": "4_RaU_JFXmjp"
      },
      "execution_count": 2,
      "outputs": []
    },
    {
      "cell_type": "code",
      "metadata": {
        "id": "5Cxrx-GfTgQe"
      },
      "source": [
        "x_test_abno = x_test_private[1::2]\n",
        "x_test_abno = x_test_abno.reshape(x_test_abno.shape + (1,))\n",
        "x_test_abno = np.repeat(x_test_abno, 3, axis = 3)\n",
        "x_test_abno = x_test_abno/65535\n",
        "\n",
        "prediction = model.predict(x_test_abno)\n",
        "\n",
        "output_labels = prediction.argmax(axis = 1)\n",
        "\n",
        "assert len(output_labels) == 336 # must be of this size!"
      ],
      "execution_count": 3,
      "outputs": []
    },
    {
      "cell_type": "code",
      "source": [
        "mf = open('/content/drive/My Drive/Colab Notebooks/DLProject/Lamanna/Submission.csv','w')\n",
        "for i in output_labels:\n",
        "  mf.writelines(\"\\n\".join(str(i)))\n",
        "mf.close()"
      ],
      "metadata": {
        "id": "bVJrPM9yVXPZ"
      },
      "execution_count": null,
      "outputs": []
    },
    {
      "cell_type": "code",
      "source": [
        "#Alternative writing\n",
        "prediction=(prediction > 0.5).astype(int)\n",
        "mf = open('/content/drive/My Drive/Colab Notebooks/DLProject/Lamanna/Submission.csv','w')\n",
        "for i in prediction:\n",
        "  mf.write((str(i[0]))+\"\\n\")\n",
        "mf.close()"
      ],
      "metadata": {
        "id": "3EGvbWHNPTv6"
      },
      "execution_count": 8,
      "outputs": []
    }
  ],
  "metadata": {
    "accelerator": "GPU",
    "colab": {
      "collapsed_sections": [],
      "name": "Contest.ipynb",
      "provenance": [],
      "include_colab_link": true
    },
    "kernelspec": {
      "display_name": "Python 3",
      "name": "python3"
    },
    "language_info": {
      "name": "python"
    }
  },
  "nbformat": 4,
  "nbformat_minor": 0
}