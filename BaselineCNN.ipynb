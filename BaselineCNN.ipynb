{
  "cells": [
    {
      "cell_type": "markdown",
      "metadata": {
        "id": "view-in-github",
        "colab_type": "text"
      },
      "source": [
        "<a href=\"https://colab.research.google.com/github/andrealamanna/cnn_prediction_abnormalities_mammography/blob/main/BaselineCNN.ipynb\" target=\"_parent\"><img src=\"https://colab.research.google.com/assets/colab-badge.svg\" alt=\"Open In Colab\"/></a>"
      ]
    },
    {
      "cell_type": "markdown",
      "metadata": {
        "id": "1BPdoFtT4EGy"
      },
      "source": [
        "# **Task 4**\n",
        "## Baseline"
      ]
    },
    {
      "cell_type": "markdown",
      "metadata": {
        "id": "tilduDssak7x"
      },
      "source": [
        "#Perliminar phases"
      ]
    },
    {
      "cell_type": "code",
      "execution_count": null,
      "metadata": {
        "colab": {
          "base_uri": "https://localhost:8080/"
        },
        "id": "sPIkZiD734ci",
        "outputId": "9fe01beb-7799-4d13-8724-17685cd96a3e"
      },
      "outputs": [
        {
          "output_type": "stream",
          "name": "stdout",
          "text": [
            "Mounted at /content/gdrive\n"
          ]
        }
      ],
      "source": [
        "from google.colab import drive\n",
        "drive.mount('/content/gdrive', force_remount=True)"
      ]
    },
    {
      "cell_type": "code",
      "execution_count": null,
      "metadata": {
        "colab": {
          "base_uri": "https://localhost:8080/"
        },
        "id": "InPOLuCi4JpH",
        "outputId": "8555f0c5-9de6-4425-81a2-42701c801fa1"
      },
      "outputs": [
        {
          "output_type": "stream",
          "name": "stdout",
          "text": [
            "Done\n"
          ]
        }
      ],
      "source": [
        "import matplotlib.pyplot as plt\n",
        "import tensorflow as tf\n",
        "import seaborn as sns # Grouped bar plot\n",
        "import itertools\n",
        "import numpy as np\n",
        "import pandas as pd \n",
        "import os \n",
        "import gc # Garbage Collector\n",
        "from skimage import data, img_as_float\n",
        "from skimage import exposure\n",
        "\n",
        "from tensorflow import keras\n",
        "from tensorflow.keras import backend as K # Useful to free GPU and memory\n",
        "from sklearn.metrics import confusion_matrix, classification_report\n",
        "from tensorflow.keras.preprocessing.image import ImageDataGenerator\n",
        "from tensorflow.keras.preprocessing import image\n",
        "from tensorflow.keras.models import load_model\n",
        "from tensorflow.keras.utils import plot_model\n",
        "from tensorflow.keras import optimizers\n",
        "from keras import layers, models, regularizers, metrics\n",
        "from keras.models import load_model\n",
        "from sklearn.metrics import roc_curve, roc_auc_score\n",
        "from sklearn.metrics import auc\n",
        "\n",
        "from keras.applications.inception_v3 import InceptionV3\n",
        "from keras.applications.inception_v3 import preprocess_input\n",
        "\n",
        "print(\"Done\")"
      ]
    },
    {
      "cell_type": "code",
      "execution_count": null,
      "metadata": {
        "colab": {
          "base_uri": "https://localhost:8080/"
        },
        "id": "5zONincssblV",
        "outputId": "58ea0269-f143-4e8f-90aa-393b40cdc5d6"
      },
      "outputs": [
        {
          "output_type": "stream",
          "name": "stdout",
          "text": [
            "Done\n"
          ]
        }
      ],
      "source": [
        "BATCH_SIZE = 32\n",
        "EPOCHS = 100\n",
        "IMAGE_HEIGHT = 150\n",
        "IMAGE_WIDTH = 150\n",
        "#PAT = 4\n",
        "\n",
        "METRICS = [\n",
        "      metrics.BinaryAccuracy(name='acc'),\n",
        "]\n",
        "\n",
        "base_path = \"/content/gdrive/My Drive/Colab Notebooks/DLProject/Lamanna/\"\n",
        "\n",
        "MODEL_PATH = os.path.join(base_path, \"models\")\n",
        "MODEL_PRETRAINED_PATH = os.path.join(MODEL_PATH, \"Pretrained\")\n",
        "MODEL_SCRATCH_PATH = os.path.join(MODEL_PATH, \"Scratch\")\n",
        "MODEL_BASELINE_PATH = os.path.join(MODEL_PATH, \"Baseline\")\n",
        "PLOTS_PATH = os.path.join(base_path, \"plots/Baseline\")\n",
        "\n",
        "train_img_path = os.path.join(base_path, \"numpy data/train_tensor.npy\")\n",
        "train_label_path = os.path.join(base_path, \"numpy data/train_labels.npy\")\n",
        "test_img_path = os.path.join(base_path, \"numpy data/public_test_tensor.npy\")\n",
        "test_label_path = os.path.join(base_path, \"numpy data/public_test_labels.npy\")\n",
        "\n",
        "print(\"Done\")"
      ]
    },
    {
      "cell_type": "markdown",
      "metadata": {
        "id": "Mvha-L4fZN_A"
      },
      "source": [
        "# Utility Functions"
      ]
    },
    {
      "cell_type": "code",
      "execution_count": null,
      "metadata": {
        "colab": {
          "base_uri": "https://localhost:8080/"
        },
        "id": "A6Xj1de5spDG",
        "outputId": "6040a413-67d9-42a4-b40b-006d8805832a"
      },
      "outputs": [
        {
          "output_type": "stream",
          "name": "stdout",
          "text": [
            "Done\n"
          ]
        }
      ],
      "source": [
        "# Remove baseline samples\n",
        "def remove_baseline(samples): \n",
        "  max_index = int(len(samples)/2)\n",
        "  indexes = [2*i + 1 for i in range(0, max_index)]\n",
        "\n",
        "  return samples[indexes]\n",
        "\n",
        "# Interchange the dataset index\n",
        "def shuffle_dataset(i, j, k):\n",
        "  indexes = tf.range(start=0, limit=tf.shape(i)[0], dtype=tf.int32)\n",
        "  shuffled_indexes = tf.random.shuffle(indexes)\n",
        "\n",
        "  i = tf.gather(i, shuffled_indexes)\n",
        "  j = tf.gather(j, shuffled_indexes)\n",
        "  k = tf.gather(k, shuffled_indexes)\n",
        "\n",
        "  i = i.numpy()\n",
        "  j = j.numpy()\n",
        "  k = k.numpy()\n",
        "\n",
        "  return i, j, k\n",
        "\n",
        "# Unify masses and calcifications \n",
        "def labels_mapping_masscalc(labels):\n",
        "  #labels_local = np.zeros(shape=labels.shape, dtype=\"float32\")\n",
        "  labels_local = np.zeros(shape=(int(labels.shape[0]/2),), dtype=\"float32\")\n",
        "  idx = 0\n",
        "  for label in labels:\n",
        "    # Masses\n",
        "    if label == 1 or label == 2:\n",
        "      labels_local[idx] = 0\n",
        "      idx += 1\n",
        "    # Calcifications\n",
        "    if label == 3 or label == 4:\n",
        "      labels_local[idx] = 1\n",
        "      idx += 1\n",
        "\n",
        "  return labels_local\n",
        "\n",
        "# Unify mal and ben \n",
        "def labels_mapping_benmal(labels):\n",
        "  labels_local = np.zeros(shape=(int(labels.shape[0]/2),), dtype=\"float32\")\n",
        "  idx = 0\n",
        "  for label in labels:\n",
        "    # Benign\n",
        "    if label == 1 or label == 3:\n",
        "      labels_local[idx] = 0\n",
        "      idx += 1\n",
        "    # Malign\n",
        "    if label == 2 or label == 4:\n",
        "      labels_local[idx] = 1\n",
        "      idx += 1\n",
        "\n",
        "  return labels_local\n",
        "\n",
        "print(\"Done\")"
      ]
    },
    {
      "cell_type": "code",
      "execution_count": null,
      "metadata": {
        "colab": {
          "base_uri": "https://localhost:8080/"
        },
        "id": "SfVIB61Kf2Rn",
        "outputId": "b5af6fd8-a47b-47d1-aa29-21bf1bef4cb3"
      },
      "outputs": [
        {
          "output_type": "stream",
          "name": "stdout",
          "text": [
            "Done\n"
          ]
        }
      ],
      "source": [
        "#test_loss, test_accuracy, test_precision, test_recall, test_auc = model.evaluate(test_datagen.flow(test_images,\n",
        "def test_model(model):\n",
        "  test_loss, test_accuracy, test_precision, test_recall, test_auc = model.evaluate(test_datagen.flow(test_images,\n",
        "                                            test_labels,\n",
        "                                            batch_size=BATCH_SIZE,\n",
        "                                            shuffle=False),\n",
        "                                            steps=len(test_images) // BATCH_SIZE)#,\n",
        "                                      #callbacks=[GarbageCollectorCallback()])\n",
        "  print(\"\\n---------------------------------\")\n",
        "  print(\"Accuracy:\", \"%0.2f\" % (test_accuracy*100), \"%\")\n",
        "  print(\"Loss:\", \"%0.2f\" % (test_loss))\n",
        "  #print(\"Precision:\", \"%0.2f\" % (test_precision*100), \"%\")\n",
        "  #print(\"Recall:\", \"%0.2f\" % (test_recall*100), \"%\")\n",
        "  #print(\"AUC:\", \"%0.2f\" % test_auc)\n",
        "  print(\"---------------------------------\\n\")\n",
        "\n",
        "print(\"Done\")"
      ]
    },
    {
      "cell_type": "code",
      "execution_count": null,
      "metadata": {
        "colab": {
          "base_uri": "https://localhost:8080/"
        },
        "id": "MEP4Dek4f1qf",
        "outputId": "81513ff7-4755-435d-a737-9cf48becebb6"
      },
      "outputs": [
        {
          "output_type": "stream",
          "name": "stdout",
          "text": [
            "Done\n"
          ]
        }
      ],
      "source": [
        "def print_opt_results(history_0):\n",
        "  # History of accuracy and loss\n",
        "  tra_loss_0 = history_0.history['loss']\n",
        "  tra_acc_0 = history_0.history['acc']\n",
        "  val_loss_0 = history_0.history['val_loss']\n",
        "  val_acc_0 = history_0.history['val_acc']\n",
        "\n",
        "  # Total number of epochs training\n",
        "  epochs_0 = range(1, len(tra_acc_0)+1)\n",
        "  end_epoch_0 = len(tra_acc_0)\n",
        "\n",
        "  # Epoch when reached the val acc max\n",
        "  opt_epoch_0 = val_acc_0.index(max(val_acc_0)) + 1\n",
        "\n",
        "  # Loss and accuracy on the validation set\n",
        "  end_val_loss_0 = val_loss_0[len(val_loss_0)-1]\n",
        "  end_val_acc_0 = val_acc_0[len(val_acc_0)-1]\n",
        "  opt_val_loss_0 = val_loss_0[opt_epoch_0-1]\n",
        "  opt_val_acc_0 = val_acc_0[opt_epoch_0-1]\n",
        "\n",
        "  print(\"Epoch [end]: %d\" % end_epoch_0)\n",
        "  print(\"Epoch [opt]: %d\" % opt_epoch_0)\n",
        "  print(\"Valid accuracy [end]: %.4f\" % end_val_acc_0)\n",
        "  print(\"Valid accuracy [opt]: %.4f\" % opt_val_acc_0)\n",
        "  print(\"Valid loss [end]: %.4f\" % end_val_loss_0)\n",
        "  print(\"Valid loss [opt]: %.4f\" % opt_val_loss_0)\n",
        "\n",
        "print(\"Done\")"
      ]
    },
    {
      "cell_type": "code",
      "execution_count": null,
      "metadata": {
        "colab": {
          "base_uri": "https://localhost:8080/"
        },
        "id": "cCGOlEQOY6FS",
        "outputId": "7605faad-1b3a-4d89-ad9d-78789da29141"
      },
      "outputs": [
        {
          "output_type": "stream",
          "name": "stdout",
          "text": [
            "Done\n"
          ]
        }
      ],
      "source": [
        "def plot_acc(history):\n",
        "  acc = history.history['acc']\n",
        "  val_acc = history.history['val_acc']\n",
        "  #loss = history.history['loss']\n",
        "  #val_loss = history.history['val_loss']\n",
        "  epochs = range(len(acc))\n",
        "  plt.figure()\n",
        "  plt.plot(epochs, acc, 'b', linestyle='dashed', label='Training accuracy',color='Green')\n",
        "  plt.plot(epochs, val_acc, 'b', label='Validation accuracy',color='Blue')\n",
        "  plt.title('Training and validation accuracy')\n",
        "  plt.legend()\n",
        "  return plt\n",
        "\n",
        "def plot_loss(history):\n",
        "  #acc = history.history['acc']\n",
        "  #val_acc = history.history['val_acc']\n",
        "  loss = history.history['loss']\n",
        "  val_loss = history.history['val_loss']\n",
        "  epochs = range(len(loss))\n",
        "  plt.figure()\n",
        "  plt.plot(epochs, loss, 'b', linestyle='dashed', label='Training loss',color='cyan')\n",
        "  plt.plot(epochs, val_loss, 'b', label='Validation loss',color='orange')\n",
        "  plt.title('Training and validation loss')\n",
        "  plt.legend()\n",
        "  return plt\n",
        "\n",
        "def get_model_predictions(model, dataset, labels, sample_count): \n",
        "  predictions = np.zeros((sample_count,))   \n",
        "\n",
        "  BATCH_SIZE = 1\n",
        "  i = 0\n",
        "  for batch, labels_batch in test_datagen.flow(dataset, labels, batch_size=BATCH_SIZE, shuffle=True):\n",
        "    predictions[i * BATCH_SIZE : (i + 1) * BATCH_SIZE] = model.predict(batch)\n",
        "    i += 1\n",
        "\n",
        "    if i * BATCH_SIZE  >= sample_count:\n",
        "      break\n",
        "\n",
        "    #np.where(predictions < 0.5, 0, 1)\n",
        "    #predictions = np.where(predictions < 0.5, 0, 1)\n",
        "\n",
        "  return predictions\n",
        "\n",
        "\n",
        "def get_model_pred_prob(model, dataset, labels, sample_count): \n",
        "  predictions = np.zeros((sample_count,))   \n",
        "\n",
        "  BATCH_SIZE = 1\n",
        "  i = 0\n",
        "  for batch, labels_batch in test_datagen.flow(dataset, labels, batch_size=BATCH_SIZE, shuffle=True):\n",
        "    predictions[i * BATCH_SIZE : (i + 1) * BATCH_SIZE] = model.predict_classes(batch)\n",
        "    i += 1\n",
        "\n",
        "    if i * BATCH_SIZE  >= sample_count:\n",
        "      break\n",
        "\n",
        "  return predictions\n",
        "\n",
        "# Function to calculate True Positive Rate and False Positive Rate\n",
        "def calc_TP_FP_rate(y_true, y_pred):    \n",
        "    # Instantiate counters\n",
        "    TP = 0\n",
        "    FP = 0\n",
        "    TN = 0\n",
        "    FN = 0\n",
        "\n",
        "    # Determine whether each prediction is TP, FP, TN, or FN\n",
        "    for i in range(len(y_true)): \n",
        "        if y_true[i]==y_pred[i]==1.:\n",
        "           TP += 1\n",
        "        if y_pred[i]==1. and y_true[i]!=y_pred[i]:\n",
        "           FP += 1\n",
        "        if y_true[i]==y_pred[i]==0.:\n",
        "           TN += 1\n",
        "        if y_pred[i]==0. and y_true[i]!=y_pred[i]:\n",
        "           FN += 1\n",
        "    \n",
        "    print(\"TP: \", TP)\n",
        "    print(\"FP: \", FP)\n",
        "    print(\"TN: \", TN)\n",
        "    print(\"FN: \", FN)\n",
        "    \n",
        "    precision = TP / (TP + FP)\n",
        "\n",
        "    tpr = TP / (TP + FN)\n",
        "    specificity = TN / (TN + FP)\n",
        "    fpr = FP / (FP + TN)\n",
        "\n",
        "    return tpr, fpr, precision, specificity\n",
        "    # Visualization Data Histogram\n",
        "\n",
        "def plot_confusion_matrix(model,\n",
        "                          classes,\n",
        "                          dataset, \n",
        "                          labels,\n",
        "                          title='Confusion matrix',\n",
        "                          cmap=plt.cm.Blues):\n",
        "\n",
        "    Y_pred = model.predict(test_datagen.flow(dataset,\n",
        "                                            labels,\n",
        "                                            batch_size=BATCH_SIZE+1,\n",
        "                                            shuffle=False),\n",
        "                          steps=len(dataset) // BATCH_SIZE)\n",
        "\n",
        "    np.where(Y_pred < 0.5, 0, 1)\n",
        "    y_pred = np.where(Y_pred < 0.5, 0, 1)\n",
        "\n",
        "    print('Confusion Matrix')\n",
        "    cm = confusion_matrix(labels, y_pred)\n",
        "\n",
        "    #print(cm)\n",
        "    #print('Classification Report')\n",
        "    print(classification_report(labels, y_pred))\n",
        "\n",
        "\n",
        "    plt.imshow(cm, interpolation='nearest', cmap=cmap)\n",
        "    plt.title(title)\n",
        "    plt.colorbar()\n",
        "    tick_marks = np.arange(len(classes))\n",
        "    plt.xticks(tick_marks, classes, rotation=45)\n",
        "    plt.yticks(tick_marks, classes)\n",
        "\n",
        "    #print(cm)\n",
        "\n",
        "    thresh = cm.max() / 2.\n",
        "    for i, j in itertools.product(range(cm.shape[0]), range(cm.shape[1])):\n",
        "        plt.text(j, i, cm[i, j],\n",
        "            horizontalalignment=\"center\",\n",
        "            color=\"white\" if cm[i, j] > thresh else \"black\")\n",
        "\n",
        "    plt.tight_layout()\n",
        "    plt.ylabel('True label')\n",
        "    plt.xlabel('Predicted label')\n",
        "\n",
        "    return plt\n",
        "\n",
        "# Visualization Detail Metric\n",
        "def plot_metrics(history):\n",
        "  metrics = ['loss', 'auc', 'precision', 'recall']\n",
        "  for n, metric in enumerate(metrics):\n",
        "    name = metric.replace(\"_\",\" \").capitalize()\n",
        "    plt.plot(history.epoch, history.history[metric], label='Train')\n",
        "    plt.plot(history.epoch, history.history['val_'+metric],\n",
        "             linestyle=\"--\", label='Val')\n",
        "    plt.xlabel('Epoch')\n",
        "    plt.ylabel(name)\n",
        "\n",
        "    if metric == 'loss':\n",
        "      plt.ylim([0, plt.ylim()[1]])\n",
        "    elif metric == 'auc':\n",
        "      plt.ylim([0.8,1])\n",
        "    else:\n",
        "      plt.ylim([0,1])\n",
        "\n",
        "    plt.legend()\n",
        "    if metrics[-1] != metric:\n",
        "      plt.figure()\n",
        "\n",
        "  return plt, cm\n",
        "\n",
        "def plot_AUC(model, dataset, labels):\n",
        "  y_pred_keras = get_model_predictions(model, dataset, labels, len(dataset))\n",
        "  fpr_keras, tpr_keras, thresholds_keras = roc_curve(labels, y_pred_keras)\n",
        "  #thresholds_keras = np.linspace(0,1,num=100)\n",
        "  auc_keras = auc(fpr_keras, tpr_keras)\n",
        "\n",
        "  plt.figure(1)\n",
        "  plt.plot([0, 1], [0, 1], 'k--')\n",
        "  plt.plot(fpr_keras, tpr_keras, label='CNN (area = {:.3f})'.format(auc_keras))\n",
        "  plt.xlabel('False positive rate')\n",
        "  plt.ylabel('True positive rate')\n",
        "  plt.title('ROC curve')\n",
        "  plt.legend(loc='best')\n",
        "  #plt.show()\n",
        "\n",
        "  return auc_keras, plt\n",
        "\n",
        "print(\"Done\")"
      ]
    },
    {
      "cell_type": "code",
      "execution_count": null,
      "metadata": {
        "id": "aW-3iXxrYEhI"
      },
      "outputs": [],
      "source": [
        "#Early stop conditon \n",
        "#early_stop = keras.callbacks.EarlyStopping(monitor='val_loss', patience=PAT)"
      ]
    },
    {
      "cell_type": "code",
      "execution_count": null,
      "metadata": {
        "id": "hcijpEVu4J3s"
      },
      "outputs": [],
      "source": [
        "# Custom Callback To Include in Callbacks List At Training Time\n",
        "#class GarbageCollectorCallback(tf.keras.callbacks.Callback):\n",
        "#    def on_epoch_end(self, epoch, logs=None):\n",
        "#      gc.collect()\n",
        "\n",
        "#print(\"Done\")"
      ]
    },
    {
      "cell_type": "code",
      "source": [
        "def earlyStop(patience):\n",
        "  callback = tf.keras.callbacks.EarlyStopping(monitor='val_loss', patience=patience)\n",
        "  return callback\n",
        "print(\"Done\")"
      ],
      "metadata": {
        "id": "VR-LUSzwBP9b",
        "colab": {
          "base_uri": "https://localhost:8080/"
        },
        "outputId": "e5ae53d2-8de6-4848-84b2-e3054f35a8b6"
      },
      "execution_count": null,
      "outputs": [
        {
          "output_type": "stream",
          "name": "stdout",
          "text": [
            "Done\n"
          ]
        }
      ]
    },
    {
      "cell_type": "markdown",
      "metadata": {
        "id": "52whrXbNxsZ_"
      },
      "source": [
        "# Siamese Mass Calc\n"
      ]
    },
    {
      "cell_type": "markdown",
      "metadata": {
        "id": "4iwyaGNKshWs"
      },
      "source": [
        "## Data operations Mass Calc"
      ]
    },
    {
      "cell_type": "code",
      "execution_count": null,
      "metadata": {
        "colab": {
          "base_uri": "https://localhost:8080/"
        },
        "id": "wuEgP_XI4J62",
        "outputId": "6087f043-e007-4c3a-8acd-e95431417a17"
      },
      "outputs": [
        {
          "output_type": "stream",
          "name": "stdout",
          "text": [
            "Train dataset\n",
            "---------------------------------\n",
            "Masses: \t\t 1218\n",
            "Calcification: \t\t 1458\n",
            "---------------------------------\n",
            "Benign: \t\t 1568\n",
            "Malign: \t\t 1108\n",
            "---------------------------------\n",
            "Benign Masses: \t\t 620\n",
            "Malign Masses: \t\t 598\n",
            "Benign Calcification: \t 948\n",
            "Malign Calcification: \t 510\n",
            "---------------------------------\n",
            "Baseline: \t\t 2676\n",
            "---------------------------------\n",
            "Total: \t\t\t 5352\n",
            "\n",
            "\n",
            "Test dataset\n",
            "---------------------------------\n",
            "Masses: \t\t 179\n",
            "Calcification: \t\t 157\n",
            "---------------------------------\n",
            "Benign: \t\t 219\n",
            "Malign: \t\t 117\n",
            "---------------------------------\n",
            "Benign Masses: \t\t 113\n",
            "Malign Masses: \t\t 66\n",
            "Benign Calcification: \t 106\n",
            "Malign Calcification: \t 51\n",
            "---------------------------------\n",
            "Baseline: \t\t 336\n",
            "---------------------------------\n",
            "Total: \t\t\t 672\n"
          ]
        }
      ],
      "source": [
        "train_images = np.load(train_img_path)\n",
        "train_labels = np.load(train_label_path)\n",
        "test_images = np.load(test_img_path)\n",
        "test_labels = np.load(test_label_path)\n",
        "\n",
        "#count quantity masses and calcifications\n",
        "unique, counts = np.unique(train_labels, return_counts=True)\n",
        "#print(unique, counts)\n",
        "print(\"Train dataset\")\n",
        "print(\"---------------------------------\")\n",
        "print(\"Masses: \\t\\t\", counts[1]+counts[2])\n",
        "print(\"Calcification: \\t\\t\", counts[3]+counts[4])\n",
        "print(\"---------------------------------\")\n",
        "print(\"Benign: \\t\\t\", counts[1]+counts[3])\n",
        "print(\"Malign: \\t\\t\", counts[2]+counts[4])\n",
        "print(\"---------------------------------\")\n",
        "print(\"Benign Masses: \\t\\t\", counts[1])\n",
        "print(\"Malign Masses: \\t\\t\", counts[2])\n",
        "print(\"Benign Calcification: \\t\", counts[3])\n",
        "print(\"Malign Calcification: \\t\", counts[4])\n",
        "print(\"---------------------------------\")\n",
        "print(\"Baseline: \\t\\t\", counts[0])\n",
        "print(\"---------------------------------\")\n",
        "print(\"Total: \\t\\t\\t\", counts[0]+counts[1]+counts[2]+counts[3]+counts[4])\n",
        "\n",
        "#count quantity masses and calcifications\n",
        "uniqueT, countsT = np.unique(test_labels, return_counts=True)\n",
        "#print(unique, countsT)\n",
        "print(\"\\n\")\n",
        "print(\"Test dataset\")\n",
        "print(\"---------------------------------\")\n",
        "print(\"Masses: \\t\\t\", countsT[1]+countsT[2])\n",
        "print(\"Calcification: \\t\\t\", countsT[3]+countsT[4])\n",
        "print(\"---------------------------------\")\n",
        "print(\"Benign: \\t\\t\", countsT[1]+countsT[3])\n",
        "print(\"Malign: \\t\\t\", countsT[2]+countsT[4])\n",
        "print(\"---------------------------------\")\n",
        "print(\"Benign Masses: \\t\\t\", countsT[1])\n",
        "print(\"Malign Masses: \\t\\t\", countsT[2])\n",
        "print(\"Benign Calcification: \\t\", countsT[3])\n",
        "print(\"Malign Calcification: \\t\", countsT[4])\n",
        "print(\"---------------------------------\")\n",
        "print(\"Baseline: \\t\\t\", countsT[0])\n",
        "print(\"---------------------------------\")\n",
        "print(\"Total: \\t\\t\\t\", countsT[0]+countsT[1]+countsT[2]+countsT[3]+countsT[4])"
      ]
    },
    {
      "cell_type": "code",
      "execution_count": null,
      "metadata": {
        "colab": {
          "base_uri": "https://localhost:8080/",
          "height": 192
        },
        "id": "HigF_SHRspDF",
        "outputId": "f8fd655c-e931-4982-de21-05ddf17c62d5"
      },
      "outputs": [
        {
          "output_type": "display_data",
          "data": {
            "image/png": "[encoded data removed]",
            "text/plain": [
              "<Figure size 432x288 with 4 Axes>"
            ]
          },
          "metadata": {
            "needs_background": "light"
          }
        }
      ],
      "source": [
        "images = range(0,4)\n",
        "for i in images:\n",
        "    plt.subplot(330 + 1 + i)\n",
        "    plt.imshow(train_images[i], cmap=plt.get_cmap('gray'))\n",
        "    \n",
        "#Show the plot\n",
        "plt.show()"
      ]
    },
    {
      "cell_type": "code",
      "source": [
        "train_baselines = np.zeros(shape=(2676, 150, 150), dtype=\"float32\")\n",
        "train_abnormalities = np.zeros(shape=(2676, 150, 150), dtype=\"float32\")\n",
        "#get even posititions\n",
        "train_baselines = train_images[::2]\n",
        "#get odd positions\n",
        "train_abnormalities = train_images[1::2]"
      ],
      "metadata": {
        "id": "d32KIH6I2z5z"
      },
      "execution_count": null,
      "outputs": []
    },
    {
      "cell_type": "code",
      "source": [
        "test_baselines = np.zeros(shape=(2676, 150, 150), dtype=\"float32\")\n",
        "test_abnormalities = np.zeros(shape=(2676, 150, 150), dtype=\"float32\")\n",
        "#get even posititions\n",
        "test_baselines = test_images[::2]\n",
        "#get odd positions\n",
        "test_abnormalities = test_images[1::2]"
      ],
      "metadata": {
        "id": "T11dqQjr3R-q"
      },
      "execution_count": null,
      "outputs": []
    },
    {
      "cell_type": "code",
      "source": [
        "print(\"Train shape: \", train_images.shape)\n",
        "print(\"Train labels shape: \", train_labels.shape)\n",
        "print()\n",
        "print(\"Test shape: \", test_images.shape)\n",
        "print(\"Test labels shape: \", test_labels.shape)"
      ],
      "metadata": {
        "colab": {
          "base_uri": "https://localhost:8080/"
        },
        "id": "QYrlqngX17mL",
        "outputId": "d93c8f7b-0a0e-470c-d0f7-b05c1d867413"
      },
      "execution_count": null,
      "outputs": [
        {
          "output_type": "stream",
          "name": "stdout",
          "text": [
            "Train shape:  (5352, 150, 150)\n",
            "Train labels shape:  (5352,)\n",
            "\n",
            "Test shape:  (672, 150, 150)\n",
            "Test labels shape:  (672,)\n"
          ]
        }
      ]
    },
    {
      "cell_type": "code",
      "source": [
        "print(\"Train baselines shape: \", train_baselines.shape)\n",
        "print(\"Train abnormalities shape: \", train_abnormalities.shape)\n",
        "print(\"Test baselines shape: \", test_baselines.shape)\n",
        "print(\"Test abnormalities shape: \", test_abnormalities.shape)"
      ],
      "metadata": {
        "colab": {
          "base_uri": "https://localhost:8080/"
        },
        "id": "iQYZ80k118n5",
        "outputId": "a420a06a-fbcc-4475-8922-bdbcc0470d84"
      },
      "execution_count": null,
      "outputs": [
        {
          "output_type": "stream",
          "name": "stdout",
          "text": [
            "Train baselines shape:  (2676, 150, 150)\n",
            "Train abnormalities shape:  (2676, 150, 150)\n",
            "Test baselines shape:  (336, 150, 150)\n",
            "Test abnormalities shape:  (336, 150, 150)\n"
          ]
        }
      ]
    },
    {
      "cell_type": "code",
      "source": [
        "# Mapping labels with standard index\n",
        "train_labels = labels_mapping_masscalc(train_labels)\n",
        "test_labels = labels_mapping_masscalc(test_labels)\n",
        "\n",
        "print(\"Train labels shape: \", train_labels.shape)\n",
        "print(\"Test labels shape: \", test_labels.shape)"
      ],
      "metadata": {
        "colab": {
          "base_uri": "https://localhost:8080/"
        },
        "id": "0QA_CwkWWKcO",
        "outputId": "2c916235-a229-45a2-b27b-84de7b17f5b8"
      },
      "execution_count": null,
      "outputs": [
        {
          "output_type": "stream",
          "name": "stdout",
          "text": [
            "Train labels shape:  (2676,)\n",
            "Test labels shape:  (336,)\n"
          ]
        }
      ]
    },
    {
      "cell_type": "code",
      "source": [
        "unique, counts = np.unique(train_labels, return_counts=True)\n",
        "print(unique, counts)\n",
        "unique, counts = np.unique(test_labels, return_counts=True)\n",
        "print(unique, counts)"
      ],
      "metadata": {
        "colab": {
          "base_uri": "https://localhost:8080/"
        },
        "id": "WD71UHhyWSkj",
        "outputId": "6f4e9055-bcfd-486d-8f21-ef8c92458f14"
      },
      "execution_count": null,
      "outputs": [
        {
          "output_type": "stream",
          "name": "stdout",
          "text": [
            "[0. 1.] [1218 1458]\n",
            "[0. 1.] [179 157]\n"
          ]
        }
      ]
    },
    {
      "cell_type": "code",
      "source": [
        "# Suffle index (Previous dataset is ordered by index)\n",
        "train_abnormalities, train_labels, train_baselines = shuffle_dataset(train_abnormalities, train_labels, train_baselines)\n",
        "test_abnormalities, test_labels, test_baselines = shuffle_dataset(test_abnormalities, test_labels, test_baselines)"
      ],
      "metadata": {
        "id": "frdJeNlnoWyR"
      },
      "execution_count": null,
      "outputs": []
    },
    {
      "cell_type": "code",
      "source": [
        "train_baselines = train_baselines.reshape(train_baselines.shape + (1,)) #(2676, 150, 150, 1)\n",
        "train_abnormalities = train_abnormalities.reshape(train_abnormalities.shape + (1,)) #(2676, 150, 150, 1)\n",
        "test_abnormalities = test_abnormalities.reshape(test_abnormalities.shape + (1,)) #(2676, 150, 150, 1)\n",
        "test_baselines = test_baselines.reshape(test_baselines.shape + (1,)) #(2676, 150, 150, 1)\n",
        "\n",
        "print(\"Train baselines shape: \", train_baselines.shape)\n",
        "print(\"Train abnormalities shape: \", train_abnormalities.shape)\n",
        "print(\"Train labels shape: \", train_labels.shape)\n",
        "print(\"Test labels shape: \", test_labels.shape)"
      ],
      "metadata": {
        "colab": {
          "base_uri": "https://localhost:8080/"
        },
        "id": "vZ5YTBq0WsfH",
        "outputId": "24cfe354-6bfa-4dce-cc92-f4fad88eba8d"
      },
      "execution_count": null,
      "outputs": [
        {
          "output_type": "stream",
          "name": "stdout",
          "text": [
            "Train baselines shape:  (2676, 150, 150, 1)\n",
            "Train abnormalities shape:  (2676, 150, 150, 1)\n",
            "Train labels shape:  (2676,)\n",
            "Test labels shape:  (336,)\n"
          ]
        }
      ]
    },
    {
      "cell_type": "code",
      "source": [
        "#reshape to expand grayscale to rgb\n",
        "train_baselines = np.repeat(train_baselines, 3, axis = 3)\n",
        "train_abnormalities = np.repeat(train_abnormalities, 3, axis = 3)\n",
        "test_abnormalities = np.repeat(test_abnormalities, 3, axis = 3)\n",
        "test_baselines = np.repeat(test_baselines, 3, axis = 3)\n",
        "\n",
        "print(\"Train baselines shape: \", train_baselines.shape)\n",
        "print(\"Train abnormalities shape: \", train_abnormalities.shape)\n",
        "print(\"Train labels shape: \", train_labels.shape)\n",
        "print(\"Test labels shape: \", test_labels.shape)"
      ],
      "metadata": {
        "colab": {
          "base_uri": "https://localhost:8080/"
        },
        "id": "3vpjLEyqW3uS",
        "outputId": "59eee0c0-776c-4157-d9e5-6d69a7f2f215"
      },
      "execution_count": null,
      "outputs": [
        {
          "output_type": "stream",
          "name": "stdout",
          "text": [
            "Train baselines shape:  (2676, 150, 150, 3)\n",
            "Train abnormalities shape:  (2676, 150, 150, 3)\n",
            "Train labels shape:  (2676,)\n",
            "Test labels shape:  (336,)\n"
          ]
        }
      ]
    },
    {
      "cell_type": "code",
      "execution_count": null,
      "metadata": {
        "colab": {
          "base_uri": "https://localhost:8080/"
        },
        "id": "2gW9GoisspDI",
        "outputId": "33db411e-4348-467d-a74c-345c1e0cdf04"
      },
      "outputs": [
        {
          "output_type": "stream",
          "name": "stdout",
          "text": [
            "(2140, 150, 150, 3)\n",
            "(536, 150, 150, 3)\n",
            "(2140, 150, 150, 3)\n",
            "(536, 150, 150, 3)\n"
          ]
        }
      ],
      "source": [
        "#Splitting training-validation with 80-20 %\n",
        "split_index = int(0.8*len(train_abnormalities))\n",
        "train_datasetabn_split = train_abnormalities[:split_index]\n",
        "valid_datasetabn_split = train_abnormalities[split_index:]\n",
        "train_labels_split = train_labels[:split_index]\n",
        "valid_labels_split = train_labels[split_index:]\n",
        "train_datasetbase_split = train_baselines[:split_index]\n",
        "valid_datasetbase_split = train_baselines[split_index:]\n",
        "\n",
        "print(train_datasetabn_split.shape)\n",
        "print(valid_datasetabn_split.shape)\n",
        "print(train_datasetbase_split.shape)\n",
        "print(valid_datasetbase_split.shape)"
      ]
    },
    {
      "cell_type": "code",
      "source": [
        "def generator(train_abnorm_images, train_base_images, train_labels, batch_size=128):\n",
        "\n",
        "  image_gen = ImageDataGenerator(\n",
        "    rescale=1./65535,\n",
        "    rotation_range=40,\n",
        "    width_shift_range=0.25,\n",
        "    height_shift_range=0.25,\n",
        "    shear_range=0.5,\n",
        "    zoom_range=0.5, #0.5 - 1.5\n",
        "    horizontal_flip=True,\n",
        "    fill_mode='nearest')\n",
        "\n",
        "  image_gen.fit(train_abnorm_images)\n",
        "\n",
        "  gen_abnorm = image_gen.flow(train_abnorm_images, train_labels,  batch_size=batch_size, shuffle=True)\n",
        "  gen_base = image_gen.flow(train_base_images, train_labels, batch_size=batch_size, shuffle=True)\n",
        "\n",
        "  while True:\n",
        "    abn_img, abn_label = gen_abnorm.next()\n",
        "    base_img, _ = gen_base.next()\n",
        "    yield [abn_img, base_img], abn_label\n",
        "\n",
        "train_generator = generator(train_datasetabn_split, train_datasetbase_split, train_labels_split, batch_size=128)\n",
        "validation_generator = generator(valid_datasetabn_split, valid_datasetbase_split, valid_labels_split, batch_size=128)\n",
        "test_generator = generator(test_abnormalities, test_baselines, test_labels, batch_size=128)"
      ],
      "metadata": {
        "id": "ZM3iqJ6I2K_b"
      },
      "execution_count": null,
      "outputs": []
    },
    {
      "cell_type": "code",
      "execution_count": null,
      "metadata": {
        "id": "slqGisihspDH"
      },
      "outputs": [],
      "source": [
        "# All images will be rescaled by 1./65535 (max value range)\n",
        "#train_datagen = ImageDataGenerator(rescale=1./65535)\n",
        "#valid_datagen = ImageDataGenerator(rescale=1./65535)\n",
        "#test_datagen = ImageDataGenerator(rescale=1./65535)"
      ]
    },
    {
      "cell_type": "code",
      "execution_count": null,
      "metadata": {
        "id": "o76nuiS8_9AN"
      },
      "outputs": [],
      "source": [
        "# Train data augmentation. Deep Convolutional Neural Networks for breast cancer screening. Hiba Chougrada, Hamid Zouaki, Omar Alheyane b\n",
        "#train_datagen = ImageDataGenerator(\n",
        "#    rescale=1./65535,\n",
        "#    rotation_range=40,\n",
        "#    width_shift_range=0.25,\n",
        "#    height_shift_range=0.25,\n",
        "#    shear_range=0.5,\n",
        "#    zoom_range=0.5, #0.5 - 1.5\n",
        "#    horizontal_flip=True,\n",
        "#    fill_mode='nearest')"
      ]
    },
    {
      "cell_type": "markdown",
      "source": [
        "##Model 6.3 Pretrained"
      ],
      "metadata": {
        "id": "9KDmZmOOinui"
      }
    },
    {
      "cell_type": "code",
      "source": [
        "from keras.models import Model\n",
        "from tensorflow.keras.utils import plot_model\n",
        "\n",
        "INPUT_SHAPE = (150, 150, 3)\n",
        "MODEL_PATH = os.path.join(base_path, \"models/Pretrained/\")\n",
        "\n",
        "def create_siamese(CNN_core):\n",
        "\n",
        "  pretrained = models.load_model(os.path.join(MODEL_PATH, CNN_core))\n",
        "  \n",
        "  pretrained.trainable = False\n",
        "\n",
        "  x = pretrained.layers[-2].output\n",
        "  output = layers.Dense(512, activation='relu', name='extractor')(x)\n",
        "  cnn = Model(pretrained.input, output)\n",
        "\n",
        "  # Feed both input into the same convolutional base\n",
        "  left_input = layers.Input(shape=INPUT_SHAPE)\n",
        "  right_input = layers.Input(shape=INPUT_SHAPE)\n",
        "\n",
        "  left_model = cnn(left_input)\n",
        "  right_model = cnn(right_input)\n",
        "\n",
        "  # Compute the difference between the two\n",
        "  L1_layer = layers.Lambda(lambda tensors:K.abs(tensors[0] - tensors[1]))\n",
        "  L1_distance = L1_layer([left_model, right_model])\n",
        "\n",
        "  # FC layer\n",
        "  # Add a dense layer with a sigmoid unit to generate the prediction\n",
        "  prediction = layers.Dense(1, activation='sigmoid')(L1_distance)\n",
        "\n",
        "  # Instantiate the model\n",
        "  siamese = models.Model(inputs=[left_input, right_input], outputs=prediction)\n",
        "\n",
        "  return siamese"
      ],
      "metadata": {
        "id": "0pHw140D2QUv"
      },
      "execution_count": null,
      "outputs": []
    },
    {
      "cell_type": "code",
      "source": [
        "callback=earlyStop(25)"
      ],
      "metadata": {
        "id": "afyk9Jncv5ay"
      },
      "execution_count": null,
      "outputs": []
    },
    {
      "cell_type": "code",
      "source": [
        "BATCH_SIZE=128"
      ],
      "metadata": {
        "id": "HaNTqfzVmeVI"
      },
      "execution_count": null,
      "outputs": []
    },
    {
      "cell_type": "code",
      "source": [
        "# Instantiate model\n",
        "siamese = create_siamese('calcmasses_inceptionv3_model63.h5')\n",
        "siamese.summary()"
      ],
      "metadata": {
        "colab": {
          "base_uri": "https://localhost:8080/"
        },
        "id": "EmrtdYkT2Q7f",
        "outputId": "55d643b3-ebab-4fad-fc90-d3a9c9bd418b"
      },
      "execution_count": null,
      "outputs": [
        {
          "output_type": "stream",
          "name": "stdout",
          "text": [
            "Model: \"model_1\"\n",
            "__________________________________________________________________________________________________\n",
            " Layer (type)                   Output Shape         Param #     Connected to                     \n",
            "==================================================================================================\n",
            " input_1 (InputLayer)           [(None, 150, 150, 3  0           []                               \n",
            "                                )]                                                                \n",
            "                                                                                                  \n",
            " input_2 (InputLayer)           [(None, 150, 150, 3  0           []                               \n",
            "                                )]                                                                \n",
            "                                                                                                  \n",
            " model (Functional)             (None, 512)          31503136    ['input_1[0][0]',                \n",
            "                                                                  'input_2[0][0]']                \n",
            "                                                                                                  \n",
            " lambda (Lambda)                (None, 512)          0           ['model[0][0]',                  \n",
            "                                                                  'model[1][0]']                  \n",
            "                                                                                                  \n",
            " dense (Dense)                  (None, 1)            513         ['lambda[0][0]']                 \n",
            "                                                                                                  \n",
            "==================================================================================================\n",
            "Total params: 31,503,649\n",
            "Trainable params: 263,169\n",
            "Non-trainable params: 31,240,480\n",
            "__________________________________________________________________________________________________\n"
          ]
        }
      ]
    },
    {
      "cell_type": "code",
      "source": [
        "siamese.compile(loss=\"binary_crossentropy\",\n",
        "            optimizer=optimizers.Adam(learning_rate=1e-4),\n",
        "            metrics=['acc']) "
      ],
      "metadata": {
        "id": "j0A-rUq9v8jU"
      },
      "execution_count": null,
      "outputs": []
    },
    {
      "cell_type": "code",
      "source": [
        "history = siamese.fit(\n",
        "        train_generator,\n",
        "        steps_per_epoch=len(train_datasetabn_split) // BATCH_SIZE,\n",
        "        epochs=100,\n",
        "        validation_data=validation_generator,\n",
        "        validation_steps = len(valid_datasetabn_split) // BATCH_SIZE,\n",
        "        callbacks=[callback],\n",
        "        shuffle=True,\n",
        "        verbose=1)"
      ],
      "metadata": {
        "colab": {
          "base_uri": "https://localhost:8080/"
        },
        "id": "9gHe0tD6v91v",
        "outputId": "01220cc7-4cb0-458b-c11f-cd06c58127dd"
      },
      "execution_count": null,
      "outputs": [
        {
          "output_type": "stream",
          "name": "stdout",
          "text": [
            "Epoch 1/100\n",
            "16/16 [==============================] - 70s 3s/step - loss: 0.6373 - acc: 0.6353 - val_loss: 0.5542 - val_acc: 0.7773\n",
            "Epoch 2/100\n",
            "16/16 [==============================] - 50s 3s/step - loss: 0.5406 - acc: 0.7580 - val_loss: 0.5121 - val_acc: 0.7793\n",
            "Epoch 3/100\n",
            "16/16 [==============================] - 35s 2s/step - loss: 0.5147 - acc: 0.7644 - val_loss: 0.4848 - val_acc: 0.7910\n",
            "Epoch 4/100\n",
            "16/16 [==============================] - 32s 2s/step - loss: 0.4785 - acc: 0.7808 - val_loss: 0.4497 - val_acc: 0.7852\n",
            "Epoch 5/100\n",
            "16/16 [==============================] - 30s 2s/step - loss: 0.4758 - acc: 0.7922 - val_loss: 0.4159 - val_acc: 0.8262\n",
            "Epoch 6/100\n",
            "16/16 [==============================] - 30s 2s/step - loss: 0.4484 - acc: 0.7987 - val_loss: 0.4341 - val_acc: 0.8066\n",
            "Epoch 7/100\n",
            "16/16 [==============================] - 30s 2s/step - loss: 0.4623 - acc: 0.7883 - val_loss: 0.4261 - val_acc: 0.8086\n",
            "Epoch 8/100\n",
            "16/16 [==============================] - 31s 2s/step - loss: 0.4489 - acc: 0.7893 - val_loss: 0.4393 - val_acc: 0.8125\n",
            "Epoch 9/100\n",
            "16/16 [==============================] - 30s 2s/step - loss: 0.4341 - acc: 0.8012 - val_loss: 0.4327 - val_acc: 0.8105\n",
            "Epoch 10/100\n",
            "16/16 [==============================] - 30s 2s/step - loss: 0.4304 - acc: 0.8047 - val_loss: 0.4157 - val_acc: 0.8066\n",
            "Epoch 11/100\n",
            "16/16 [==============================] - 30s 2s/step - loss: 0.4227 - acc: 0.8002 - val_loss: 0.3994 - val_acc: 0.8262\n",
            "Epoch 12/100\n",
            "16/16 [==============================] - 30s 2s/step - loss: 0.4405 - acc: 0.7922 - val_loss: 0.4260 - val_acc: 0.8125\n",
            "Epoch 13/100\n",
            "16/16 [==============================] - 29s 2s/step - loss: 0.4255 - acc: 0.8047 - val_loss: 0.4122 - val_acc: 0.8066\n",
            "Epoch 14/100\n",
            "16/16 [==============================] - 30s 2s/step - loss: 0.4129 - acc: 0.8111 - val_loss: 0.3780 - val_acc: 0.8320\n",
            "Epoch 15/100\n",
            "16/16 [==============================] - 29s 2s/step - loss: 0.4126 - acc: 0.8057 - val_loss: 0.3695 - val_acc: 0.8184\n",
            "Epoch 16/100\n",
            "16/16 [==============================] - 30s 2s/step - loss: 0.4164 - acc: 0.8052 - val_loss: 0.4288 - val_acc: 0.8066\n",
            "Epoch 17/100\n",
            "16/16 [==============================] - 30s 2s/step - loss: 0.4103 - acc: 0.8052 - val_loss: 0.4096 - val_acc: 0.8066\n",
            "Epoch 18/100\n",
            "16/16 [==============================] - 30s 2s/step - loss: 0.4122 - acc: 0.8179 - val_loss: 0.3903 - val_acc: 0.8242\n",
            "Epoch 19/100\n",
            "16/16 [==============================] - 30s 2s/step - loss: 0.4027 - acc: 0.8176 - val_loss: 0.4065 - val_acc: 0.8047\n",
            "Epoch 20/100\n",
            "16/16 [==============================] - 29s 2s/step - loss: 0.4192 - acc: 0.8072 - val_loss: 0.3951 - val_acc: 0.8223\n",
            "Epoch 21/100\n",
            "16/16 [==============================] - 30s 2s/step - loss: 0.4325 - acc: 0.7873 - val_loss: 0.3928 - val_acc: 0.8086\n",
            "Epoch 22/100\n",
            "16/16 [==============================] - 30s 2s/step - loss: 0.4016 - acc: 0.8226 - val_loss: 0.4453 - val_acc: 0.7871\n",
            "Epoch 23/100\n",
            "16/16 [==============================] - 30s 2s/step - loss: 0.3972 - acc: 0.8201 - val_loss: 0.3812 - val_acc: 0.8223\n",
            "Epoch 24/100\n",
            "16/16 [==============================] - 30s 2s/step - loss: 0.4002 - acc: 0.8151 - val_loss: 0.4471 - val_acc: 0.7832\n",
            "Epoch 25/100\n",
            "16/16 [==============================] - 30s 2s/step - loss: 0.4045 - acc: 0.8231 - val_loss: 0.4203 - val_acc: 0.7969\n",
            "Epoch 26/100\n",
            "16/16 [==============================] - 30s 2s/step - loss: 0.4138 - acc: 0.8086 - val_loss: 0.4036 - val_acc: 0.8125\n",
            "Epoch 27/100\n",
            "16/16 [==============================] - 30s 2s/step - loss: 0.4080 - acc: 0.8186 - val_loss: 0.3906 - val_acc: 0.8262\n",
            "Epoch 28/100\n",
            "16/16 [==============================] - 30s 2s/step - loss: 0.4155 - acc: 0.8082 - val_loss: 0.4005 - val_acc: 0.8105\n",
            "Epoch 29/100\n",
            "16/16 [==============================] - 30s 2s/step - loss: 0.3888 - acc: 0.8315 - val_loss: 0.4217 - val_acc: 0.8145\n",
            "Epoch 30/100\n",
            "16/16 [==============================] - 29s 2s/step - loss: 0.4135 - acc: 0.8027 - val_loss: 0.4108 - val_acc: 0.8086\n",
            "Epoch 31/100\n",
            "16/16 [==============================] - 29s 2s/step - loss: 0.4162 - acc: 0.8082 - val_loss: 0.3904 - val_acc: 0.8242\n",
            "Epoch 32/100\n",
            "16/16 [==============================] - 30s 2s/step - loss: 0.3956 - acc: 0.8126 - val_loss: 0.4280 - val_acc: 0.8047\n",
            "Epoch 33/100\n",
            "16/16 [==============================] - 30s 2s/step - loss: 0.3983 - acc: 0.8111 - val_loss: 0.3684 - val_acc: 0.8379\n",
            "Epoch 34/100\n",
            "16/16 [==============================] - 30s 2s/step - loss: 0.4213 - acc: 0.8042 - val_loss: 0.4052 - val_acc: 0.8125\n",
            "Epoch 35/100\n",
            "16/16 [==============================] - 30s 2s/step - loss: 0.4005 - acc: 0.8145 - val_loss: 0.4133 - val_acc: 0.8027\n",
            "Epoch 36/100\n",
            "16/16 [==============================] - 30s 2s/step - loss: 0.4146 - acc: 0.8096 - val_loss: 0.3885 - val_acc: 0.8223\n",
            "Epoch 37/100\n",
            "16/16 [==============================] - 29s 2s/step - loss: 0.3940 - acc: 0.8166 - val_loss: 0.3819 - val_acc: 0.8320\n",
            "Epoch 38/100\n",
            "16/16 [==============================] - 29s 2s/step - loss: 0.4112 - acc: 0.8052 - val_loss: 0.4062 - val_acc: 0.8047\n",
            "Epoch 39/100\n",
            "16/16 [==============================] - 29s 2s/step - loss: 0.4069 - acc: 0.8111 - val_loss: 0.3603 - val_acc: 0.8418\n",
            "Epoch 40/100\n",
            "16/16 [==============================] - 29s 2s/step - loss: 0.3812 - acc: 0.8246 - val_loss: 0.3866 - val_acc: 0.8379\n",
            "Epoch 41/100\n",
            "16/16 [==============================] - 29s 2s/step - loss: 0.4042 - acc: 0.8146 - val_loss: 0.3774 - val_acc: 0.8223\n",
            "Epoch 42/100\n",
            "16/16 [==============================] - 29s 2s/step - loss: 0.3943 - acc: 0.8196 - val_loss: 0.4075 - val_acc: 0.8164\n",
            "Epoch 43/100\n",
            "16/16 [==============================] - 30s 2s/step - loss: 0.3721 - acc: 0.8300 - val_loss: 0.3903 - val_acc: 0.8203\n",
            "Epoch 44/100\n",
            "16/16 [==============================] - 30s 2s/step - loss: 0.3985 - acc: 0.8201 - val_loss: 0.4124 - val_acc: 0.8086\n",
            "Epoch 45/100\n",
            "16/16 [==============================] - 30s 2s/step - loss: 0.3916 - acc: 0.8241 - val_loss: 0.3868 - val_acc: 0.8164\n",
            "Epoch 46/100\n",
            "16/16 [==============================] - 29s 2s/step - loss: 0.3806 - acc: 0.8405 - val_loss: 0.3648 - val_acc: 0.8496\n",
            "Epoch 47/100\n",
            "16/16 [==============================] - 29s 2s/step - loss: 0.3995 - acc: 0.8161 - val_loss: 0.3815 - val_acc: 0.8262\n",
            "Epoch 48/100\n",
            "16/16 [==============================] - 29s 2s/step - loss: 0.3746 - acc: 0.8360 - val_loss: 0.4010 - val_acc: 0.8164\n",
            "Epoch 49/100\n",
            "16/16 [==============================] - 29s 2s/step - loss: 0.4015 - acc: 0.8171 - val_loss: 0.3656 - val_acc: 0.8477\n",
            "Epoch 50/100\n",
            "16/16 [==============================] - 29s 2s/step - loss: 0.3976 - acc: 0.8216 - val_loss: 0.4080 - val_acc: 0.8125\n",
            "Epoch 51/100\n",
            "16/16 [==============================] - 29s 2s/step - loss: 0.4045 - acc: 0.8151 - val_loss: 0.3692 - val_acc: 0.8398\n",
            "Epoch 52/100\n",
            "16/16 [==============================] - 29s 2s/step - loss: 0.4089 - acc: 0.8232 - val_loss: 0.3810 - val_acc: 0.8301\n",
            "Epoch 53/100\n",
            "16/16 [==============================] - 29s 2s/step - loss: 0.3767 - acc: 0.8310 - val_loss: 0.3845 - val_acc: 0.8105\n",
            "Epoch 54/100\n",
            "16/16 [==============================] - 29s 2s/step - loss: 0.3985 - acc: 0.8126 - val_loss: 0.3600 - val_acc: 0.8281\n",
            "Epoch 55/100\n",
            "16/16 [==============================] - 29s 2s/step - loss: 0.4051 - acc: 0.8196 - val_loss: 0.4036 - val_acc: 0.8223\n",
            "Epoch 56/100\n",
            "16/16 [==============================] - 29s 2s/step - loss: 0.3880 - acc: 0.8260 - val_loss: 0.3521 - val_acc: 0.8398\n",
            "Epoch 57/100\n",
            "16/16 [==============================] - 29s 2s/step - loss: 0.4115 - acc: 0.8146 - val_loss: 0.3950 - val_acc: 0.8398\n",
            "Epoch 58/100\n",
            "16/16 [==============================] - 29s 2s/step - loss: 0.3878 - acc: 0.8241 - val_loss: 0.3806 - val_acc: 0.8320\n",
            "Epoch 59/100\n",
            "16/16 [==============================] - 29s 2s/step - loss: 0.3989 - acc: 0.8226 - val_loss: 0.4420 - val_acc: 0.8008\n",
            "Epoch 60/100\n",
            "16/16 [==============================] - 29s 2s/step - loss: 0.4046 - acc: 0.8091 - val_loss: 0.3763 - val_acc: 0.8320\n",
            "Epoch 61/100\n",
            "16/16 [==============================] - 29s 2s/step - loss: 0.4069 - acc: 0.8191 - val_loss: 0.4285 - val_acc: 0.8184\n",
            "Epoch 62/100\n",
            "16/16 [==============================] - 29s 2s/step - loss: 0.3920 - acc: 0.8260 - val_loss: 0.3960 - val_acc: 0.8262\n",
            "Epoch 63/100\n",
            "16/16 [==============================] - 29s 2s/step - loss: 0.4023 - acc: 0.8106 - val_loss: 0.3607 - val_acc: 0.8418\n",
            "Epoch 64/100\n",
            "16/16 [==============================] - 29s 2s/step - loss: 0.4062 - acc: 0.8101 - val_loss: 0.3856 - val_acc: 0.8223\n",
            "Epoch 65/100\n",
            "16/16 [==============================] - 29s 2s/step - loss: 0.3970 - acc: 0.8196 - val_loss: 0.4011 - val_acc: 0.8008\n",
            "Epoch 66/100\n",
            "16/16 [==============================] - 29s 2s/step - loss: 0.3823 - acc: 0.8370 - val_loss: 0.3874 - val_acc: 0.8281\n",
            "Epoch 67/100\n",
            "16/16 [==============================] - 29s 2s/step - loss: 0.4054 - acc: 0.8116 - val_loss: 0.3803 - val_acc: 0.8242\n",
            "Epoch 68/100\n",
            "16/16 [==============================] - 29s 2s/step - loss: 0.3983 - acc: 0.8255 - val_loss: 0.3903 - val_acc: 0.8184\n",
            "Epoch 69/100\n",
            "16/16 [==============================] - 29s 2s/step - loss: 0.4007 - acc: 0.8169 - val_loss: 0.4139 - val_acc: 0.7910\n",
            "Epoch 70/100\n",
            "16/16 [==============================] - 29s 2s/step - loss: 0.3944 - acc: 0.8151 - val_loss: 0.3633 - val_acc: 0.8477\n",
            "Epoch 71/100\n",
            "16/16 [==============================] - 29s 2s/step - loss: 0.3976 - acc: 0.8116 - val_loss: 0.3602 - val_acc: 0.8477\n",
            "Epoch 72/100\n",
            "16/16 [==============================] - 29s 2s/step - loss: 0.4125 - acc: 0.8047 - val_loss: 0.3572 - val_acc: 0.8379\n",
            "Epoch 73/100\n",
            "16/16 [==============================] - 29s 2s/step - loss: 0.3899 - acc: 0.8201 - val_loss: 0.3710 - val_acc: 0.8184\n",
            "Epoch 74/100\n",
            "16/16 [==============================] - 29s 2s/step - loss: 0.3788 - acc: 0.8211 - val_loss: 0.4097 - val_acc: 0.8203\n",
            "Epoch 75/100\n",
            "16/16 [==============================] - 29s 2s/step - loss: 0.4060 - acc: 0.8176 - val_loss: 0.4066 - val_acc: 0.8105\n",
            "Epoch 76/100\n",
            "16/16 [==============================] - 29s 2s/step - loss: 0.3896 - acc: 0.8211 - val_loss: 0.3981 - val_acc: 0.8145\n",
            "Epoch 77/100\n",
            "16/16 [==============================] - 29s 2s/step - loss: 0.3847 - acc: 0.8295 - val_loss: 0.3756 - val_acc: 0.8301\n",
            "Epoch 78/100\n",
            "16/16 [==============================] - 28s 2s/step - loss: 0.3703 - acc: 0.8260 - val_loss: 0.3678 - val_acc: 0.8359\n",
            "Epoch 79/100\n",
            "16/16 [==============================] - 29s 2s/step - loss: 0.4012 - acc: 0.8096 - val_loss: 0.4192 - val_acc: 0.7910\n",
            "Epoch 80/100\n",
            "16/16 [==============================] - 29s 2s/step - loss: 0.3945 - acc: 0.8141 - val_loss: 0.3838 - val_acc: 0.8418\n",
            "Epoch 81/100\n",
            "16/16 [==============================] - 29s 2s/step - loss: 0.3986 - acc: 0.8181 - val_loss: 0.3971 - val_acc: 0.8125\n"
          ]
        }
      ]
    },
    {
      "cell_type": "code",
      "execution_count": null,
      "metadata": {
        "id": "PZcfYm6Mygs2"
      },
      "outputs": [],
      "source": [
        "siamese.save(os.path.join(base_path,'models/Baseline/calcmasses_model1.h5'))"
      ]
    },
    {
      "cell_type": "code",
      "source": [
        "plt_a = plot_acc(history)\n",
        "plt_a.savefig(os.path.join(PLOTS_PATH, 'Baselines/model1_acc.png'))\n",
        "plt_a.show()"
      ],
      "metadata": {
        "colab": {
          "base_uri": "https://localhost:8080/",
          "height": 281
        },
        "id": "kQOFW3o8yCpW",
        "outputId": "2e0652de-eaf7-48b6-d1be-88d3774162ef"
      },
      "execution_count": null,
      "outputs": [
        {
          "output_type": "display_data",
          "data": {
            "image/png": "[encoded data removed]",
            "text/plain": [
              "<Figure size 432x288 with 1 Axes>"
            ]
          },
          "metadata": {
            "needs_background": "light"
          }
        }
      ]
    },
    {
      "cell_type": "code",
      "source": [
        "plt_a = plot_loss(history)\n",
        "#save & show plot\n",
        "plt_a.savefig(os.path.join(PLOTS_PATH, 'Baselines/model1_loss.png'))\n",
        "plt_a.show()"
      ],
      "metadata": {
        "colab": {
          "base_uri": "https://localhost:8080/",
          "height": 281
        },
        "id": "hhgyn-ULyDDq",
        "outputId": "c379996b-ce36-47d4-c500-b7542c91b8e3"
      },
      "execution_count": null,
      "outputs": [
        {
          "output_type": "display_data",
          "data": {
            "image/png": "[encoded data removed]",
            "text/plain": [
              "<Figure size 432x288 with 1 Axes>"
            ]
          },
          "metadata": {
            "needs_background": "light"
          }
        }
      ]
    },
    {
      "cell_type": "code",
      "execution_count": null,
      "metadata": {
        "colab": {
          "base_uri": "https://localhost:8080/"
        },
        "outputId": "ac75ba7f-29b1-4c2a-d4f0-9e55e239de5b",
        "id": "13E7npsgyWD8"
      },
      "outputs": [
        {
          "output_type": "stream",
          "name": "stdout",
          "text": [
            "Epoch [end]: 81\n",
            "Epoch [opt]: 46\n",
            "Valid accuracy [end]: 0.8125\n",
            "Valid accuracy [opt]: 0.8496\n",
            "Valid loss [end]: 0.3971\n",
            "Valid loss [opt]: 0.3648\n"
          ]
        }
      ],
      "source": [
        "print_opt_results(history)"
      ]
    },
    {
      "cell_type": "code",
      "source": [
        "test_loss, test_accuracy = siamese.evaluate(test_generator, steps=int(0.8*2676) // 128)\n",
        "\n",
        "print(\"\\n---------------------------------\")\n",
        "print(\"Accuracy:\", \"%0.2f\" % (test_accuracy*100), \"%\")\n",
        "print(\"Loss:\", \"%0.2f\" % (test_loss))\n",
        "print(\"---------------------------------\\n\")"
      ],
      "metadata": {
        "colab": {
          "base_uri": "https://localhost:8080/"
        },
        "id": "AlutCOdI3i5J",
        "outputId": "987794b9-9b0b-42c3-b25f-1c66819a2386"
      },
      "execution_count": null,
      "outputs": [
        {
          "output_type": "stream",
          "name": "stdout",
          "text": [
            "16/16 [==============================] - 22s 1s/step - loss: 0.4188 - acc: 0.7992\n",
            "\n",
            "---------------------------------\n",
            "Accuracy: 79.92 %\n",
            "Loss: 0.42\n",
            "---------------------------------\n",
            "\n"
          ]
        }
      ]
    },
    {
      "cell_type": "code",
      "execution_count": null,
      "metadata": {
        "id": "SIwpwofsyWD9"
      },
      "outputs": [],
      "source": [
        "#test_model(siamese)"
      ]
    },
    {
      "cell_type": "code",
      "source": [
        "model_best=siamese"
      ],
      "metadata": {
        "id": "bfR1exik1eAU"
      },
      "execution_count": null,
      "outputs": []
    },
    {
      "cell_type": "code",
      "source": [
        "model_best=load_model(os.path.join(base_path, \"models/Baseline/calcmasses_model1.h5\"))"
      ],
      "metadata": {
        "id": "O34HuLG_XWx1"
      },
      "execution_count": null,
      "outputs": []
    },
    {
      "cell_type": "code",
      "source": [
        "print(test_images.shape)"
      ],
      "metadata": {
        "colab": {
          "base_uri": "https://localhost:8080/"
        },
        "id": "BP8Vc67CYPVG",
        "outputId": "983743a5-e007-43cc-ed54-e6ca308c28eb"
      },
      "execution_count": null,
      "outputs": [
        {
          "output_type": "stream",
          "name": "stdout",
          "text": [
            "(672, 150, 150)\n"
          ]
        }
      ]
    },
    {
      "cell_type": "code",
      "execution_count": null,
      "metadata": {
        "colab": {
          "base_uri": "https://localhost:8080/",
          "height": 571
        },
        "outputId": "bba2c033-99cd-4e80-f23b-f3e48f57ef50",
        "id": "1VEoz2dG1bCz"
      },
      "outputs": [
        {
          "output_type": "stream",
          "name": "stdout",
          "text": [
            "(336,)\n",
            "(672, 150, 150)\n",
            "(336, 1)\n",
            "(336, 1)\n",
            "Confusion Matrix\n",
            "              precision    recall  f1-score   support\n",
            "\n",
            "         0.0       0.54      0.51      0.52       179\n",
            "         1.0       0.48      0.51      0.49       157\n",
            "\n",
            "    accuracy                           0.51       336\n",
            "   macro avg       0.51      0.51      0.51       336\n",
            "weighted avg       0.51      0.51      0.51       336\n",
            "\n"
          ]
        },
        {
          "output_type": "execute_result",
          "data": {
            "text/plain": [
              "Text(0.5, -6.819805153394636, 'Predicted label')"
            ]
          },
          "metadata": {},
          "execution_count": 38
        },
        {
          "output_type": "display_data",
          "data": {
            "image/png": "[encoded data removed]",
            "text/plain": [
              "<Figure size 432x288 with 2 Axes>"
            ]
          },
          "metadata": {
            "needs_background": "light"
          }
        }
      ],
      "source": [
        "classes = [\"Benign\", \"Malign\"]\n",
        "#Y_pred = model_best.predict(test_images,\n",
        "#                            test_labels,\n",
        "#                            batch_size=BATCH_SIZE+2,\n",
        "#                            shuffle=False),\n",
        "#                            steps=int(336//128+1))\n",
        "Y_pred = model_best.predict(test_generator,steps=int(336//128+1))#steps=int(336//128+1))\n",
        "\n",
        "y_pred = np.where(Y_pred < 0.5, 0, 1)\n",
        "\n",
        "print(test_labels.shape)\n",
        "print(test_images.shape)\n",
        "print(Y_pred.shape)\n",
        "print(y_pred.shape)\n",
        "\n",
        "print('Confusion Matrix')\n",
        "cm = confusion_matrix(test_labels, y_pred)\n",
        "\n",
        "#print(cm)\n",
        "#print('Classification Report')\n",
        "print(classification_report(test_labels, y_pred))\n",
        "\n",
        "plt.imshow(cm, interpolation='nearest', cmap=plt.cm.Blues)\n",
        "plt.title(\"Confusione Matrix\")\n",
        "plt.colorbar()\n",
        "tick_marks = np.arange(len(classes))\n",
        "plt.xticks(tick_marks, classes, rotation=45)\n",
        "plt.yticks(tick_marks, classes)\n",
        "\n",
        "#print(cm)\n",
        "\n",
        "thresh = cm.max() / 2.\n",
        "for i, j in itertools.product(range(cm.shape[0]), range(cm.shape[1])):\n",
        "    plt.text(j, i, cm[i, j],\n",
        "        horizontalalignment=\"center\",\n",
        "        color=\"black\" if cm[i, j] > thresh else \"black\")\n",
        "        #color=\"black\")\n",
        "\n",
        "plt.tight_layout()\n",
        "plt.ylabel('True label')\n",
        "plt.xlabel('Predicted label')\n"
      ]
    },
    {
      "cell_type": "code",
      "execution_count": null,
      "metadata": {
        "id": "ue2g54jV1bC0"
      },
      "outputs": [],
      "source": [
        "fpr,tpr,th = roc_curve(test_labels, Y_pred)\n",
        "\n",
        "roc_auc = roc_auc_score(test_labels, Y_pred)"
      ]
    },
    {
      "cell_type": "code",
      "execution_count": null,
      "metadata": {
        "colab": {
          "base_uri": "https://localhost:8080/",
          "height": 295
        },
        "outputId": "7ec6dad2-8c64-408c-ebfa-a7231c6ab233",
        "id": "cMco8Kik1bC0"
      },
      "outputs": [
        {
          "output_type": "display_data",
          "data": {
            "image/png": "[encoded data removed]",
            "text/plain": [
              "<Figure size 432x288 with 1 Axes>"
            ]
          },
          "metadata": {
            "needs_background": "light"
          }
        }
      ],
      "source": [
        "plt.title('Receiver Operating Characteristic')\n",
        "plt.plot(fpr, tpr, 'b', label = 'AUC = %0.2f' % roc_auc)\n",
        "plt.legend(loc = 'lower right')\n",
        "plt.plot([0, 1], [0, 1],'r--')\n",
        "plt.xlim([0, 1])\n",
        "plt.ylim([0, 1])\n",
        "plt.ylabel('True Positive Rate')\n",
        "plt.xlabel('False Positive Rate')\n",
        "plt.show()"
      ]
    },
    {
      "cell_type": "markdown",
      "source": [
        "## Model 2 Scratch"
      ],
      "metadata": {
        "id": "g9hGFK4F4NNu"
      }
    },
    {
      "cell_type": "code",
      "source": [
        "from keras.models import Model\n",
        "from tensorflow.keras.utils import plot_model\n",
        "\n",
        "INPUT_SHAPE = (150, 150, 1)\n",
        "MODEL_PATH = os.path.join(base_path, \"models/Scratch/\")\n",
        "\n",
        "def create_siamese(CNN_core):\n",
        "\n",
        "  pretrained = models.load_model(os.path.join(MODEL_PATH, CNN_core))\n",
        "  \n",
        "  pretrained.trainable = False\n",
        "\n",
        "  x = pretrained.layers[-2].output\n",
        "  output = layers.Dense(128, activation='relu', name='extractor')(x)\n",
        "  cnn = Model(pretrained.input, output)\n",
        "\n",
        "  # Feed both input into the same convolutional base\n",
        "  left_input = layers.Input(shape=INPUT_SHAPE)\n",
        "  right_input = layers.Input(shape=INPUT_SHAPE)\n",
        "\n",
        "  left_model = cnn(left_input)\n",
        "  right_model = cnn(right_input)\n",
        "\n",
        "  # Compute the difference between the two\n",
        "  L1_layer = layers.Lambda(lambda tensors:K.abs(tensors[0] - tensors[1]))\n",
        "  L1_distance = L1_layer([left_model, right_model])\n",
        "\n",
        "  # FC layer\n",
        "  # Add a dense layer with a sigmoid unit to generate the prediction\n",
        "  prediction = layers.Dense(1, activation='sigmoid')(L1_distance)\n",
        "\n",
        "  # Instantiate the model\n",
        "  siamese = models.Model(inputs=[left_input, right_input], outputs=prediction)\n",
        "\n",
        "  return siamese"
      ],
      "metadata": {
        "id": "jxvf1B0h4NNv"
      },
      "execution_count": null,
      "outputs": []
    },
    {
      "cell_type": "code",
      "source": [
        "callback=earlyStop(25)"
      ],
      "metadata": {
        "id": "-NI86EU24NNv"
      },
      "execution_count": null,
      "outputs": []
    },
    {
      "cell_type": "code",
      "source": [
        "BATCH_SIZE=64"
      ],
      "metadata": {
        "id": "anfpZotn4NNw"
      },
      "execution_count": null,
      "outputs": []
    },
    {
      "cell_type": "code",
      "source": [
        "siamese = create_siamese('calcmasses_model4.h5')\n",
        "siamese.summary()"
      ],
      "metadata": {
        "colab": {
          "base_uri": "https://localhost:8080/"
        },
        "outputId": "35074350-ca56-4dac-96fb-83ead7b910bc",
        "id": "20YD0LXO4NNw"
      },
      "execution_count": null,
      "outputs": [
        {
          "output_type": "stream",
          "name": "stdout",
          "text": [
            "Model: \"model_12\"\n",
            "__________________________________________________________________________________________________\n",
            " Layer (type)                   Output Shape         Param #     Connected to                     \n",
            "==================================================================================================\n",
            " input_15 (InputLayer)          [(None, 150, 150, 1  0           []                               \n",
            "                                )]                                                                \n",
            "                                                                                                  \n",
            " input_16 (InputLayer)          [(None, 150, 150, 1  0           []                               \n",
            "                                )]                                                                \n",
            "                                                                                                  \n",
            " model_11 (Functional)          (None, 128)          19049216    ['input_15[0][0]',               \n",
            "                                                                  'input_16[0][0]']               \n",
            "                                                                                                  \n",
            " lambda_4 (Lambda)              (None, 128)          0           ['model_11[0][0]',               \n",
            "                                                                  'model_11[1][0]']               \n",
            "                                                                                                  \n",
            " dense_4 (Dense)                (None, 1)            129         ['lambda_4[0][0]']               \n",
            "                                                                                                  \n",
            "==================================================================================================\n",
            "Total params: 19,049,345\n",
            "Trainable params: 16,641\n",
            "Non-trainable params: 19,032,704\n",
            "__________________________________________________________________________________________________\n"
          ]
        }
      ]
    },
    {
      "cell_type": "code",
      "source": [
        "siamese.compile(loss=\"binary_crossentropy\",\n",
        "            optimizer='rmsprop',\n",
        "            metrics=['acc']) "
      ],
      "metadata": {
        "id": "7JUHBUhg4NNw"
      },
      "execution_count": null,
      "outputs": []
    },
    {
      "cell_type": "code",
      "source": [
        "history = siamese.fit(\n",
        "        train_generator,\n",
        "        steps_per_epoch=len(train_datasetabn_split) // BATCH_SIZE,\n",
        "        epochs=100,\n",
        "        validation_data=validation_generator,\n",
        "        validation_steps = len(valid_datasetabn_split) // BATCH_SIZE,\n",
        "        callbacks=[callback],\n",
        "        shuffle=True,\n",
        "        verbose=1)"
      ],
      "metadata": {
        "colab": {
          "base_uri": "https://localhost:8080/"
        },
        "outputId": "fe7dcbb3-d280-456f-f84a-55bd3d4f856d",
        "id": "i_SAobqS4NNw"
      },
      "execution_count": null,
      "outputs": [
        {
          "output_type": "stream",
          "name": "stdout",
          "text": [
            "Epoch 1/100\n",
            "33/33 [==============================] - 21s 640ms/step - loss: 0.5779 - acc: 0.7021 - val_loss: 0.4850 - val_acc: 0.7957\n",
            "Epoch 2/100\n",
            "33/33 [==============================] - 20s 625ms/step - loss: 0.5119 - acc: 0.7637 - val_loss: 0.4914 - val_acc: 0.7831\n",
            "Epoch 3/100\n",
            "33/33 [==============================] - 20s 629ms/step - loss: 0.4747 - acc: 0.7835 - val_loss: 0.5114 - val_acc: 0.7684\n",
            "Epoch 4/100\n",
            "33/33 [==============================] - 20s 620ms/step - loss: 0.4834 - acc: 0.7818 - val_loss: 0.5698 - val_acc: 0.7488\n",
            "Epoch 5/100\n",
            "33/33 [==============================] - 20s 634ms/step - loss: 0.4645 - acc: 0.7938 - val_loss: 0.4652 - val_acc: 0.7935\n",
            "Epoch 6/100\n",
            "33/33 [==============================] - 21s 637ms/step - loss: 0.4745 - acc: 0.7813 - val_loss: 0.4787 - val_acc: 0.7913\n",
            "Epoch 7/100\n",
            "33/33 [==============================] - 20s 622ms/step - loss: 0.4703 - acc: 0.7806 - val_loss: 0.4620 - val_acc: 0.7855\n",
            "Epoch 8/100\n",
            "33/33 [==============================] - 20s 621ms/step - loss: 0.4765 - acc: 0.7878 - val_loss: 0.4692 - val_acc: 0.8039\n",
            "Epoch 9/100\n",
            "33/33 [==============================] - 20s 615ms/step - loss: 0.4596 - acc: 0.7905 - val_loss: 0.4500 - val_acc: 0.8002\n",
            "Epoch 10/100\n",
            "33/33 [==============================] - 20s 630ms/step - loss: 0.4675 - acc: 0.7811 - val_loss: 0.4956 - val_acc: 0.7728\n",
            "Epoch 11/100\n",
            "33/33 [==============================] - 20s 636ms/step - loss: 0.4561 - acc: 0.7897 - val_loss: 0.4661 - val_acc: 0.7891\n",
            "Epoch 12/100\n",
            "33/33 [==============================] - 20s 625ms/step - loss: 0.4564 - acc: 0.7896 - val_loss: 0.4437 - val_acc: 0.7929\n",
            "Epoch 13/100\n",
            "33/33 [==============================] - 20s 630ms/step - loss: 0.4597 - acc: 0.7859 - val_loss: 0.4820 - val_acc: 0.7953\n",
            "Epoch 14/100\n",
            "33/33 [==============================] - 20s 617ms/step - loss: 0.4466 - acc: 0.8049 - val_loss: 0.4526 - val_acc: 0.8113\n",
            "Epoch 15/100\n",
            "33/33 [==============================] - 20s 626ms/step - loss: 0.4660 - acc: 0.7902 - val_loss: 0.4471 - val_acc: 0.8076\n",
            "Epoch 16/100\n",
            "33/33 [==============================] - 21s 638ms/step - loss: 0.4573 - acc: 0.7917 - val_loss: 0.4831 - val_acc: 0.7859\n",
            "Epoch 17/100\n",
            "33/33 [==============================] - 20s 623ms/step - loss: 0.4568 - acc: 0.7909 - val_loss: 0.4702 - val_acc: 0.7770\n",
            "Epoch 18/100\n",
            "33/33 [==============================] - 20s 620ms/step - loss: 0.4532 - acc: 0.7854 - val_loss: 0.5298 - val_acc: 0.7635\n",
            "Epoch 19/100\n",
            "33/33 [==============================] - 20s 623ms/step - loss: 0.4502 - acc: 0.8015 - val_loss: 0.4527 - val_acc: 0.7953\n",
            "Epoch 20/100\n",
            "33/33 [==============================] - 20s 624ms/step - loss: 0.4565 - acc: 0.7866 - val_loss: 0.4605 - val_acc: 0.7902\n",
            "Epoch 21/100\n",
            "33/33 [==============================] - 20s 631ms/step - loss: 0.4505 - acc: 0.7946 - val_loss: 0.4411 - val_acc: 0.8065\n",
            "Epoch 22/100\n",
            "33/33 [==============================] - 20s 616ms/step - loss: 0.4467 - acc: 0.7984 - val_loss: 0.4771 - val_acc: 0.8002\n",
            "Epoch 23/100\n",
            "33/33 [==============================] - 20s 620ms/step - loss: 0.4580 - acc: 0.7921 - val_loss: 0.4617 - val_acc: 0.8002\n",
            "Epoch 24/100\n",
            "33/33 [==============================] - 20s 616ms/step - loss: 0.4611 - acc: 0.7936 - val_loss: 0.4442 - val_acc: 0.8137\n",
            "Epoch 25/100\n",
            "33/33 [==============================] - 20s 621ms/step - loss: 0.4512 - acc: 0.8013 - val_loss: 0.4649 - val_acc: 0.7870\n",
            "Epoch 26/100\n",
            "33/33 [==============================] - 20s 631ms/step - loss: 0.4505 - acc: 0.7977 - val_loss: 0.4462 - val_acc: 0.8185\n",
            "Epoch 27/100\n",
            "33/33 [==============================] - 20s 622ms/step - loss: 0.4365 - acc: 0.8042 - val_loss: 0.4598 - val_acc: 0.7990\n",
            "Epoch 28/100\n",
            "33/33 [==============================] - 20s 618ms/step - loss: 0.4491 - acc: 0.7970 - val_loss: 0.4175 - val_acc: 0.8100\n",
            "Epoch 29/100\n",
            "33/33 [==============================] - 20s 623ms/step - loss: 0.4526 - acc: 0.7915 - val_loss: 0.4606 - val_acc: 0.8064\n",
            "Epoch 30/100\n",
            "33/33 [==============================] - 20s 626ms/step - loss: 0.4552 - acc: 0.8032 - val_loss: 0.4641 - val_acc: 0.7902\n",
            "Epoch 31/100\n",
            "33/33 [==============================] - 20s 634ms/step - loss: 0.4461 - acc: 0.7996 - val_loss: 0.4692 - val_acc: 0.7848\n",
            "Epoch 32/100\n",
            "33/33 [==============================] - 20s 612ms/step - loss: 0.4456 - acc: 0.7991 - val_loss: 0.4722 - val_acc: 0.7929\n",
            "Epoch 33/100\n",
            "33/33 [==============================] - 20s 614ms/step - loss: 0.4475 - acc: 0.7958 - val_loss: 0.4366 - val_acc: 0.8039\n",
            "Epoch 34/100\n",
            "33/33 [==============================] - 20s 606ms/step - loss: 0.4434 - acc: 0.8027 - val_loss: 0.4649 - val_acc: 0.8064\n",
            "Epoch 35/100\n",
            "33/33 [==============================] - 20s 609ms/step - loss: 0.4473 - acc: 0.7931 - val_loss: 0.4538 - val_acc: 0.7761\n",
            "Epoch 36/100\n",
            "33/33 [==============================] - 20s 627ms/step - loss: 0.4497 - acc: 0.7984 - val_loss: 0.4411 - val_acc: 0.8011\n",
            "Epoch 37/100\n",
            "33/33 [==============================] - 20s 614ms/step - loss: 0.4510 - acc: 0.7883 - val_loss: 0.4239 - val_acc: 0.8113\n",
            "Epoch 38/100\n",
            "33/33 [==============================] - 20s 618ms/step - loss: 0.4526 - acc: 0.7883 - val_loss: 0.4572 - val_acc: 0.7904\n",
            "Epoch 39/100\n",
            "33/33 [==============================] - 20s 616ms/step - loss: 0.4423 - acc: 0.8088 - val_loss: 0.4505 - val_acc: 0.7966\n",
            "Epoch 40/100\n",
            "33/33 [==============================] - 20s 610ms/step - loss: 0.4309 - acc: 0.8107 - val_loss: 0.4824 - val_acc: 0.7772\n",
            "Epoch 41/100\n",
            "33/33 [==============================] - 20s 622ms/step - loss: 0.4625 - acc: 0.7900 - val_loss: 0.4489 - val_acc: 0.7967\n",
            "Epoch 42/100\n",
            "33/33 [==============================] - 19s 603ms/step - loss: 0.4485 - acc: 0.8006 - val_loss: 0.4662 - val_acc: 0.8015\n",
            "Epoch 43/100\n",
            "33/33 [==============================] - 20s 614ms/step - loss: 0.4511 - acc: 0.7955 - val_loss: 0.4264 - val_acc: 0.8137\n",
            "Epoch 44/100\n",
            "33/33 [==============================] - 20s 611ms/step - loss: 0.4547 - acc: 0.7950 - val_loss: 0.4799 - val_acc: 0.7819\n",
            "Epoch 45/100\n",
            "33/33 [==============================] - 20s 609ms/step - loss: 0.4606 - acc: 0.7895 - val_loss: 0.4620 - val_acc: 0.7935\n",
            "Epoch 46/100\n",
            "33/33 [==============================] - 20s 627ms/step - loss: 0.4468 - acc: 0.7935 - val_loss: 0.4307 - val_acc: 0.8076\n",
            "Epoch 47/100\n",
            "33/33 [==============================] - 20s 616ms/step - loss: 0.4421 - acc: 0.7987 - val_loss: 0.4511 - val_acc: 0.7966\n",
            "Epoch 48/100\n",
            "33/33 [==============================] - 19s 603ms/step - loss: 0.4446 - acc: 0.7991 - val_loss: 0.4650 - val_acc: 0.8100\n",
            "Epoch 49/100\n",
            "33/33 [==============================] - 20s 606ms/step - loss: 0.4314 - acc: 0.8088 - val_loss: 0.4705 - val_acc: 0.7990\n",
            "Epoch 50/100\n",
            "33/33 [==============================] - 19s 605ms/step - loss: 0.4450 - acc: 0.7919 - val_loss: 0.4632 - val_acc: 0.7891\n",
            "Epoch 51/100\n",
            "33/33 [==============================] - 20s 634ms/step - loss: 0.4529 - acc: 0.7844 - val_loss: 0.4558 - val_acc: 0.8033\n",
            "Epoch 52/100\n",
            "33/33 [==============================] - 20s 627ms/step - loss: 0.4507 - acc: 0.7943 - val_loss: 0.4730 - val_acc: 0.7904\n",
            "Epoch 53/100\n",
            "33/33 [==============================] - 20s 614ms/step - loss: 0.4457 - acc: 0.7876 - val_loss: 0.4286 - val_acc: 0.8125\n"
          ]
        }
      ]
    },
    {
      "cell_type": "code",
      "execution_count": null,
      "metadata": {
        "id": "_IPZjysn4NNx"
      },
      "outputs": [],
      "source": [
        "siamese.save(os.path.join(base_path,'models/Baseline/calcmasses_model2.h5'))"
      ]
    },
    {
      "cell_type": "code",
      "source": [
        "plt_a = plot_acc(history)\n",
        "#save & show plot\n",
        "#plt_a.savefig(os.path.join(PLOTS_PATH, 'model_0_a.png'))\n",
        "plt_a.show()"
      ],
      "metadata": {
        "colab": {
          "base_uri": "https://localhost:8080/",
          "height": 281
        },
        "outputId": "5b3e3f34-8975-4878-f38e-cd25571b1762",
        "id": "4SaTQONS4NNx"
      },
      "execution_count": null,
      "outputs": [
        {
          "output_type": "display_data",
          "data": {
            "image/png": "[encoded data removed]",
            "text/plain": [
              "<Figure size 432x288 with 1 Axes>"
            ]
          },
          "metadata": {
            "needs_background": "light"
          }
        }
      ]
    },
    {
      "cell_type": "code",
      "source": [
        "plt_a = plot_loss(history)\n",
        "#save & show plot\n",
        "#plt_a.savefig(os.path.join(PLOTS_PATH, 'model_0_a.png'))\n",
        "plt_a.show()"
      ],
      "metadata": {
        "colab": {
          "base_uri": "https://localhost:8080/",
          "height": 281
        },
        "outputId": "8c6d8e6a-9732-497b-b160-0f36d9a30adc",
        "id": "7L8f5rkR4NNx"
      },
      "execution_count": null,
      "outputs": [
        {
          "output_type": "display_data",
          "data": {
            "image/png": "[encoded data removed]",
            "text/plain": [
              "<Figure size 432x288 with 1 Axes>"
            ]
          },
          "metadata": {
            "needs_background": "light"
          }
        }
      ]
    },
    {
      "cell_type": "code",
      "execution_count": null,
      "metadata": {
        "colab": {
          "base_uri": "https://localhost:8080/"
        },
        "outputId": "1a2fbd82-8a6f-400e-9078-e6be5b67c9bc",
        "id": "Rv-g9VmY4NNx"
      },
      "outputs": [
        {
          "output_type": "stream",
          "name": "stdout",
          "text": [
            "Epoch [end]: 53\n",
            "Epoch [opt]: 26\n",
            "Valid accuracy [end]: 0.8125\n",
            "Valid accuracy [opt]: 0.8185\n",
            "Valid loss [end]: 0.4286\n",
            "Valid loss [opt]: 0.4462\n"
          ]
        }
      ],
      "source": [
        "print_opt_results(history)"
      ]
    },
    {
      "cell_type": "code",
      "source": [
        "test_loss, test_accuracy = siamese.evaluate(test_generator, steps=int(0.8*2676) // 128)\n",
        "\n",
        "print(\"\\n---------------------------------\")\n",
        "print(\"Accuracy:\", \"%0.2f\" % (test_accuracy*100), \"%\")\n",
        "print(\"Loss:\", \"%0.2f\" % (test_loss))\n",
        "print(\"Precision:\", \"%0.2f\" % (test_precision*100), \"%\")\n",
        "print(\"Recall:\", \"%0.2f\" % (test_recall*100), \"%\")\n",
        "print(\"AUC:\", \"%0.2f\" % test_auc)\n",
        "print(\"---------------------------------\\n\")\n"
      ],
      "metadata": {
        "colab": {
          "base_uri": "https://localhost:8080/"
        },
        "outputId": "cf71c9e1-1f5c-4a2e-f90c-b332371ecb39",
        "id": "vlB22f5L4NNx"
      },
      "execution_count": null,
      "outputs": [
        {
          "output_type": "stream",
          "name": "stdout",
          "text": [
            "16/16 [==============================] - 7s 449ms/step - loss: 0.4574 - acc: 0.7826\n",
            "\n",
            "---------------------------------\n",
            "Accuracy: 78.26 %\n",
            "Loss: 0.46\n",
            "Precision: 77.26 %\n",
            "Recall: 82.74 %\n",
            "AUC: 0.89\n",
            "---------------------------------\n",
            "\n"
          ]
        }
      ]
    },
    {
      "cell_type": "code",
      "execution_count": null,
      "metadata": {
        "id": "GUKRpyi24NNx"
      },
      "outputs": [],
      "source": [
        "#test_model(siamese)"
      ]
    },
    {
      "cell_type": "code",
      "source": [
        "model_best=siamese"
      ],
      "metadata": {
        "id": "9hqQGOIP4NNy"
      },
      "execution_count": null,
      "outputs": []
    },
    {
      "cell_type": "code",
      "execution_count": null,
      "metadata": {
        "colab": {
          "base_uri": "https://localhost:8080/",
          "height": 571
        },
        "outputId": "1438e9af-6f75-471c-a0c8-84ebd8d450bf",
        "id": "-l6lz5th4NNy"
      },
      "outputs": [
        {
          "output_type": "stream",
          "name": "stdout",
          "text": [
            "(336,)\n",
            "(672, 150, 150)\n",
            "(336, 1)\n",
            "(336, 1)\n",
            "Confusion Matrix\n",
            "              precision    recall  f1-score   support\n",
            "\n",
            "         0.0       0.52      0.50      0.51       179\n",
            "         1.0       0.45      0.47      0.46       157\n",
            "\n",
            "    accuracy                           0.49       336\n",
            "   macro avg       0.49      0.49      0.49       336\n",
            "weighted avg       0.49      0.49      0.49       336\n",
            "\n"
          ]
        },
        {
          "output_type": "execute_result",
          "data": {
            "text/plain": [
              "Text(0.5, -6.819805153394636, 'Predicted label')"
            ]
          },
          "metadata": {},
          "execution_count": 131
        },
        {
          "output_type": "display_data",
          "data": {
            "image/png": "[encoded data removed]",
            "text/plain": [
              "<Figure size 432x288 with 2 Axes>"
            ]
          },
          "metadata": {
            "needs_background": "light"
          }
        }
      ],
      "source": [
        "classes = [\"Benign\", \"Malign\"]\n",
        "Y_pred = model_best.predict(test_generator, steps=int(336//128+1))\n",
        "\n",
        "y_pred = np.where(Y_pred < 0.5, 0, 1)\n",
        "\n",
        "print(test_labels.shape)\n",
        "print(test_images.shape)\n",
        "print(Y_pred.shape)\n",
        "print(y_pred.shape)\n",
        "\n",
        "print('Confusion Matrix')\n",
        "cm = confusion_matrix(test_labels, y_pred)\n",
        "\n",
        "#print(cm)\n",
        "#print('Classification Report')\n",
        "print(classification_report(test_labels, y_pred))\n",
        "\n",
        "plt.imshow(cm, interpolation='nearest', cmap=plt.cm.Blues)\n",
        "plt.title(\"Confusione Matrix\")\n",
        "plt.colorbar()\n",
        "tick_marks = np.arange(len(classes))\n",
        "plt.xticks(tick_marks, classes, rotation=45)\n",
        "plt.yticks(tick_marks, classes)\n",
        "\n",
        "#print(cm)\n",
        "\n",
        "thresh = cm.max() / 2.\n",
        "for i, j in itertools.product(range(cm.shape[0]), range(cm.shape[1])):\n",
        "    plt.text(j, i, cm[i, j],\n",
        "        horizontalalignment=\"center\",\n",
        "        #color=\"white\" if cm[i, j] > thresh else \"black\")\n",
        "        color=\"black\")\n",
        "\n",
        "plt.tight_layout()\n",
        "plt.ylabel('True label')\n",
        "plt.xlabel('Predicted label')\n"
      ]
    },
    {
      "cell_type": "code",
      "execution_count": null,
      "metadata": {
        "id": "FVomgB4H4NNy"
      },
      "outputs": [],
      "source": [
        "fpr,tpr,th = roc_curve(test_labels, Y_pred)\n",
        "\n",
        "roc_auc = roc_auc_score(test_labels, Y_pred)"
      ]
    },
    {
      "cell_type": "code",
      "execution_count": null,
      "metadata": {
        "colab": {
          "base_uri": "https://localhost:8080/",
          "height": 295
        },
        "outputId": "a85e0269-2196-4c9e-c8b1-746f9ab63515",
        "id": "tUsiStLK4NNz"
      },
      "outputs": [
        {
          "output_type": "display_data",
          "data": {
            "image/png": "[encoded data removed]",
            "text/plain": [
              "<Figure size 432x288 with 1 Axes>"
            ]
          },
          "metadata": {
            "needs_background": "light"
          }
        }
      ],
      "source": [
        "plt.title('Receiver Operating Characteristic')\n",
        "plt.plot(fpr, tpr, 'b', label = 'AUC = %0.2f' % roc_auc)\n",
        "plt.legend(loc = 'lower right')\n",
        "plt.plot([0, 1], [0, 1],'r--')\n",
        "plt.xlim([0, 1])\n",
        "plt.ylim([0, 1])\n",
        "plt.ylabel('True Positive Rate')\n",
        "plt.xlabel('False Positive Rate')\n",
        "plt.show()"
      ]
    },
    {
      "cell_type": "markdown",
      "metadata": {
        "id": "2180rb3QL-je"
      },
      "source": [
        "# Siamese Ben Mal\n"
      ]
    },
    {
      "cell_type": "markdown",
      "metadata": {
        "id": "R2b9vNIzMwIn"
      },
      "source": [
        "## Data operations Ben Mal"
      ]
    },
    {
      "cell_type": "code",
      "execution_count": null,
      "metadata": {
        "colab": {
          "base_uri": "https://localhost:8080/"
        },
        "outputId": "421b2162-a6a4-417c-82d3-4e48f5f3262d",
        "id": "gGUDRGtXMwIn"
      },
      "outputs": [
        {
          "output_type": "stream",
          "name": "stdout",
          "text": [
            "Train dataset\n",
            "---------------------------------\n",
            "Masses: \t\t 1218\n",
            "Calcification: \t\t 1458\n",
            "---------------------------------\n",
            "Benign: \t\t 1568\n",
            "Malign: \t\t 1108\n",
            "---------------------------------\n",
            "Benign Masses: \t\t 620\n",
            "Malign Masses: \t\t 598\n",
            "Benign Calcification: \t 948\n",
            "Malign Calcification: \t 510\n",
            "---------------------------------\n",
            "Baseline: \t\t 2676\n",
            "---------------------------------\n",
            "Total: \t\t\t 5352\n",
            "\n",
            "\n",
            "Test dataset\n",
            "---------------------------------\n",
            "Masses: \t\t 179\n",
            "Calcification: \t\t 157\n",
            "---------------------------------\n",
            "Benign: \t\t 219\n",
            "Malign: \t\t 117\n",
            "---------------------------------\n",
            "Benign Masses: \t\t 113\n",
            "Malign Masses: \t\t 66\n",
            "Benign Calcification: \t 106\n",
            "Malign Calcification: \t 51\n",
            "---------------------------------\n",
            "Baseline: \t\t 336\n",
            "---------------------------------\n",
            "Total: \t\t\t 672\n"
          ]
        }
      ],
      "source": [
        "train_images = np.load(train_img_path)\n",
        "train_labels = np.load(train_label_path)\n",
        "test_images = np.load(test_img_path)\n",
        "test_labels = np.load(test_label_path)\n",
        "\n",
        "#count quantity masses and calcifications\n",
        "unique, counts = np.unique(train_labels, return_counts=True)\n",
        "#print(unique, counts)\n",
        "print(\"Train dataset\")\n",
        "print(\"---------------------------------\")\n",
        "print(\"Masses: \\t\\t\", counts[1]+counts[2])\n",
        "print(\"Calcification: \\t\\t\", counts[3]+counts[4])\n",
        "print(\"---------------------------------\")\n",
        "print(\"Benign: \\t\\t\", counts[1]+counts[3])\n",
        "print(\"Malign: \\t\\t\", counts[2]+counts[4])\n",
        "print(\"---------------------------------\")\n",
        "print(\"Benign Masses: \\t\\t\", counts[1])\n",
        "print(\"Malign Masses: \\t\\t\", counts[2])\n",
        "print(\"Benign Calcification: \\t\", counts[3])\n",
        "print(\"Malign Calcification: \\t\", counts[4])\n",
        "print(\"---------------------------------\")\n",
        "print(\"Baseline: \\t\\t\", counts[0])\n",
        "print(\"---------------------------------\")\n",
        "print(\"Total: \\t\\t\\t\", counts[0]+counts[1]+counts[2]+counts[3]+counts[4])\n",
        "\n",
        "#count quantity masses and calcifications\n",
        "uniqueT, countsT = np.unique(test_labels, return_counts=True)\n",
        "#print(unique, countsT)\n",
        "print(\"\\n\")\n",
        "print(\"Test dataset\")\n",
        "print(\"---------------------------------\")\n",
        "print(\"Masses: \\t\\t\", countsT[1]+countsT[2])\n",
        "print(\"Calcification: \\t\\t\", countsT[3]+countsT[4])\n",
        "print(\"---------------------------------\")\n",
        "print(\"Benign: \\t\\t\", countsT[1]+countsT[3])\n",
        "print(\"Malign: \\t\\t\", countsT[2]+countsT[4])\n",
        "print(\"---------------------------------\")\n",
        "print(\"Benign Masses: \\t\\t\", countsT[1])\n",
        "print(\"Malign Masses: \\t\\t\", countsT[2])\n",
        "print(\"Benign Calcification: \\t\", countsT[3])\n",
        "print(\"Malign Calcification: \\t\", countsT[4])\n",
        "print(\"---------------------------------\")\n",
        "print(\"Baseline: \\t\\t\", countsT[0])\n",
        "print(\"---------------------------------\")\n",
        "print(\"Total: \\t\\t\\t\", countsT[0]+countsT[1]+countsT[2]+countsT[3]+countsT[4])"
      ]
    },
    {
      "cell_type": "code",
      "execution_count": null,
      "metadata": {
        "colab": {
          "base_uri": "https://localhost:8080/",
          "height": 192
        },
        "outputId": "08d24cf0-a86d-4d3b-ff93-78548892abdb",
        "id": "tuwOHUPKMwIn"
      },
      "outputs": [
        {
          "output_type": "display_data",
          "data": {
            "image/png": "[encoded data removed]",
            "text/plain": [
              "<Figure size 432x288 with 4 Axes>"
            ]
          },
          "metadata": {
            "needs_background": "light"
          }
        }
      ],
      "source": [
        "images = range(0,4)\n",
        "for i in images:\n",
        "    plt.subplot(330 + 1 + i)\n",
        "    plt.imshow(train_images[i], cmap=plt.get_cmap('gray'))\n",
        "    \n",
        "#Show the plot\n",
        "plt.show()"
      ]
    },
    {
      "cell_type": "code",
      "source": [
        "train_baselines = np.zeros(shape=(2676, 150, 150), dtype=\"float32\")\n",
        "train_abnormalities = np.zeros(shape=(2676, 150, 150), dtype=\"float32\")\n",
        "#get even posititions\n",
        "train_baselines = train_images[::2]\n",
        "#get odd positions\n",
        "train_abnormalities = train_images[1::2]"
      ],
      "metadata": {
        "id": "kSzjf0AoMwIn"
      },
      "execution_count": null,
      "outputs": []
    },
    {
      "cell_type": "code",
      "source": [
        "test_baselines = np.zeros(shape=(2676, 150, 150), dtype=\"float32\")\n",
        "test_abnormalities = np.zeros(shape=(2676, 150, 150), dtype=\"float32\")\n",
        "#get even posititions\n",
        "test_baselines = test_images[::2]\n",
        "#get odd positions\n",
        "test_abnormalities = test_images[1::2]"
      ],
      "metadata": {
        "id": "OW_CwbjEMwIo"
      },
      "execution_count": null,
      "outputs": []
    },
    {
      "cell_type": "code",
      "source": [
        "print(\"Train shape: \", train_images.shape)\n",
        "print(\"Train labels shape: \", train_labels.shape)\n",
        "print()\n",
        "print(\"Test shape: \", test_images.shape)\n",
        "print(\"Test labels shape: \", test_labels.shape)"
      ],
      "metadata": {
        "colab": {
          "base_uri": "https://localhost:8080/"
        },
        "outputId": "d658e6b1-6774-44d9-912d-01895565227a",
        "id": "I7YXFYuAMwIo"
      },
      "execution_count": null,
      "outputs": [
        {
          "output_type": "stream",
          "name": "stdout",
          "text": [
            "Train shape:  (5352, 150, 150)\n",
            "Train labels shape:  (5352,)\n",
            "\n",
            "Test shape:  (672, 150, 150)\n",
            "Test labels shape:  (672,)\n"
          ]
        }
      ]
    },
    {
      "cell_type": "code",
      "source": [
        "print(\"Train baselines shape: \", train_baselines.shape)\n",
        "print(\"Train abnormalities shape: \", train_abnormalities.shape)\n",
        "print(\"Test baselines shape: \", test_baselines.shape)\n",
        "print(\"Test abnormalities shape: \", test_abnormalities.shape)"
      ],
      "metadata": {
        "colab": {
          "base_uri": "https://localhost:8080/"
        },
        "outputId": "df995597-d7b8-42ad-9f6d-8101c4a01afe",
        "id": "OskmBbIIMwIo"
      },
      "execution_count": null,
      "outputs": [
        {
          "output_type": "stream",
          "name": "stdout",
          "text": [
            "Train baselines shape:  (2676, 150, 150)\n",
            "Train abnormalities shape:  (2676, 150, 150)\n",
            "Test baselines shape:  (336, 150, 150)\n",
            "Test abnormalities shape:  (336, 150, 150)\n"
          ]
        }
      ]
    },
    {
      "cell_type": "code",
      "source": [
        "# Mapping labels with standard index\n",
        "train_labels = labels_mapping_benmal(train_labels)\n",
        "test_labels = labels_mapping_benmal(test_labels)\n",
        "\n",
        "print(\"Train labels shape: \", train_labels.shape)\n",
        "print(\"Test labels shape: \", test_labels.shape)"
      ],
      "metadata": {
        "colab": {
          "base_uri": "https://localhost:8080/"
        },
        "outputId": "cf7dd659-6cc3-461e-c3ee-c6b49bb1eadc",
        "id": "SkWoVcfyMwIo"
      },
      "execution_count": null,
      "outputs": [
        {
          "output_type": "stream",
          "name": "stdout",
          "text": [
            "Train labels shape:  (2676,)\n",
            "Test labels shape:  (336,)\n"
          ]
        }
      ]
    },
    {
      "cell_type": "code",
      "source": [
        "unique, counts = np.unique(train_labels, return_counts=True)\n",
        "print(unique, counts)\n",
        "unique, counts = np.unique(test_labels, return_counts=True)\n",
        "print(unique, counts)"
      ],
      "metadata": {
        "colab": {
          "base_uri": "https://localhost:8080/"
        },
        "outputId": "a672f982-b704-4dce-f3f2-5a769105c36e",
        "id": "RkZ-D_EbMwIo"
      },
      "execution_count": null,
      "outputs": [
        {
          "output_type": "stream",
          "name": "stdout",
          "text": [
            "[0. 1.] [1568 1108]\n",
            "[0. 1.] [219 117]\n"
          ]
        }
      ]
    },
    {
      "cell_type": "code",
      "source": [
        "# Suffle index (Previous dataset is ordered by index)\n",
        "train_abnormalities, train_labels, train_baselines = shuffle_dataset(train_abnormalities, train_labels, train_baselines)\n",
        "test_abnormalities, test_labels, test_baselines = shuffle_dataset(test_abnormalities, test_labels, test_baselines)"
      ],
      "metadata": {
        "id": "96ofdANqMwIo"
      },
      "execution_count": null,
      "outputs": []
    },
    {
      "cell_type": "code",
      "source": [
        "train_baselines = train_baselines.reshape(train_baselines.shape + (1,)) #(2676, 150, 150, 1)\n",
        "train_abnormalities = train_abnormalities.reshape(train_abnormalities.shape + (1,)) #(2676, 150, 150, 1)\n",
        "test_abnormalities = test_abnormalities.reshape(test_abnormalities.shape + (1,)) #(2676, 150, 150, 1)\n",
        "test_baselines = test_baselines.reshape(test_baselines.shape + (1,)) #(2676, 150, 150, 1)\n",
        "\n",
        "print(\"Train baselines shape: \", train_baselines.shape)\n",
        "print(\"Train abnormalities shape: \", train_abnormalities.shape)\n",
        "print(\"Train labels shape: \", train_labels.shape)\n",
        "print(\"Test labels shape: \", test_labels.shape)"
      ],
      "metadata": {
        "colab": {
          "base_uri": "https://localhost:8080/"
        },
        "outputId": "5871d9ff-ecc1-445d-bcb8-a2f7d5773612",
        "id": "J2ujC5sFMwIo"
      },
      "execution_count": null,
      "outputs": [
        {
          "output_type": "stream",
          "name": "stdout",
          "text": [
            "Train baselines shape:  (2676, 150, 150, 1)\n",
            "Train abnormalities shape:  (2676, 150, 150, 1)\n",
            "Train labels shape:  (2676,)\n",
            "Test labels shape:  (336,)\n"
          ]
        }
      ]
    },
    {
      "cell_type": "code",
      "source": [
        "#reshape to expand grayscale to rgb\n",
        "train_baselines = np.repeat(train_baselines, 3, axis = 3)\n",
        "train_abnormalities = np.repeat(train_abnormalities, 3, axis = 3)\n",
        "test_abnormalities = np.repeat(test_abnormalities, 3, axis = 3)\n",
        "test_baselines = np.repeat(test_baselines, 3, axis = 3)\n",
        "\n",
        "print(\"Train baselines shape: \", train_baselines.shape)\n",
        "print(\"Train abnormalities shape: \", train_abnormalities.shape)\n",
        "print(\"Train labels shape: \", train_labels.shape)\n",
        "print(\"Test labels shape: \", test_labels.shape)"
      ],
      "metadata": {
        "colab": {
          "base_uri": "https://localhost:8080/"
        },
        "outputId": "99afb68f-3328-4b47-c707-04285509795d",
        "id": "rvOH4pAXMwIo"
      },
      "execution_count": null,
      "outputs": [
        {
          "output_type": "stream",
          "name": "stdout",
          "text": [
            "Train baselines shape:  (2676, 150, 150, 3)\n",
            "Train abnormalities shape:  (2676, 150, 150, 3)\n",
            "Train labels shape:  (2676,)\n",
            "Test labels shape:  (336,)\n"
          ]
        }
      ]
    },
    {
      "cell_type": "code",
      "execution_count": null,
      "metadata": {
        "colab": {
          "base_uri": "https://localhost:8080/"
        },
        "outputId": "e68cdb8e-c7f5-4eda-f495-7a343b6f19e5",
        "id": "9_czZKm8MwIo"
      },
      "outputs": [
        {
          "output_type": "stream",
          "name": "stdout",
          "text": [
            "(2140, 150, 150, 3)\n",
            "(536, 150, 150, 3)\n",
            "(2140, 150, 150, 3)\n",
            "(536, 150, 150, 3)\n"
          ]
        }
      ],
      "source": [
        "#Splitting training-validation with 80-20 %\n",
        "split_index = int(0.8*len(train_abnormalities))\n",
        "train_datasetabn_split = train_abnormalities[:split_index]\n",
        "valid_datasetabn_split = train_abnormalities[split_index:]\n",
        "train_labels_split = train_labels[:split_index]\n",
        "valid_labels_split = train_labels[split_index:]\n",
        "train_datasetbase_split = train_baselines[:split_index]\n",
        "valid_datasetbase_split = train_baselines[split_index:]\n",
        "\n",
        "print(train_datasetabn_split.shape)\n",
        "print(valid_datasetabn_split.shape)\n",
        "print(train_datasetbase_split.shape)\n",
        "print(valid_datasetbase_split.shape)"
      ]
    },
    {
      "cell_type": "code",
      "source": [
        "def generator(train_abnorm_images, train_base_images, train_labels, batch_size=128):\n",
        "\n",
        "  image_gen = ImageDataGenerator(\n",
        "    rescale=1./65535,\n",
        "    rotation_range=40,\n",
        "    width_shift_range=0.25,\n",
        "    height_shift_range=0.25,\n",
        "    shear_range=0.5,\n",
        "    zoom_range=0.5, #0.5 - 1.5\n",
        "    horizontal_flip=True,\n",
        "    fill_mode='nearest')\n",
        "\n",
        "  image_gen.fit(train_abnorm_images)\n",
        "\n",
        "  gen_abnorm = image_gen.flow(train_abnorm_images, train_labels,  batch_size=batch_size, shuffle=True)\n",
        "  gen_base = image_gen.flow(train_base_images, train_labels, batch_size=batch_size, shuffle=True)\n",
        "\n",
        "  while True:\n",
        "    abn_img, abn_label = gen_abnorm.next()\n",
        "    base_img, _ = gen_base.next()\n",
        "    yield [abn_img, base_img], abn_label\n",
        "\n",
        "train_generator = generator(train_datasetabn_split, train_datasetbase_split, train_labels_split, batch_size=128)\n",
        "validation_generator = generator(valid_datasetabn_split, valid_datasetbase_split, valid_labels_split, batch_size=128)\n",
        "test_generator = generator(test_abnormalities, test_baselines, test_labels, batch_size=128)"
      ],
      "metadata": {
        "id": "eErtxm7UMwIo"
      },
      "execution_count": null,
      "outputs": []
    },
    {
      "cell_type": "code",
      "execution_count": null,
      "metadata": {
        "id": "Sxhf3G5wMwIo"
      },
      "outputs": [],
      "source": [
        "# All images will be rescaled by 1./65535 (max value range)\n",
        "#train_datagen = ImageDataGenerator(rescale=1./65535)\n",
        "#valid_datagen = ImageDataGenerator(rescale=1./65535)\n",
        "#test_datagen = ImageDataGenerator(rescale=1./65535)"
      ]
    },
    {
      "cell_type": "code",
      "execution_count": null,
      "metadata": {
        "id": "QV672xHyMwIo"
      },
      "outputs": [],
      "source": [
        "# Train data augmentation. Deep Convolutional Neural Networks for breast cancer screening. Hiba Chougrada, Hamid Zouaki, Omar Alheyane b\n",
        "#train_datagen = ImageDataGenerator(\n",
        "#    rescale=1./65535,\n",
        "#    rotation_range=40,\n",
        "#    width_shift_range=0.25,\n",
        "#    height_shift_range=0.25,\n",
        "#    shear_range=0.5,\n",
        "#    zoom_range=0.5, #0.5 - 1.5\n",
        "#    horizontal_flip=True,\n",
        "#    fill_mode='nearest')"
      ]
    },
    {
      "cell_type": "markdown",
      "source": [
        "##Model best Scratch"
      ],
      "metadata": {
        "id": "qF_zPlqJL-jf"
      }
    },
    {
      "cell_type": "code",
      "source": [
        "from keras.models import Model\n",
        "from tensorflow.keras.utils import plot_model\n",
        "\n",
        "INPUT_SHAPE = (150, 150, 1)\n",
        "\n",
        "pretrained = models.load_model(os.path.join(MODEL_SCRATCH_PATH, 'benmal_modelbest.h5'))\n",
        "  \n",
        "pretrained.trainable = False\n",
        "\n",
        "x = pretrained.layers[-2].output\n",
        "output = layers.Dense(512, activation='relu', name='extractor')(x)\n",
        "cnn = Model(pretrained.input, output)\n",
        "\n",
        "# Feed both input into the same convolutional base\n",
        "left_input = layers.Input(shape=INPUT_SHAPE)\n",
        "right_input = layers.Input(shape=INPUT_SHAPE)\n",
        "\n",
        "left_model = cnn(left_input)\n",
        "right_model = cnn(right_input)\n",
        "\n",
        "# Compute the difference between the two\n",
        "L1_layer = layers.Lambda(lambda tensors:K.abs(tensors[0] - tensors[1]))\n",
        "L1_distance = L1_layer([left_model, right_model])\n",
        "\n",
        "# FC layer\n",
        "# Add a dense layer with a sigmoid unit to generate the prediction\n",
        "prediction = layers.Dense(1, activation='sigmoid')(L1_distance)\n",
        "\n",
        "# Instantiate the model\n",
        "siamese = models.Model(inputs=[left_input, right_input], outputs=prediction)\n",
        "\n",
        "siamese.summary()"
      ],
      "metadata": {
        "colab": {
          "base_uri": "https://localhost:8080/"
        },
        "id": "dKgM5xhlL-jf",
        "outputId": "1d0b672d-6f50-41eb-b773-8a5c34df2215"
      },
      "execution_count": null,
      "outputs": [
        {
          "output_type": "stream",
          "name": "stdout",
          "text": [
            "Model: \"model_3\"\n",
            "__________________________________________________________________________________________________\n",
            " Layer (type)                   Output Shape         Param #     Connected to                     \n",
            "==================================================================================================\n",
            " input_5 (InputLayer)           [(None, 150, 150, 1  0           []                               \n",
            "                                )]                                                                \n",
            "                                                                                                  \n",
            " input_6 (InputLayer)           [(None, 150, 150, 1  0           []                               \n",
            "                                )]                                                                \n",
            "                                                                                                  \n",
            " model_2 (Functional)           (None, 512)          4107584     ['input_5[0][0]',                \n",
            "                                                                  'input_6[0][0]']                \n",
            "                                                                                                  \n",
            " lambda (Lambda)                (None, 512)          0           ['model_2[0][0]',                \n",
            "                                                                  'model_2[1][0]']                \n",
            "                                                                                                  \n",
            " dense (Dense)                  (None, 1)            513         ['lambda[0][0]']                 \n",
            "                                                                                                  \n",
            "==================================================================================================\n",
            "Total params: 4,108,097\n",
            "Trainable params: 33,793\n",
            "Non-trainable params: 4,074,304\n",
            "__________________________________________________________________________________________________\n"
          ]
        }
      ]
    },
    {
      "cell_type": "code",
      "source": [
        "siamese.compile(loss=\"binary_crossentropy\",\n",
        "            optimizer='rmsprop',\n",
        "            metrics=['acc']) "
      ],
      "metadata": {
        "id": "zcZKYV5ML-jf"
      },
      "execution_count": null,
      "outputs": []
    },
    {
      "cell_type": "code",
      "source": [
        "BATCH_SIZE=128"
      ],
      "metadata": {
        "id": "69pFN1CfL-jf"
      },
      "execution_count": null,
      "outputs": []
    },
    {
      "cell_type": "code",
      "source": [
        "callback=earlyStop(25)"
      ],
      "metadata": {
        "id": "X47mdZZzL-jf"
      },
      "execution_count": null,
      "outputs": []
    },
    {
      "cell_type": "code",
      "source": [
        "history = siamese.fit(\n",
        "        train_generator,\n",
        "        steps_per_epoch=len(train_datasetabn_split) // BATCH_SIZE,\n",
        "        epochs=100,\n",
        "        validation_data=validation_generator,\n",
        "        validation_steps = len(valid_datasetabn_split) // BATCH_SIZE,\n",
        "        callbacks=[callback],\n",
        "        shuffle=True,\n",
        "        verbose=1)"
      ],
      "metadata": {
        "colab": {
          "base_uri": "https://localhost:8080/"
        },
        "outputId": "a812b4d7-13d2-48fa-f926-4f3b1943027f",
        "id": "1seatHKhL-jf"
      },
      "execution_count": null,
      "outputs": [
        {
          "output_type": "stream",
          "name": "stdout",
          "text": [
            "Epoch 1/100\n",
            "16/16 [==============================] - 27s 1s/step - loss: 0.6631 - acc: 0.5933 - val_loss: 0.6152 - val_acc: 0.6074\n",
            "Epoch 2/100\n",
            "16/16 [==============================] - 11s 678ms/step - loss: 0.6421 - acc: 0.6103 - val_loss: 0.6115 - val_acc: 0.6523\n",
            "Epoch 3/100\n",
            "16/16 [==============================] - 11s 730ms/step - loss: 0.6384 - acc: 0.6029 - val_loss: 0.6071 - val_acc: 0.6309\n",
            "Epoch 4/100\n",
            "16/16 [==============================] - 8s 537ms/step - loss: 0.6531 - acc: 0.6128 - val_loss: 0.6190 - val_acc: 0.6562\n",
            "Epoch 5/100\n",
            "16/16 [==============================] - 8s 536ms/step - loss: 0.6371 - acc: 0.6133 - val_loss: 0.6076 - val_acc: 0.6426\n",
            "Epoch 6/100\n",
            "16/16 [==============================] - 8s 535ms/step - loss: 0.6373 - acc: 0.6198 - val_loss: 0.6123 - val_acc: 0.6250\n",
            "Epoch 7/100\n",
            "16/16 [==============================] - 8s 538ms/step - loss: 0.6273 - acc: 0.6272 - val_loss: 0.6129 - val_acc: 0.6328\n",
            "Epoch 8/100\n",
            "16/16 [==============================] - 9s 585ms/step - loss: 0.6224 - acc: 0.6387 - val_loss: 0.5827 - val_acc: 0.6562\n",
            "Epoch 9/100\n",
            "16/16 [==============================] - 8s 533ms/step - loss: 0.6366 - acc: 0.6302 - val_loss: 0.5919 - val_acc: 0.6660\n",
            "Epoch 10/100\n",
            "16/16 [==============================] - 8s 533ms/step - loss: 0.6317 - acc: 0.6223 - val_loss: 0.6295 - val_acc: 0.6348\n",
            "Epoch 11/100\n",
            "16/16 [==============================] - 9s 574ms/step - loss: 0.6365 - acc: 0.6357 - val_loss: 0.6317 - val_acc: 0.6504\n",
            "Epoch 12/100\n",
            "16/16 [==============================] - 8s 534ms/step - loss: 0.6335 - acc: 0.6218 - val_loss: 0.6133 - val_acc: 0.6523\n",
            "Epoch 13/100\n",
            "16/16 [==============================] - 8s 541ms/step - loss: 0.6157 - acc: 0.6377 - val_loss: 0.6005 - val_acc: 0.6523\n",
            "Epoch 14/100\n",
            "16/16 [==============================] - 8s 530ms/step - loss: 0.6379 - acc: 0.6183 - val_loss: 0.5944 - val_acc: 0.6719\n",
            "Epoch 15/100\n",
            "16/16 [==============================] - 8s 538ms/step - loss: 0.6120 - acc: 0.6347 - val_loss: 0.6253 - val_acc: 0.6406\n",
            "Epoch 16/100\n",
            "16/16 [==============================] - 8s 534ms/step - loss: 0.6169 - acc: 0.6277 - val_loss: 0.6000 - val_acc: 0.6719\n",
            "Epoch 17/100\n",
            "16/16 [==============================] - 8s 536ms/step - loss: 0.6313 - acc: 0.6188 - val_loss: 0.6300 - val_acc: 0.6172\n",
            "Epoch 18/100\n",
            "16/16 [==============================] - 8s 540ms/step - loss: 0.6272 - acc: 0.6279 - val_loss: 0.5993 - val_acc: 0.6641\n",
            "Epoch 19/100\n",
            "16/16 [==============================] - 9s 626ms/step - loss: 0.6260 - acc: 0.6272 - val_loss: 0.5963 - val_acc: 0.6797\n",
            "Epoch 20/100\n",
            "16/16 [==============================] - 8s 532ms/step - loss: 0.6249 - acc: 0.6357 - val_loss: 0.6132 - val_acc: 0.6230\n",
            "Epoch 21/100\n",
            "16/16 [==============================] - 8s 535ms/step - loss: 0.6299 - acc: 0.6327 - val_loss: 0.6042 - val_acc: 0.6641\n",
            "Epoch 22/100\n",
            "16/16 [==============================] - 8s 530ms/step - loss: 0.6245 - acc: 0.6282 - val_loss: 0.6100 - val_acc: 0.6406\n",
            "Epoch 23/100\n",
            "16/16 [==============================] - 8s 538ms/step - loss: 0.6319 - acc: 0.6277 - val_loss: 0.6092 - val_acc: 0.6348\n",
            "Epoch 24/100\n",
            "16/16 [==============================] - 8s 536ms/step - loss: 0.6311 - acc: 0.6262 - val_loss: 0.6176 - val_acc: 0.6250\n",
            "Epoch 25/100\n",
            "16/16 [==============================] - 8s 536ms/step - loss: 0.6273 - acc: 0.6332 - val_loss: 0.5978 - val_acc: 0.6621\n",
            "Epoch 26/100\n",
            "16/16 [==============================] - 8s 533ms/step - loss: 0.6339 - acc: 0.6248 - val_loss: 0.5981 - val_acc: 0.6562\n",
            "Epoch 27/100\n",
            "16/16 [==============================] - 8s 540ms/step - loss: 0.6392 - acc: 0.6307 - val_loss: 0.6008 - val_acc: 0.6562\n",
            "Epoch 28/100\n",
            "16/16 [==============================] - 8s 537ms/step - loss: 0.6238 - acc: 0.6461 - val_loss: 0.6215 - val_acc: 0.6250\n",
            "Epoch 29/100\n",
            "16/16 [==============================] - 8s 539ms/step - loss: 0.6217 - acc: 0.6352 - val_loss: 0.6067 - val_acc: 0.6367\n",
            "Epoch 30/100\n",
            "16/16 [==============================] - 8s 532ms/step - loss: 0.6342 - acc: 0.6233 - val_loss: 0.6142 - val_acc: 0.6562\n",
            "Epoch 31/100\n",
            "16/16 [==============================] - 8s 536ms/step - loss: 0.6198 - acc: 0.6382 - val_loss: 0.6225 - val_acc: 0.6113\n",
            "Epoch 32/100\n",
            "16/16 [==============================] - 8s 536ms/step - loss: 0.6269 - acc: 0.6238 - val_loss: 0.5925 - val_acc: 0.6914\n",
            "Epoch 33/100\n",
            "16/16 [==============================] - 8s 535ms/step - loss: 0.6267 - acc: 0.6417 - val_loss: 0.6119 - val_acc: 0.6699\n"
          ]
        }
      ]
    },
    {
      "cell_type": "code",
      "execution_count": null,
      "metadata": {
        "id": "RGQJFzOUL-jf"
      },
      "outputs": [],
      "source": [
        "siamese.save(os.path.join(MODEL_BASELINE_PATH,'baseline_model3.h5'))"
      ]
    },
    {
      "cell_type": "code",
      "source": [
        "plt_a = plot_acc(history)\n",
        "plt_a.savefig(os.path.join(PLOTS_PATH, 'benmal_acc_3.png'))\n",
        "plt_a.show()"
      ],
      "metadata": {
        "colab": {
          "base_uri": "https://localhost:8080/",
          "height": 281
        },
        "outputId": "13c77625-97cc-4ae9-d043-62989ef29151",
        "id": "VbIvbgePL-jf"
      },
      "execution_count": null,
      "outputs": [
        {
          "output_type": "display_data",
          "data": {
            "image/png": "[encoded data removed]",
            "text/plain": [
              "<Figure size 432x288 with 1 Axes>"
            ]
          },
          "metadata": {
            "needs_background": "light"
          }
        }
      ]
    },
    {
      "cell_type": "code",
      "source": [
        "plt_a = plot_loss(history)\n",
        "#save & show plot\n",
        "plt_a.savefig(os.path.join(PLOTS_PATH, 'benmal_loss_3.png'))\n",
        "plt_a.show()"
      ],
      "metadata": {
        "colab": {
          "base_uri": "https://localhost:8080/",
          "height": 281
        },
        "outputId": "f1baa696-0202-429d-9e21-52fdc0f828ff",
        "id": "eTSkW-l0L-jg"
      },
      "execution_count": null,
      "outputs": [
        {
          "output_type": "display_data",
          "data": {
            "image/png": "[encoded data removed]",
            "text/plain": [
              "<Figure size 432x288 with 1 Axes>"
            ]
          },
          "metadata": {
            "needs_background": "light"
          }
        }
      ]
    },
    {
      "cell_type": "code",
      "execution_count": null,
      "metadata": {
        "colab": {
          "base_uri": "https://localhost:8080/"
        },
        "outputId": "1626214e-6d8a-4eb2-c3b7-01e4c738adfa",
        "id": "rvWa9GgsL-jg"
      },
      "outputs": [
        {
          "output_type": "stream",
          "name": "stdout",
          "text": [
            "Epoch [end]: 33\n",
            "Epoch [opt]: 32\n",
            "Valid accuracy [end]: 0.6699\n",
            "Valid accuracy [opt]: 0.6914\n",
            "Valid loss [end]: 0.6119\n",
            "Valid loss [opt]: 0.5925\n"
          ]
        }
      ],
      "source": [
        "print_opt_results(history)"
      ]
    },
    {
      "cell_type": "code",
      "source": [
        "test_loss, test_accuracy = siamese.evaluate(test_generator, steps=int(0.8*2676) // 128)\n",
        "\n",
        "print(\"\\n---------------------------------\")\n",
        "print(\"Accuracy:\", \"%0.2f\" % (test_accuracy*100), \"%\")\n",
        "print(\"Loss:\", \"%0.2f\" % (test_loss))\n",
        "print(\"---------------------------------\\n\")"
      ],
      "metadata": {
        "colab": {
          "base_uri": "https://localhost:8080/"
        },
        "outputId": "25a97670-a78a-4ddb-9e9e-c4feea60caba",
        "id": "JqItHXK6L-jg"
      },
      "execution_count": null,
      "outputs": [
        {
          "output_type": "stream",
          "name": "stdout",
          "text": [
            "16/16 [==============================] - 6s 410ms/step - loss: 0.6628 - acc: 0.5973\n",
            "\n",
            "---------------------------------\n",
            "Accuracy: 59.73 %\n",
            "Loss: 0.66\n",
            "---------------------------------\n",
            "\n"
          ]
        }
      ]
    },
    {
      "cell_type": "code",
      "execution_count": null,
      "metadata": {
        "id": "cuq_JtgLL-jg"
      },
      "outputs": [],
      "source": [
        "#test_model(siamese)"
      ]
    },
    {
      "cell_type": "code",
      "source": [
        "model_best=siamese"
      ],
      "metadata": {
        "id": "WJlCRcbUL-jg"
      },
      "execution_count": null,
      "outputs": []
    },
    {
      "cell_type": "code",
      "source": [
        "model_best=load_model(os.path.join(base_path, \"models/Baseline/calcmasses_model1.h5\"))"
      ],
      "metadata": {
        "id": "pCYyYc93L-jg"
      },
      "execution_count": null,
      "outputs": []
    },
    {
      "cell_type": "code",
      "source": [
        "print(test_images.shape)"
      ],
      "metadata": {
        "colab": {
          "base_uri": "https://localhost:8080/"
        },
        "outputId": "983743a5-e007-43cc-ed54-e6ca308c28eb",
        "id": "IMJi0ubVL-jg"
      },
      "execution_count": null,
      "outputs": [
        {
          "output_type": "stream",
          "name": "stdout",
          "text": [
            "(672, 150, 150)\n"
          ]
        }
      ]
    },
    {
      "cell_type": "code",
      "execution_count": null,
      "metadata": {
        "colab": {
          "base_uri": "https://localhost:8080/",
          "height": 571
        },
        "outputId": "b0e3f7ba-4e20-4683-d19f-334ef5803ca1",
        "id": "g0pysLBYL-jg"
      },
      "outputs": [
        {
          "output_type": "stream",
          "name": "stdout",
          "text": [
            "(336,)\n",
            "(672, 150, 150)\n",
            "(336, 1)\n",
            "(336, 1)\n",
            "Confusion Matrix\n",
            "              precision    recall  f1-score   support\n",
            "\n",
            "         0.0       0.64      0.47      0.54       219\n",
            "         1.0       0.33      0.50      0.40       117\n",
            "\n",
            "    accuracy                           0.48       336\n",
            "   macro avg       0.48      0.48      0.47       336\n",
            "weighted avg       0.53      0.48      0.49       336\n",
            "\n"
          ]
        },
        {
          "output_type": "execute_result",
          "data": {
            "text/plain": [
              "Text(0.5, -6.819805153394636, 'Predicted label')"
            ]
          },
          "metadata": {},
          "execution_count": 51
        },
        {
          "output_type": "display_data",
          "data": {
            "image/png": "[encoded data removed]",
            "text/plain": [
              "<Figure size 432x288 with 2 Axes>"
            ]
          },
          "metadata": {
            "needs_background": "light"
          }
        }
      ],
      "source": [
        "classes = [\"Benign\", \"Malign\"]\n",
        "#Y_pred = model_best.predict(test_images,\n",
        "#                            test_labels,\n",
        "#                            batch_size=BATCH_SIZE+2,\n",
        "#                            shuffle=False),\n",
        "#                            steps=int(336//128+1))\n",
        "Y_pred = model_best.predict(test_generator,steps=int(336//128+1))#steps=int(336//128+1))\n",
        "\n",
        "y_pred = np.where(Y_pred < 0.5, 0, 1)\n",
        "\n",
        "print(test_labels.shape)\n",
        "print(test_images.shape)\n",
        "print(Y_pred.shape)\n",
        "print(y_pred.shape)\n",
        "\n",
        "print('Confusion Matrix')\n",
        "cm = confusion_matrix(test_labels, y_pred)\n",
        "\n",
        "#print(cm)\n",
        "#print('Classification Report')\n",
        "print(classification_report(test_labels, y_pred))\n",
        "\n",
        "plt.imshow(cm, interpolation='nearest', cmap=plt.cm.Blues)\n",
        "plt.title(\"Confusione Matrix\")\n",
        "plt.colorbar()\n",
        "tick_marks = np.arange(len(classes))\n",
        "plt.xticks(tick_marks, classes, rotation=45)\n",
        "plt.yticks(tick_marks, classes)\n",
        "\n",
        "#print(cm)\n",
        "\n",
        "thresh = cm.max() / 2.\n",
        "for i, j in itertools.product(range(cm.shape[0]), range(cm.shape[1])):\n",
        "    plt.text(j, i, cm[i, j],\n",
        "        horizontalalignment=\"center\",\n",
        "        color=\"black\" if cm[i, j] > thresh else \"black\")\n",
        "        #color=\"black\")\n",
        "\n",
        "plt.tight_layout()\n",
        "plt.ylabel('True label')\n",
        "plt.xlabel('Predicted label')\n"
      ]
    },
    {
      "cell_type": "code",
      "execution_count": null,
      "metadata": {
        "id": "YWIHb4v3L-jg"
      },
      "outputs": [],
      "source": [
        "fpr,tpr,th = roc_curve(test_labels, Y_pred)\n",
        "\n",
        "roc_auc = roc_auc_score(test_labels, Y_pred)"
      ]
    },
    {
      "cell_type": "code",
      "execution_count": null,
      "metadata": {
        "colab": {
          "base_uri": "https://localhost:8080/",
          "height": 295
        },
        "outputId": "c351ad01-7d7c-4ede-c888-85a1fea2ff17",
        "id": "5HrnL7BLL-jg"
      },
      "outputs": [
        {
          "output_type": "display_data",
          "data": {
            "image/png": "[encoded data removed]",
            "text/plain": [
              "<Figure size 432x288 with 1 Axes>"
            ]
          },
          "metadata": {
            "needs_background": "light"
          }
        }
      ],
      "source": [
        "plt.title('Receiver Operating Characteristic')\n",
        "plt.plot(fpr, tpr, 'b', label = 'AUC = %0.2f' % roc_auc)\n",
        "plt.legend(loc = 'lower right')\n",
        "plt.plot([0, 1], [0, 1],'r--')\n",
        "plt.xlim([0, 1])\n",
        "plt.ylim([0, 1])\n",
        "plt.ylabel('True Positive Rate')\n",
        "plt.xlabel('False Positive Rate')\n",
        "plt.show()"
      ]
    },
    {
      "cell_type": "markdown",
      "source": [
        "##Model 9 Pretrained"
      ],
      "metadata": {
        "id": "oQn7BGt9L-jg"
      }
    },
    {
      "cell_type": "code",
      "source": [
        "from keras.models import Model\n",
        "from tensorflow.keras.utils import plot_model\n",
        "\n",
        "INPUT_SHAPE = (150, 150, 3)\n",
        "\n",
        "pretrained = models.load_model(os.path.join(MODEL_PRETRAINED_PATH, 'benmal_inceptionv3_model9.h5'))\n",
        "  \n",
        "pretrained.trainable = False\n",
        "\n",
        "x = pretrained.layers[-2].output\n",
        "output = layers.Dense(128, activation='relu', name='extractor')(x)\n",
        "cnn = Model(pretrained.input, output)\n",
        "\n",
        "# Feed both input into the same convolutional base\n",
        "left_input = layers.Input(shape=INPUT_SHAPE)\n",
        "right_input = layers.Input(shape=INPUT_SHAPE)\n",
        "\n",
        "left_model = cnn(left_input)\n",
        "right_model = cnn(right_input)\n",
        "\n",
        "# Compute the difference between the two\n",
        "L1_layer = layers.Lambda(lambda tensors:K.abs(tensors[0] - tensors[1]))\n",
        "L1_distance = L1_layer([left_model, right_model])\n",
        "\n",
        "# FC layer\n",
        "# Add a dense layer with a sigmoid unit to generate the prediction\n",
        "prediction = layers.Dense(1, activation='sigmoid')(L1_distance)\n",
        "\n",
        "# Instantiate the model\n",
        "siamese = models.Model(inputs=[left_input, right_input], outputs=prediction)\n",
        "\n",
        "siamese.summary()"
      ],
      "metadata": {
        "colab": {
          "base_uri": "https://localhost:8080/"
        },
        "id": "V6t_cnLIL-jg",
        "outputId": "b1bfed43-8a4f-4d26-e2ad-808a59d11254"
      },
      "execution_count": null,
      "outputs": [
        {
          "output_type": "stream",
          "name": "stdout",
          "text": [
            "Model: \"model_8\"\n",
            "__________________________________________________________________________________________________\n",
            " Layer (type)                   Output Shape         Param #     Connected to                     \n",
            "==================================================================================================\n",
            " input_11 (InputLayer)          [(None, 150, 150, 3  0           []                               \n",
            "                                )]                                                                \n",
            "                                                                                                  \n",
            " input_12 (InputLayer)          [(None, 150, 150, 3  0           []                               \n",
            "                                )]                                                                \n",
            "                                                                                                  \n",
            " model_7 (Functional)           (None, 128)          24178720    ['input_11[0][0]',               \n",
            "                                                                  'input_12[0][0]']               \n",
            "                                                                                                  \n",
            " lambda_2 (Lambda)              (None, 128)          0           ['model_7[0][0]',                \n",
            "                                                                  'model_7[1][0]']                \n",
            "                                                                                                  \n",
            " dense_2 (Dense)                (None, 1)            129         ['lambda_2[0][0]']               \n",
            "                                                                                                  \n",
            "==================================================================================================\n",
            "Total params: 24,178,849\n",
            "Trainable params: 16,641\n",
            "Non-trainable params: 24,162,208\n",
            "__________________________________________________________________________________________________\n"
          ]
        }
      ]
    },
    {
      "cell_type": "code",
      "source": [
        "callback=earlyStop(25)"
      ],
      "metadata": {
        "id": "A5J3erBcL-jg"
      },
      "execution_count": null,
      "outputs": []
    },
    {
      "cell_type": "code",
      "source": [
        "BATCH_SIZE=64"
      ],
      "metadata": {
        "id": "BePvDJdML-jh"
      },
      "execution_count": null,
      "outputs": []
    },
    {
      "cell_type": "code",
      "source": [
        "siamese.compile(loss=\"binary_crossentropy\",\n",
        "            optimizer=optimizers.RMSprop(learning_rate=1e-3),\n",
        "            metrics=['acc']) "
      ],
      "metadata": {
        "id": "qt97bP2gL-jh"
      },
      "execution_count": null,
      "outputs": []
    },
    {
      "cell_type": "code",
      "source": [
        "history = siamese.fit(\n",
        "        train_generator,\n",
        "        steps_per_epoch=len(train_datasetabn_split) // BATCH_SIZE,\n",
        "        epochs=100,\n",
        "        validation_data=validation_generator,\n",
        "        validation_steps = len(valid_datasetabn_split) // BATCH_SIZE,\n",
        "        callbacks=[callback],\n",
        "        shuffle=True,\n",
        "        verbose=1)"
      ],
      "metadata": {
        "colab": {
          "base_uri": "https://localhost:8080/"
        },
        "outputId": "07cedf1d-8793-42e0-f7d4-eede73a65123",
        "id": "iPEObp9cL-jh"
      },
      "execution_count": null,
      "outputs": [
        {
          "output_type": "stream",
          "name": "stdout",
          "text": [
            "Epoch 1/100\n",
            "33/33 [==============================] - 82s 2s/step - loss: 1.4129 - acc: 0.5907 - val_loss: 0.8681 - val_acc: 0.6228\n",
            "Epoch 2/100\n",
            "33/33 [==============================] - 64s 2s/step - loss: 0.8983 - acc: 0.6392 - val_loss: 0.8314 - val_acc: 0.6311\n",
            "Epoch 3/100\n",
            "33/33 [==============================] - 55s 2s/step - loss: 0.8334 - acc: 0.6351 - val_loss: 0.7456 - val_acc: 0.6458\n",
            "Epoch 4/100\n",
            "33/33 [==============================] - 47s 1s/step - loss: 0.8239 - acc: 0.6443 - val_loss: 0.6952 - val_acc: 0.6569\n",
            "Epoch 5/100\n",
            "33/33 [==============================] - 53s 2s/step - loss: 0.8445 - acc: 0.6440 - val_loss: 0.7866 - val_acc: 0.6326\n",
            "Epoch 6/100\n",
            "33/33 [==============================] - 48s 1s/step - loss: 0.7586 - acc: 0.6431 - val_loss: 0.6763 - val_acc: 0.6826\n",
            "Epoch 7/100\n",
            "33/33 [==============================] - 47s 1s/step - loss: 0.7579 - acc: 0.6537 - val_loss: 0.6842 - val_acc: 0.6532\n",
            "Epoch 8/100\n",
            "33/33 [==============================] - 47s 1s/step - loss: 0.7626 - acc: 0.6344 - val_loss: 0.6607 - val_acc: 0.6311\n",
            "Epoch 9/100\n",
            "33/33 [==============================] - 47s 1s/step - loss: 0.7737 - acc: 0.6390 - val_loss: 0.6664 - val_acc: 0.6605\n",
            "Epoch 10/100\n",
            "33/33 [==============================] - 47s 1s/step - loss: 0.7345 - acc: 0.6479 - val_loss: 0.7641 - val_acc: 0.6707\n",
            "Epoch 11/100\n",
            "33/33 [==============================] - 47s 1s/step - loss: 0.7198 - acc: 0.6570 - val_loss: 0.6485 - val_acc: 0.6478\n",
            "Epoch 12/100\n",
            "33/33 [==============================] - 47s 1s/step - loss: 0.7259 - acc: 0.6395 - val_loss: 0.6662 - val_acc: 0.6691\n",
            "Epoch 13/100\n",
            "33/33 [==============================] - 47s 1s/step - loss: 0.6846 - acc: 0.6525 - val_loss: 0.6355 - val_acc: 0.6667\n",
            "Epoch 14/100\n",
            "33/33 [==============================] - 47s 1s/step - loss: 0.7004 - acc: 0.6698 - val_loss: 0.8712 - val_acc: 0.5784\n",
            "Epoch 15/100\n",
            "33/33 [==============================] - 47s 1s/step - loss: 0.7323 - acc: 0.6553 - val_loss: 0.6672 - val_acc: 0.6674\n",
            "Epoch 16/100\n",
            "33/33 [==============================] - 47s 1s/step - loss: 0.6886 - acc: 0.6527 - val_loss: 0.6381 - val_acc: 0.6674\n",
            "Epoch 17/100\n",
            "33/33 [==============================] - 46s 1s/step - loss: 0.6738 - acc: 0.6606 - val_loss: 0.6206 - val_acc: 0.6618\n",
            "Epoch 18/100\n",
            "33/33 [==============================] - 47s 1s/step - loss: 0.6815 - acc: 0.6588 - val_loss: 0.6371 - val_acc: 0.6483\n",
            "Epoch 19/100\n",
            "33/33 [==============================] - 47s 1s/step - loss: 0.6703 - acc: 0.6597 - val_loss: 0.7078 - val_acc: 0.6250\n",
            "Epoch 20/100\n",
            "33/33 [==============================] - 47s 1s/step - loss: 0.6265 - acc: 0.6700 - val_loss: 0.6604 - val_acc: 0.6522\n",
            "Epoch 21/100\n",
            "33/33 [==============================] - 48s 1s/step - loss: 0.6564 - acc: 0.6669 - val_loss: 0.6274 - val_acc: 0.6663\n",
            "Epoch 22/100\n",
            "33/33 [==============================] - 47s 1s/step - loss: 0.6497 - acc: 0.6693 - val_loss: 0.6389 - val_acc: 0.6532\n",
            "Epoch 23/100\n",
            "33/33 [==============================] - 47s 1s/step - loss: 0.6563 - acc: 0.6686 - val_loss: 0.6762 - val_acc: 0.6446\n",
            "Epoch 24/100\n",
            "33/33 [==============================] - 47s 1s/step - loss: 0.6165 - acc: 0.6811 - val_loss: 0.6127 - val_acc: 0.6495\n",
            "Epoch 25/100\n",
            "33/33 [==============================] - 46s 1s/step - loss: 0.6362 - acc: 0.6696 - val_loss: 0.6519 - val_acc: 0.6663\n",
            "Epoch 26/100\n",
            "33/33 [==============================] - 47s 1s/step - loss: 0.6343 - acc: 0.6662 - val_loss: 0.5949 - val_acc: 0.6739\n",
            "Epoch 27/100\n",
            "33/33 [==============================] - 47s 1s/step - loss: 0.6360 - acc: 0.6674 - val_loss: 0.6148 - val_acc: 0.6642\n",
            "Epoch 28/100\n",
            "33/33 [==============================] - 47s 1s/step - loss: 0.6110 - acc: 0.6650 - val_loss: 0.6215 - val_acc: 0.6667\n",
            "Epoch 29/100\n",
            "33/33 [==============================] - 47s 1s/step - loss: 0.6211 - acc: 0.6693 - val_loss: 0.6013 - val_acc: 0.6630\n",
            "Epoch 30/100\n",
            "33/33 [==============================] - 47s 1s/step - loss: 0.6339 - acc: 0.6727 - val_loss: 0.6069 - val_acc: 0.6707\n",
            "Epoch 31/100\n",
            "33/33 [==============================] - 48s 1s/step - loss: 0.6366 - acc: 0.6693 - val_loss: 0.5964 - val_acc: 0.6554\n",
            "Epoch 32/100\n",
            "33/33 [==============================] - 47s 1s/step - loss: 0.6181 - acc: 0.6780 - val_loss: 0.6147 - val_acc: 0.6691\n",
            "Epoch 33/100\n",
            "33/33 [==============================] - 47s 1s/step - loss: 0.6198 - acc: 0.6655 - val_loss: 0.6154 - val_acc: 0.6667\n",
            "Epoch 34/100\n",
            "33/33 [==============================] - 47s 1s/step - loss: 0.6110 - acc: 0.6775 - val_loss: 0.5775 - val_acc: 0.6924\n",
            "Epoch 35/100\n",
            "33/33 [==============================] - 47s 1s/step - loss: 0.6010 - acc: 0.6922 - val_loss: 0.5889 - val_acc: 0.6902\n",
            "Epoch 36/100\n",
            "33/33 [==============================] - 48s 1s/step - loss: 0.6204 - acc: 0.6688 - val_loss: 0.5832 - val_acc: 0.6880\n",
            "Epoch 37/100\n",
            "33/33 [==============================] - 46s 1s/step - loss: 0.6199 - acc: 0.6737 - val_loss: 0.5853 - val_acc: 0.6887\n",
            "Epoch 38/100\n",
            "33/33 [==============================] - 47s 1s/step - loss: 0.5907 - acc: 0.6785 - val_loss: 0.5906 - val_acc: 0.6924\n",
            "Epoch 39/100\n",
            "33/33 [==============================] - 46s 1s/step - loss: 0.6349 - acc: 0.6650 - val_loss: 0.6007 - val_acc: 0.6703\n",
            "Epoch 40/100\n",
            "33/33 [==============================] - 47s 1s/step - loss: 0.5923 - acc: 0.6720 - val_loss: 0.5746 - val_acc: 0.6978\n",
            "Epoch 41/100\n",
            "33/33 [==============================] - 48s 1s/step - loss: 0.6058 - acc: 0.6842 - val_loss: 0.5933 - val_acc: 0.6641\n",
            "Epoch 42/100\n",
            "33/33 [==============================] - 47s 1s/step - loss: 0.6032 - acc: 0.6737 - val_loss: 0.5841 - val_acc: 0.6801\n",
            "Epoch 43/100\n",
            "33/33 [==============================] - 47s 1s/step - loss: 0.5913 - acc: 0.6855 - val_loss: 0.5950 - val_acc: 0.6703\n",
            "Epoch 44/100\n",
            "33/33 [==============================] - 46s 1s/step - loss: 0.6194 - acc: 0.6763 - val_loss: 0.5866 - val_acc: 0.6961\n",
            "Epoch 45/100\n",
            "33/33 [==============================] - 47s 1s/step - loss: 0.5912 - acc: 0.6920 - val_loss: 0.5924 - val_acc: 0.6641\n",
            "Epoch 46/100\n",
            "33/33 [==============================] - 47s 1s/step - loss: 0.5955 - acc: 0.6852 - val_loss: 0.6036 - val_acc: 0.6620\n",
            "Epoch 47/100\n",
            "33/33 [==============================] - 46s 1s/step - loss: 0.5904 - acc: 0.6753 - val_loss: 0.5878 - val_acc: 0.6826\n",
            "Epoch 48/100\n",
            "33/33 [==============================] - 47s 1s/step - loss: 0.5877 - acc: 0.6684 - val_loss: 0.5824 - val_acc: 0.6801\n",
            "Epoch 49/100\n",
            "33/33 [==============================] - 48s 2s/step - loss: 0.5894 - acc: 0.6881 - val_loss: 0.6106 - val_acc: 0.6581\n",
            "Epoch 50/100\n",
            "33/33 [==============================] - 49s 2s/step - loss: 0.5864 - acc: 0.6859 - val_loss: 0.5672 - val_acc: 0.6837\n",
            "Epoch 51/100\n",
            "33/33 [==============================] - 48s 1s/step - loss: 0.5981 - acc: 0.6746 - val_loss: 0.5666 - val_acc: 0.6859\n",
            "Epoch 52/100\n",
            "33/33 [==============================] - 47s 1s/step - loss: 0.5870 - acc: 0.6894 - val_loss: 0.5895 - val_acc: 0.6789\n",
            "Epoch 53/100\n",
            "33/33 [==============================] - 47s 1s/step - loss: 0.5807 - acc: 0.6862 - val_loss: 0.5694 - val_acc: 0.6949\n",
            "Epoch 54/100\n",
            "33/33 [==============================] - 47s 1s/step - loss: 0.5810 - acc: 0.6864 - val_loss: 0.5626 - val_acc: 0.7022\n",
            "Epoch 55/100\n",
            "33/33 [==============================] - 47s 1s/step - loss: 0.5982 - acc: 0.6852 - val_loss: 0.5888 - val_acc: 0.6761\n",
            "Epoch 56/100\n",
            "33/33 [==============================] - 48s 1s/step - loss: 0.5970 - acc: 0.6739 - val_loss: 0.5842 - val_acc: 0.6685\n",
            "Epoch 57/100\n",
            "33/33 [==============================] - 47s 1s/step - loss: 0.5793 - acc: 0.6898 - val_loss: 0.5565 - val_acc: 0.7022\n",
            "Epoch 58/100\n",
            "33/33 [==============================] - 47s 1s/step - loss: 0.5708 - acc: 0.6939 - val_loss: 0.6258 - val_acc: 0.6654\n",
            "Epoch 59/100\n",
            "33/33 [==============================] - 47s 1s/step - loss: 0.5654 - acc: 0.6944 - val_loss: 0.5937 - val_acc: 0.7010\n",
            "Epoch 60/100\n",
            "33/33 [==============================] - 47s 1s/step - loss: 0.5879 - acc: 0.6845 - val_loss: 0.5677 - val_acc: 0.6859\n",
            "Epoch 61/100\n",
            "33/33 [==============================] - 48s 1s/step - loss: 0.5736 - acc: 0.6893 - val_loss: 0.5781 - val_acc: 0.6924\n",
            "Epoch 62/100\n",
            "33/33 [==============================] - 47s 1s/step - loss: 0.5689 - acc: 0.7006 - val_loss: 0.5819 - val_acc: 0.6850\n",
            "Epoch 63/100\n",
            "33/33 [==============================] - 47s 1s/step - loss: 0.5766 - acc: 0.6934 - val_loss: 0.5841 - val_acc: 0.6691\n",
            "Epoch 64/100\n",
            "33/33 [==============================] - 47s 1s/step - loss: 0.5848 - acc: 0.6895 - val_loss: 0.6030 - val_acc: 0.6642\n",
            "Epoch 65/100\n",
            "33/33 [==============================] - 47s 1s/step - loss: 0.5665 - acc: 0.7038 - val_loss: 0.5647 - val_acc: 0.6978\n",
            "Epoch 66/100\n",
            "33/33 [==============================] - 48s 1s/step - loss: 0.5680 - acc: 0.6973 - val_loss: 0.5778 - val_acc: 0.6837\n",
            "Epoch 67/100\n",
            "33/33 [==============================] - 47s 1s/step - loss: 0.5849 - acc: 0.6874 - val_loss: 0.5727 - val_acc: 0.6850\n",
            "Epoch 68/100\n",
            "33/33 [==============================] - 46s 1s/step - loss: 0.5764 - acc: 0.6879 - val_loss: 0.5413 - val_acc: 0.7267\n",
            "Epoch 69/100\n",
            "33/33 [==============================] - 47s 1s/step - loss: 0.5825 - acc: 0.6894 - val_loss: 0.5753 - val_acc: 0.6740\n",
            "Epoch 70/100\n",
            "33/33 [==============================] - 47s 1s/step - loss: 0.5776 - acc: 0.6900 - val_loss: 0.5748 - val_acc: 0.6848\n",
            "Epoch 71/100\n",
            "33/33 [==============================] - 47s 1s/step - loss: 0.5791 - acc: 0.6864 - val_loss: 0.5868 - val_acc: 0.6674\n",
            "Epoch 72/100\n",
            "33/33 [==============================] - 46s 1s/step - loss: 0.5882 - acc: 0.6741 - val_loss: 0.5603 - val_acc: 0.6973\n",
            "Epoch 73/100\n",
            "33/33 [==============================] - 47s 1s/step - loss: 0.5672 - acc: 0.6912 - val_loss: 0.5898 - val_acc: 0.6740\n",
            "Epoch 74/100\n",
            "33/33 [==============================] - 47s 1s/step - loss: 0.5775 - acc: 0.6917 - val_loss: 0.5798 - val_acc: 0.6740\n",
            "Epoch 75/100\n",
            "33/33 [==============================] - 47s 1s/step - loss: 0.5786 - acc: 0.6838 - val_loss: 0.5747 - val_acc: 0.6859\n",
            "Epoch 76/100\n",
            "33/33 [==============================] - 48s 1s/step - loss: 0.5795 - acc: 0.6951 - val_loss: 0.5740 - val_acc: 0.7000\n",
            "Epoch 77/100\n",
            "33/33 [==============================] - 47s 1s/step - loss: 0.5627 - acc: 0.6917 - val_loss: 0.5885 - val_acc: 0.6826\n",
            "Epoch 78/100\n",
            "33/33 [==============================] - 47s 1s/step - loss: 0.5742 - acc: 0.6970 - val_loss: 0.5677 - val_acc: 0.6814\n",
            "Epoch 79/100\n",
            "33/33 [==============================] - 47s 1s/step - loss: 0.5842 - acc: 0.6929 - val_loss: 0.6271 - val_acc: 0.6728\n",
            "Epoch 80/100\n",
            "33/33 [==============================] - 47s 1s/step - loss: 0.5751 - acc: 0.6915 - val_loss: 0.5803 - val_acc: 0.6815\n",
            "Epoch 81/100\n",
            "33/33 [==============================] - 48s 1s/step - loss: 0.5832 - acc: 0.6797 - val_loss: 0.5804 - val_acc: 0.6641\n",
            "Epoch 82/100\n",
            "33/33 [==============================] - 47s 1s/step - loss: 0.5848 - acc: 0.6823 - val_loss: 0.5828 - val_acc: 0.6949\n",
            "Epoch 83/100\n",
            "33/33 [==============================] - 47s 1s/step - loss: 0.5664 - acc: 0.6987 - val_loss: 0.5899 - val_acc: 0.6605\n",
            "Epoch 84/100\n",
            "33/33 [==============================] - 47s 1s/step - loss: 0.5674 - acc: 0.6956 - val_loss: 0.5635 - val_acc: 0.6961\n",
            "Epoch 85/100\n",
            "33/33 [==============================] - 47s 1s/step - loss: 0.5674 - acc: 0.6927 - val_loss: 0.5743 - val_acc: 0.6804\n",
            "Epoch 86/100\n",
            "33/33 [==============================] - 48s 1s/step - loss: 0.5763 - acc: 0.6865 - val_loss: 0.5613 - val_acc: 0.6848\n",
            "Epoch 87/100\n",
            "33/33 [==============================] - 47s 1s/step - loss: 0.5709 - acc: 0.6881 - val_loss: 0.5630 - val_acc: 0.6961\n",
            "Epoch 88/100\n",
            "33/33 [==============================] - 47s 1s/step - loss: 0.5677 - acc: 0.6922 - val_loss: 0.5657 - val_acc: 0.6949\n",
            "Epoch 89/100\n",
            "33/33 [==============================] - 47s 1s/step - loss: 0.5691 - acc: 0.6968 - val_loss: 0.5423 - val_acc: 0.7341\n",
            "Epoch 90/100\n",
            "33/33 [==============================] - 47s 1s/step - loss: 0.5669 - acc: 0.6908 - val_loss: 0.5728 - val_acc: 0.7000\n",
            "Epoch 91/100\n",
            "33/33 [==============================] - 48s 1s/step - loss: 0.5716 - acc: 0.6828 - val_loss: 0.5788 - val_acc: 0.6957\n",
            "Epoch 92/100\n",
            "33/33 [==============================] - 47s 1s/step - loss: 0.5699 - acc: 0.6951 - val_loss: 0.5746 - val_acc: 0.6752\n",
            "Epoch 93/100\n",
            "33/33 [==============================] - 47s 1s/step - loss: 0.5876 - acc: 0.6864 - val_loss: 0.5762 - val_acc: 0.7157\n"
          ]
        }
      ]
    },
    {
      "cell_type": "code",
      "execution_count": null,
      "metadata": {
        "id": "cieHpnL6L-jh"
      },
      "outputs": [],
      "source": [
        "siamese.save(os.path.join(MODEL_BASELINE_PATH,'benmal_model4.h5'))"
      ]
    },
    {
      "cell_type": "code",
      "source": [
        "plt_a = plot_acc(history)\n",
        "plt_a.savefig(os.path.join(PLOTS_PATH, 'benmal_acc_4.png'))\n",
        "plt_a.show()"
      ],
      "metadata": {
        "colab": {
          "base_uri": "https://localhost:8080/",
          "height": 281
        },
        "outputId": "7951a883-4373-404b-f2c4-1bd591f75f9b",
        "id": "hkkedPjEoWVB"
      },
      "execution_count": null,
      "outputs": [
        {
          "output_type": "display_data",
          "data": {
            "image/png": "[encoded data removed]",
            "text/plain": [
              "<Figure size 432x288 with 1 Axes>"
            ]
          },
          "metadata": {
            "needs_background": "light"
          }
        }
      ]
    },
    {
      "cell_type": "code",
      "source": [
        "plt_a = plot_loss(history)\n",
        "plt_a.savefig(os.path.join(PLOTS_PATH, 'benmal_prec_4.png'))\n",
        "plt_a.show()"
      ],
      "metadata": {
        "colab": {
          "base_uri": "https://localhost:8080/",
          "height": 281
        },
        "outputId": "8cf25158-cae8-486a-af76-9cf4f6bbefae",
        "id": "rJTnLcsoL-jh"
      },
      "execution_count": null,
      "outputs": [
        {
          "output_type": "display_data",
          "data": {
            "image/png": "[encoded data removed]",
            "text/plain": [
              "<Figure size 432x288 with 1 Axes>"
            ]
          },
          "metadata": {
            "needs_background": "light"
          }
        }
      ]
    },
    {
      "cell_type": "code",
      "execution_count": null,
      "metadata": {
        "colab": {
          "base_uri": "https://localhost:8080/"
        },
        "outputId": "f6c3e20a-e27f-472c-f373-0cdcc40c8016",
        "id": "KaT8B3GhL-jh"
      },
      "outputs": [
        {
          "output_type": "stream",
          "name": "stdout",
          "text": [
            "Epoch [end]: 93\n",
            "Epoch [opt]: 89\n",
            "Valid accuracy [end]: 0.7157\n",
            "Valid accuracy [opt]: 0.7341\n",
            "Valid loss [end]: 0.5762\n",
            "Valid loss [opt]: 0.5423\n"
          ]
        }
      ],
      "source": [
        "print_opt_results(history)"
      ]
    },
    {
      "cell_type": "code",
      "source": [
        "test_loss, test_accuracy = siamese.evaluate(test_generator, steps=int(0.8*2676) // 128)\n",
        "\n",
        "print(\"\\n---------------------------------\")\n",
        "print(\"Accuracy:\", \"%0.2f\" % (test_accuracy*100), \"%\")\n",
        "print(\"Loss:\", \"%0.2f\" % (test_loss))\n",
        "print(\"---------------------------------\\n\")"
      ],
      "metadata": {
        "colab": {
          "base_uri": "https://localhost:8080/"
        },
        "outputId": "0674549f-2316-421b-9362-fbeb3fdd2743",
        "id": "ipuH4igyL-jh"
      },
      "execution_count": null,
      "outputs": [
        {
          "output_type": "stream",
          "name": "stdout",
          "text": [
            "16/16 [==============================] - 18s 1s/step - loss: 0.6105 - acc: 0.6659\n",
            "\n",
            "---------------------------------\n",
            "Accuracy: 66.59 %\n",
            "Loss: 0.61\n",
            "---------------------------------\n",
            "\n"
          ]
        }
      ]
    },
    {
      "cell_type": "code",
      "execution_count": null,
      "metadata": {
        "id": "FPi2PXafL-jh"
      },
      "outputs": [],
      "source": [
        "#test_model(siamese)"
      ]
    },
    {
      "cell_type": "code",
      "source": [
        "model_best=siamese"
      ],
      "metadata": {
        "id": "RqthMnvXL-jh"
      },
      "execution_count": null,
      "outputs": []
    },
    {
      "cell_type": "code",
      "execution_count": null,
      "metadata": {
        "colab": {
          "base_uri": "https://localhost:8080/",
          "height": 571
        },
        "outputId": "ccadb0f4-fd33-4359-e207-804754c0f44c",
        "id": "GdDZp55OL-jh"
      },
      "outputs": [
        {
          "output_type": "stream",
          "name": "stdout",
          "text": [
            "(336,)\n",
            "(672, 150, 150)\n",
            "(336, 1)\n",
            "(336, 1)\n",
            "Confusion Matrix\n",
            "              precision    recall  f1-score   support\n",
            "\n",
            "         0.0       0.63      0.61      0.62       219\n",
            "         1.0       0.31      0.33      0.32       117\n",
            "\n",
            "    accuracy                           0.51       336\n",
            "   macro avg       0.47      0.47      0.47       336\n",
            "weighted avg       0.52      0.51      0.52       336\n",
            "\n"
          ]
        },
        {
          "output_type": "execute_result",
          "data": {
            "text/plain": [
              "Text(0.5, -6.819805153394636, 'Predicted label')"
            ]
          },
          "metadata": {},
          "execution_count": 89
        },
        {
          "output_type": "display_data",
          "data": {
            "image/png": "[encoded data removed]",
            "text/plain": [
              "<Figure size 432x288 with 2 Axes>"
            ]
          },
          "metadata": {
            "needs_background": "light"
          }
        }
      ],
      "source": [
        "classes = [\"Benign\", \"Malign\"]\n",
        "Y_pred = model_best.predict(test_generator, steps=int(336//128+1))\n",
        "\n",
        "y_pred = np.where(Y_pred < 0.5, 0, 1)\n",
        "\n",
        "print(test_labels.shape)\n",
        "print(test_images.shape)\n",
        "print(Y_pred.shape)\n",
        "print(y_pred.shape)\n",
        "\n",
        "print('Confusion Matrix')\n",
        "cm = confusion_matrix(test_labels, y_pred)\n",
        "\n",
        "#print(cm)\n",
        "#print('Classification Report')\n",
        "print(classification_report(test_labels, y_pred))\n",
        "\n",
        "plt.imshow(cm, interpolation='nearest', cmap=plt.cm.Blues)\n",
        "plt.title(\"Confusione Matrix\")\n",
        "plt.colorbar()\n",
        "tick_marks = np.arange(len(classes))\n",
        "plt.xticks(tick_marks, classes, rotation=45)\n",
        "plt.yticks(tick_marks, classes)\n",
        "\n",
        "#print(cm)\n",
        "\n",
        "thresh = cm.max() / 2.\n",
        "for i, j in itertools.product(range(cm.shape[0]), range(cm.shape[1])):\n",
        "    plt.text(j, i, cm[i, j],\n",
        "        horizontalalignment=\"center\",\n",
        "        #color=\"white\" if cm[i, j] > thresh else \"black\")\n",
        "        color=\"black\")\n",
        "\n",
        "plt.tight_layout()\n",
        "plt.ylabel('True label')\n",
        "plt.xlabel('Predicted label')\n"
      ]
    },
    {
      "cell_type": "code",
      "execution_count": null,
      "metadata": {
        "id": "_0WFnoaYL-jh"
      },
      "outputs": [],
      "source": [
        "fpr,tpr,th = roc_curve(test_labels, Y_pred)\n",
        "\n",
        "roc_auc = roc_auc_score(test_labels, Y_pred)"
      ]
    },
    {
      "cell_type": "code",
      "execution_count": null,
      "metadata": {
        "colab": {
          "base_uri": "https://localhost:8080/",
          "height": 295
        },
        "outputId": "542883e7-ba0d-42b5-a504-2f2f02c8932c",
        "id": "VZOIFMerL-jh"
      },
      "outputs": [
        {
          "output_type": "display_data",
          "data": {
            "image/png": "[encoded data removed]",
            "text/plain": [
              "<Figure size 432x288 with 1 Axes>"
            ]
          },
          "metadata": {
            "needs_background": "light"
          }
        }
      ],
      "source": [
        "plt.title('Receiver Operating Characteristic')\n",
        "plt.plot(fpr, tpr, 'b', label = 'AUC = %0.2f' % roc_auc)\n",
        "plt.legend(loc = 'lower right')\n",
        "plt.plot([0, 1], [0, 1],'r--')\n",
        "plt.xlim([0, 1])\n",
        "plt.ylim([0, 1])\n",
        "plt.ylabel('True Positive Rate')\n",
        "plt.xlabel('False Positive Rate')\n",
        "plt.show()"
      ]
    }
  ],
  "metadata": {
    "accelerator": "GPU",
    "colab": {
      "collapsed_sections": [
        "1BPdoFtT4EGy",
        "Mvha-L4fZN_A"
      ],
      "name": "BaselineCNN.ipynb",
      "provenance": [],
      "include_colab_link": true
    },
    "kernelspec": {
      "display_name": "Python 3",
      "name": "python3"
    },
    "language_info": {
      "name": "python"
    }
  },
  "nbformat": 4,
  "nbformat_minor": 0
}